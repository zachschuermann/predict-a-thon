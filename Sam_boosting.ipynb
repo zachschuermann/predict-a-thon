{
 "cells": [
  {
   "cell_type": "code",
   "execution_count": 14,
   "metadata": {},
   "outputs": [],
   "source": [
    "import xgboost as xgb\n",
    "import pandas as pd\n",
    "import numpy as np\n",
    "import matplotlib.pyplot as plt\n",
    "from sklearn.model_selection import train_test_split\n",
    "from sklearn.preprocessing import LabelEncoder\n",
    "from sklearn.preprocessing import OneHotEncoder\n",
    "from sklearn.preprocessing import Binarizer\n",
    "from sklearn.metrics import f1_score"
   ]
  },
  {
   "cell_type": "code",
   "execution_count": 15,
   "metadata": {},
   "outputs": [],
   "source": [
    "### Constants\n",
    "seed = 69\n",
    "cv_size = .3"
   ]
  },
  {
   "cell_type": "code",
   "execution_count": 16,
   "metadata": {},
   "outputs": [],
   "source": [
    "train = pd.read_csv(\"data/Train.csv\", encoding=\"ISO-8859-1\")\n",
    "test = pd.read_csv(\"data/Test.csv\", encoding=\"ISO-8859-1\")\n"
   ]
  },
  {
   "cell_type": "code",
   "execution_count": 17,
   "metadata": {},
   "outputs": [
    {
     "name": "stdout",
     "output_type": "stream",
     "text": [
      "sessionId\n",
      "83578\n",
      "custId\n",
      "56700\n",
      "date\n",
      "366\n",
      "year\n",
      "2\n",
      "month\n",
      "12\n",
      "channelGrouping\n",
      "8\n",
      "visitStartTime\n",
      "83428\n",
      "visitNumber\n",
      "284\n",
      "timeSinceLastVisit\n",
      "24490\n",
      "browser\n",
      "29\n",
      "operatingSystem\n",
      "15\n",
      "isMobile\n",
      "2\n",
      "deviceCategory\n",
      "3\n",
      "continent\n",
      "5\n",
      "subContinent\n",
      "22\n",
      "country\n",
      "184\n",
      "region\n",
      "322\n",
      "metro\n",
      "73\n",
      "city\n",
      "501\n",
      "networkDomain\n",
      "5645\n",
      "topLevelDomain\n",
      "190\n",
      "campaign\n",
      "6\n",
      "source\n",
      "147\n",
      "medium\n",
      "5\n",
      "keyword\n",
      "474\n",
      "isTrueDirect\n",
      "2\n",
      "referralPath\n",
      "446\n",
      "adContent\n",
      "25\n",
      "adwordsClickInfo.page\n",
      "6\n",
      "adwordsClickInfo.slot\n",
      "2\n",
      "adwordsClickInfo.gclId\n",
      "1706\n",
      "adwordsClickInfo.adNetworkType\n",
      "1\n",
      "adwordsClickInfo.isVideoAd\n",
      "1\n",
      "hits\n",
      "207\n",
      "pageviews\n",
      "159\n",
      "bounces\n",
      "1\n",
      "newVisits\n",
      "1\n",
      "revenue\n",
      "3560\n"
     ]
    }
   ],
   "source": [
    "for each in train.columns:\n",
    "    print(each)\n",
    "    temp = train.groupby(each)[each].nunique()\n",
    "    print(len(temp))\n",
    "    \n",
    "# encode_cols = [\"month\", \"browser\", \"operatingSystem\", \"deviceCategory\", \"continent\", \n",
    "#               \"subContinent\", \"country\", \"region\", \"metro\", \"city\", \"medium\"]\n",
    "\n",
    "# other_cols = [\"visitNumber\",\"timeSinceLastVisit\" \"isMobile\", \"hits\", \"pageviews\", \"bounces\", \"newVisits\"]"
   ]
  },
  {
   "cell_type": "code",
   "execution_count": 21,
   "metadata": {},
   "outputs": [
    {
     "data": {
      "text/html": [
       "<div>\n",
       "<style scoped>\n",
       "    .dataframe tbody tr th:only-of-type {\n",
       "        vertical-align: middle;\n",
       "    }\n",
       "\n",
       "    .dataframe tbody tr th {\n",
       "        vertical-align: top;\n",
       "    }\n",
       "\n",
       "    .dataframe thead th {\n",
       "        text-align: right;\n",
       "    }\n",
       "</style>\n",
       "<table border=\"1\" class=\"dataframe\">\n",
       "  <thead>\n",
       "    <tr style=\"text-align: right;\">\n",
       "      <th></th>\n",
       "      <th>sessionId</th>\n",
       "      <th>custId</th>\n",
       "      <th>date</th>\n",
       "      <th>year</th>\n",
       "      <th>month</th>\n",
       "      <th>channelGrouping</th>\n",
       "      <th>visitStartTime</th>\n",
       "      <th>visitNumber</th>\n",
       "      <th>timeSinceLastVisit</th>\n",
       "      <th>browser</th>\n",
       "      <th>...</th>\n",
       "      <th>adwordsClickInfo.page</th>\n",
       "      <th>adwordsClickInfo.slot</th>\n",
       "      <th>adwordsClickInfo.gclId</th>\n",
       "      <th>adwordsClickInfo.adNetworkType</th>\n",
       "      <th>adwordsClickInfo.isVideoAd</th>\n",
       "      <th>hits</th>\n",
       "      <th>pageviews</th>\n",
       "      <th>bounces</th>\n",
       "      <th>newVisits</th>\n",
       "      <th>revenue</th>\n",
       "    </tr>\n",
       "  </thead>\n",
       "  <tbody>\n",
       "    <tr>\n",
       "      <th>0</th>\n",
       "      <td>100000110</td>\n",
       "      <td>1</td>\n",
       "      <td>2016-10-29</td>\n",
       "      <td>2016</td>\n",
       "      <td>10</td>\n",
       "      <td>Social</td>\n",
       "      <td>1477775021</td>\n",
       "      <td>1</td>\n",
       "      <td>0</td>\n",
       "      <td>Chrome</td>\n",
       "      <td>...</td>\n",
       "      <td>NaN</td>\n",
       "      <td>NaN</td>\n",
       "      <td>NaN</td>\n",
       "      <td>NaN</td>\n",
       "      <td>NaN</td>\n",
       "      <td>1</td>\n",
       "      <td>1.0</td>\n",
       "      <td>1.0</td>\n",
       "      <td>1.0</td>\n",
       "      <td>0.0</td>\n",
       "    </tr>\n",
       "    <tr>\n",
       "      <th>1</th>\n",
       "      <td>400000140</td>\n",
       "      <td>4</td>\n",
       "      <td>2016-09-04</td>\n",
       "      <td>2016</td>\n",
       "      <td>9</td>\n",
       "      <td>Social</td>\n",
       "      <td>1473037945</td>\n",
       "      <td>1</td>\n",
       "      <td>0</td>\n",
       "      <td>Safari</td>\n",
       "      <td>...</td>\n",
       "      <td>NaN</td>\n",
       "      <td>NaN</td>\n",
       "      <td>NaN</td>\n",
       "      <td>NaN</td>\n",
       "      <td>NaN</td>\n",
       "      <td>1</td>\n",
       "      <td>1.0</td>\n",
       "      <td>1.0</td>\n",
       "      <td>1.0</td>\n",
       "      <td>0.0</td>\n",
       "    </tr>\n",
       "    <tr>\n",
       "      <th>2</th>\n",
       "      <td>500000150</td>\n",
       "      <td>5</td>\n",
       "      <td>2017-07-17</td>\n",
       "      <td>2017</td>\n",
       "      <td>7</td>\n",
       "      <td>Organic Search</td>\n",
       "      <td>1500305542</td>\n",
       "      <td>1</td>\n",
       "      <td>0</td>\n",
       "      <td>Chrome</td>\n",
       "      <td>...</td>\n",
       "      <td>NaN</td>\n",
       "      <td>NaN</td>\n",
       "      <td>NaN</td>\n",
       "      <td>NaN</td>\n",
       "      <td>NaN</td>\n",
       "      <td>5</td>\n",
       "      <td>5.0</td>\n",
       "      <td>NaN</td>\n",
       "      <td>1.0</td>\n",
       "      <td>0.0</td>\n",
       "    </tr>\n",
       "    <tr>\n",
       "      <th>3</th>\n",
       "      <td>500000250</td>\n",
       "      <td>5</td>\n",
       "      <td>2017-07-17</td>\n",
       "      <td>2017</td>\n",
       "      <td>7</td>\n",
       "      <td>Organic Search</td>\n",
       "      <td>1500322111</td>\n",
       "      <td>2</td>\n",
       "      <td>16569</td>\n",
       "      <td>Chrome</td>\n",
       "      <td>...</td>\n",
       "      <td>NaN</td>\n",
       "      <td>NaN</td>\n",
       "      <td>NaN</td>\n",
       "      <td>NaN</td>\n",
       "      <td>NaN</td>\n",
       "      <td>3</td>\n",
       "      <td>3.0</td>\n",
       "      <td>NaN</td>\n",
       "      <td>NaN</td>\n",
       "      <td>0.0</td>\n",
       "    </tr>\n",
       "    <tr>\n",
       "      <th>4</th>\n",
       "      <td>700000170</td>\n",
       "      <td>7</td>\n",
       "      <td>2016-08-22</td>\n",
       "      <td>2016</td>\n",
       "      <td>8</td>\n",
       "      <td>Social</td>\n",
       "      <td>1471890172</td>\n",
       "      <td>1</td>\n",
       "      <td>0</td>\n",
       "      <td>Safari</td>\n",
       "      <td>...</td>\n",
       "      <td>NaN</td>\n",
       "      <td>NaN</td>\n",
       "      <td>NaN</td>\n",
       "      <td>NaN</td>\n",
       "      <td>NaN</td>\n",
       "      <td>1</td>\n",
       "      <td>1.0</td>\n",
       "      <td>1.0</td>\n",
       "      <td>1.0</td>\n",
       "      <td>0.0</td>\n",
       "    </tr>\n",
       "  </tbody>\n",
       "</table>\n",
       "<p>5 rows × 38 columns</p>\n",
       "</div>"
      ],
      "text/plain": [
       "   sessionId  custId        date  year  month channelGrouping  visitStartTime  \\\n",
       "0  100000110       1  2016-10-29  2016     10          Social      1477775021   \n",
       "1  400000140       4  2016-09-04  2016      9          Social      1473037945   \n",
       "2  500000150       5  2017-07-17  2017      7  Organic Search      1500305542   \n",
       "3  500000250       5  2017-07-17  2017      7  Organic Search      1500322111   \n",
       "4  700000170       7  2016-08-22  2016      8          Social      1471890172   \n",
       "\n",
       "   visitNumber  timeSinceLastVisit browser   ...   adwordsClickInfo.page  \\\n",
       "0            1                   0  Chrome   ...                     NaN   \n",
       "1            1                   0  Safari   ...                     NaN   \n",
       "2            1                   0  Chrome   ...                     NaN   \n",
       "3            2               16569  Chrome   ...                     NaN   \n",
       "4            1                   0  Safari   ...                     NaN   \n",
       "\n",
       "   adwordsClickInfo.slot adwordsClickInfo.gclId  \\\n",
       "0                    NaN                    NaN   \n",
       "1                    NaN                    NaN   \n",
       "2                    NaN                    NaN   \n",
       "3                    NaN                    NaN   \n",
       "4                    NaN                    NaN   \n",
       "\n",
       "  adwordsClickInfo.adNetworkType adwordsClickInfo.isVideoAd hits pageviews  \\\n",
       "0                            NaN                        NaN    1       1.0   \n",
       "1                            NaN                        NaN    1       1.0   \n",
       "2                            NaN                        NaN    5       5.0   \n",
       "3                            NaN                        NaN    3       3.0   \n",
       "4                            NaN                        NaN    1       1.0   \n",
       "\n",
       "  bounces newVisits revenue  \n",
       "0     1.0       1.0     0.0  \n",
       "1     1.0       1.0     0.0  \n",
       "2     NaN       1.0     0.0  \n",
       "3     NaN       NaN     0.0  \n",
       "4     1.0       1.0     0.0  \n",
       "\n",
       "[5 rows x 38 columns]"
      ]
     },
     "execution_count": 21,
     "metadata": {},
     "output_type": "execute_result"
    }
   ],
   "source": [
    "train.head()"
   ]
  },
  {
   "cell_type": "code",
   "execution_count": 4,
   "metadata": {},
   "outputs": [
    {
     "data": {
      "text/html": [
       "<div>\n",
       "<style scoped>\n",
       "    .dataframe tbody tr th:only-of-type {\n",
       "        vertical-align: middle;\n",
       "    }\n",
       "\n",
       "    .dataframe tbody tr th {\n",
       "        vertical-align: top;\n",
       "    }\n",
       "\n",
       "    .dataframe thead th {\n",
       "        text-align: right;\n",
       "    }\n",
       "</style>\n",
       "<table border=\"1\" class=\"dataframe\">\n",
       "  <thead>\n",
       "    <tr style=\"text-align: right;\">\n",
       "      <th></th>\n",
       "      <th>sessionId</th>\n",
       "      <th>custId</th>\n",
       "      <th>date</th>\n",
       "      <th>year</th>\n",
       "      <th>month</th>\n",
       "      <th>channelGrouping</th>\n",
       "      <th>visitStartTime</th>\n",
       "      <th>visitNumber</th>\n",
       "      <th>timeSinceLastVisit</th>\n",
       "      <th>browser</th>\n",
       "      <th>...</th>\n",
       "      <th>adwordsClickInfo.page</th>\n",
       "      <th>adwordsClickInfo.slot</th>\n",
       "      <th>adwordsClickInfo.gclId</th>\n",
       "      <th>adwordsClickInfo.adNetworkType</th>\n",
       "      <th>adwordsClickInfo.isVideoAd</th>\n",
       "      <th>hits</th>\n",
       "      <th>pageviews</th>\n",
       "      <th>bounces</th>\n",
       "      <th>newVisits</th>\n",
       "      <th>revenue</th>\n",
       "    </tr>\n",
       "  </thead>\n",
       "  <tbody>\n",
       "    <tr>\n",
       "      <th>0</th>\n",
       "      <td>100000110</td>\n",
       "      <td>1</td>\n",
       "      <td>2016-10-29</td>\n",
       "      <td>2016</td>\n",
       "      <td>10</td>\n",
       "      <td>Social</td>\n",
       "      <td>1477775021</td>\n",
       "      <td>1</td>\n",
       "      <td>0</td>\n",
       "      <td>Chrome</td>\n",
       "      <td>...</td>\n",
       "      <td>NaN</td>\n",
       "      <td>NaN</td>\n",
       "      <td>NaN</td>\n",
       "      <td>NaN</td>\n",
       "      <td>NaN</td>\n",
       "      <td>1</td>\n",
       "      <td>1.0</td>\n",
       "      <td>1.0</td>\n",
       "      <td>1.0</td>\n",
       "      <td>0.0</td>\n",
       "    </tr>\n",
       "    <tr>\n",
       "      <th>1</th>\n",
       "      <td>400000140</td>\n",
       "      <td>4</td>\n",
       "      <td>2016-09-04</td>\n",
       "      <td>2016</td>\n",
       "      <td>9</td>\n",
       "      <td>Social</td>\n",
       "      <td>1473037945</td>\n",
       "      <td>1</td>\n",
       "      <td>0</td>\n",
       "      <td>Safari</td>\n",
       "      <td>...</td>\n",
       "      <td>NaN</td>\n",
       "      <td>NaN</td>\n",
       "      <td>NaN</td>\n",
       "      <td>NaN</td>\n",
       "      <td>NaN</td>\n",
       "      <td>1</td>\n",
       "      <td>1.0</td>\n",
       "      <td>1.0</td>\n",
       "      <td>1.0</td>\n",
       "      <td>0.0</td>\n",
       "    </tr>\n",
       "    <tr>\n",
       "      <th>2</th>\n",
       "      <td>500000150</td>\n",
       "      <td>5</td>\n",
       "      <td>2017-07-17</td>\n",
       "      <td>2017</td>\n",
       "      <td>7</td>\n",
       "      <td>Organic Search</td>\n",
       "      <td>1500305542</td>\n",
       "      <td>1</td>\n",
       "      <td>0</td>\n",
       "      <td>Chrome</td>\n",
       "      <td>...</td>\n",
       "      <td>NaN</td>\n",
       "      <td>NaN</td>\n",
       "      <td>NaN</td>\n",
       "      <td>NaN</td>\n",
       "      <td>NaN</td>\n",
       "      <td>5</td>\n",
       "      <td>5.0</td>\n",
       "      <td>NaN</td>\n",
       "      <td>1.0</td>\n",
       "      <td>0.0</td>\n",
       "    </tr>\n",
       "    <tr>\n",
       "      <th>3</th>\n",
       "      <td>500000250</td>\n",
       "      <td>5</td>\n",
       "      <td>2017-07-17</td>\n",
       "      <td>2017</td>\n",
       "      <td>7</td>\n",
       "      <td>Organic Search</td>\n",
       "      <td>1500322111</td>\n",
       "      <td>2</td>\n",
       "      <td>16569</td>\n",
       "      <td>Chrome</td>\n",
       "      <td>...</td>\n",
       "      <td>NaN</td>\n",
       "      <td>NaN</td>\n",
       "      <td>NaN</td>\n",
       "      <td>NaN</td>\n",
       "      <td>NaN</td>\n",
       "      <td>3</td>\n",
       "      <td>3.0</td>\n",
       "      <td>NaN</td>\n",
       "      <td>NaN</td>\n",
       "      <td>0.0</td>\n",
       "    </tr>\n",
       "    <tr>\n",
       "      <th>4</th>\n",
       "      <td>700000170</td>\n",
       "      <td>7</td>\n",
       "      <td>2016-08-22</td>\n",
       "      <td>2016</td>\n",
       "      <td>8</td>\n",
       "      <td>Social</td>\n",
       "      <td>1471890172</td>\n",
       "      <td>1</td>\n",
       "      <td>0</td>\n",
       "      <td>Safari</td>\n",
       "      <td>...</td>\n",
       "      <td>NaN</td>\n",
       "      <td>NaN</td>\n",
       "      <td>NaN</td>\n",
       "      <td>NaN</td>\n",
       "      <td>NaN</td>\n",
       "      <td>1</td>\n",
       "      <td>1.0</td>\n",
       "      <td>1.0</td>\n",
       "      <td>1.0</td>\n",
       "      <td>0.0</td>\n",
       "    </tr>\n",
       "  </tbody>\n",
       "</table>\n",
       "<p>5 rows × 38 columns</p>\n",
       "</div>"
      ],
      "text/plain": [
       "   sessionId  custId        date  year  month channelGrouping  visitStartTime  \\\n",
       "0  100000110       1  2016-10-29  2016     10          Social      1477775021   \n",
       "1  400000140       4  2016-09-04  2016      9          Social      1473037945   \n",
       "2  500000150       5  2017-07-17  2017      7  Organic Search      1500305542   \n",
       "3  500000250       5  2017-07-17  2017      7  Organic Search      1500322111   \n",
       "4  700000170       7  2016-08-22  2016      8          Social      1471890172   \n",
       "\n",
       "   visitNumber  timeSinceLastVisit browser   ...   adwordsClickInfo.page  \\\n",
       "0            1                   0  Chrome   ...                     NaN   \n",
       "1            1                   0  Safari   ...                     NaN   \n",
       "2            1                   0  Chrome   ...                     NaN   \n",
       "3            2               16569  Chrome   ...                     NaN   \n",
       "4            1                   0  Safari   ...                     NaN   \n",
       "\n",
       "   adwordsClickInfo.slot adwordsClickInfo.gclId  \\\n",
       "0                    NaN                    NaN   \n",
       "1                    NaN                    NaN   \n",
       "2                    NaN                    NaN   \n",
       "3                    NaN                    NaN   \n",
       "4                    NaN                    NaN   \n",
       "\n",
       "  adwordsClickInfo.adNetworkType adwordsClickInfo.isVideoAd hits pageviews  \\\n",
       "0                            NaN                        NaN    1       1.0   \n",
       "1                            NaN                        NaN    1       1.0   \n",
       "2                            NaN                        NaN    5       5.0   \n",
       "3                            NaN                        NaN    3       3.0   \n",
       "4                            NaN                        NaN    1       1.0   \n",
       "\n",
       "  bounces newVisits revenue  \n",
       "0     1.0       1.0     0.0  \n",
       "1     1.0       1.0     0.0  \n",
       "2     NaN       1.0     0.0  \n",
       "3     NaN       NaN     0.0  \n",
       "4     1.0       1.0     0.0  \n",
       "\n",
       "[5 rows x 38 columns]"
      ]
     },
     "execution_count": 4,
     "metadata": {},
     "output_type": "execute_result"
    }
   ],
   "source": [
    "train.head()"
   ]
  },
  {
   "cell_type": "code",
   "execution_count": 5,
   "metadata": {},
   "outputs": [
    {
     "data": {
      "text/plain": [
       "Index(['sessionId', 'custId', 'date', 'year', 'month', 'channelGrouping',\n",
       "       'visitStartTime', 'visitNumber', 'timeSinceLastVisit', 'browser',\n",
       "       'operatingSystem', 'isMobile', 'deviceCategory', 'continent',\n",
       "       'subContinent', 'country', 'region', 'metro', 'city', 'networkDomain',\n",
       "       'topLevelDomain', 'campaign', 'source', 'medium', 'keyword',\n",
       "       'isTrueDirect', 'referralPath', 'adContent', 'adwordsClickInfo.page',\n",
       "       'adwordsClickInfo.slot', 'adwordsClickInfo.gclId',\n",
       "       'adwordsClickInfo.adNetworkType', 'adwordsClickInfo.isVideoAd', 'hits',\n",
       "       'pageviews', 'bounces', 'newVisits', 'revenue'],\n",
       "      dtype='object')"
      ]
     },
     "execution_count": 5,
     "metadata": {},
     "output_type": "execute_result"
    }
   ],
   "source": [
    "train.columns"
   ]
  },
  {
   "cell_type": "code",
   "execution_count": 6,
   "metadata": {},
   "outputs": [
    {
     "data": {
      "text/plain": [
       "(83578, 38)"
      ]
     },
     "execution_count": 6,
     "metadata": {},
     "output_type": "execute_result"
    }
   ],
   "source": [
    "train.shape"
   ]
  },
  {
   "cell_type": "code",
   "execution_count": 7,
   "metadata": {},
   "outputs": [
    {
     "data": {
      "text/plain": [
       "sessionId                                500000150\n",
       "custId                                           5\n",
       "date                                    2017-07-17\n",
       "year                                          2017\n",
       "month                                            7\n",
       "channelGrouping                     Organic Search\n",
       "visitStartTime                          1500305542\n",
       "visitNumber                                      1\n",
       "timeSinceLastVisit                               0\n",
       "browser                                     Chrome\n",
       "operatingSystem                            Windows\n",
       "isMobile                                         0\n",
       "deviceCategory                             desktop\n",
       "continent                                 Americas\n",
       "subContinent                      Northern America\n",
       "country                                     Canada\n",
       "region                                         NaN\n",
       "metro                                          NaN\n",
       "city                                           NaN\n",
       "networkDomain                                  NaN\n",
       "topLevelDomain                                 NaN\n",
       "campaign                                       NaN\n",
       "source                                      google\n",
       "medium                                     organic\n",
       "keyword                                        NaN\n",
       "isTrueDirect                                     0\n",
       "referralPath                                   NaN\n",
       "adContent                                      NaN\n",
       "adwordsClickInfo.page                          NaN\n",
       "adwordsClickInfo.slot                          NaN\n",
       "adwordsClickInfo.gclId                         NaN\n",
       "adwordsClickInfo.adNetworkType                 NaN\n",
       "adwordsClickInfo.isVideoAd                     NaN\n",
       "hits                                             5\n",
       "pageviews                                        5\n",
       "bounces                                        NaN\n",
       "newVisits                                        1\n",
       "revenue                                          0\n",
       "Name: 2, dtype: object"
      ]
     },
     "execution_count": 7,
     "metadata": {},
     "output_type": "execute_result"
    }
   ],
   "source": [
    "train.iloc[2]"
   ]
  },
  {
   "cell_type": "code",
   "execution_count": 8,
   "metadata": {},
   "outputs": [
    {
     "data": {
      "text/plain": [
       "0.0"
      ]
     },
     "execution_count": 8,
     "metadata": {},
     "output_type": "execute_result"
    }
   ],
   "source": [
    "min(train[\"revenue\"].values)"
   ]
  },
  {
   "cell_type": "code",
   "execution_count": 9,
   "metadata": {},
   "outputs": [
    {
     "data": {
      "text/plain": [
       "10589.14"
      ]
     },
     "execution_count": 9,
     "metadata": {},
     "output_type": "execute_result"
    }
   ],
   "source": [
    "max(train[\"revenue\"].values)"
   ]
  },
  {
   "cell_type": "code",
   "execution_count": 10,
   "metadata": {},
   "outputs": [
    {
     "data": {
      "text/plain": [
       "[<matplotlib.lines.Line2D at 0x7f98be4eac50>]"
      ]
     },
     "execution_count": 10,
     "metadata": {},
     "output_type": "execute_result"
    },
    {
     "data": {
      "image/png": "[encoded data removed]",
      "text/plain": [
       "<Figure size 432x288 with 1 Axes>"
      ]
     },
     "metadata": {
      "needs_background": "light"
     },
     "output_type": "display_data"
    }
   ],
   "source": [
    "plt.plot(train[\"revenue\"])"
   ]
  },
  {
   "cell_type": "code",
   "execution_count": 11,
   "metadata": {},
   "outputs": [],
   "source": [
    "X = train.loc[:, train.columns != 'revenue']\n",
    "y = train[\"revenue\"]"
   ]
  },
  {
   "cell_type": "code",
   "execution_count": 13,
   "metadata": {},
   "outputs": [
    {
     "name": "stdout",
     "output_type": "stream",
     "text": [
      "X shape:  (83578, 1167)\n"
     ]
    }
   ],
   "source": [
    "# encode string input values as integers\n",
    "features = []\n",
    "encode_cols = [\"browser\", \"operatingSystem\", \"deviceCategory\", \"continent\", \n",
    "              \"subContinent\", \"country\", \"region\", \"metro\", \"city\", \"medium\"]\n",
    "\n",
    "# encode string input values as integers\n",
    "encoded_x = None\n",
    "for i in encode_cols:\n",
    "\tlabel_encoder = LabelEncoder()\n",
    "\tfeature = label_encoder.fit_transform(X[i].fillna('0'))\n",
    "\tfeature = feature.reshape(X.shape[0], 1)\n",
    "\tonehot_encoder = OneHotEncoder(sparse=False)\n",
    "\tfeature = onehot_encoder.fit_transform(feature)\n",
    "\tif encoded_x is None:\n",
    "\t\tencoded_x = feature\n",
    "\telse:\n",
    "\t\tencoded_x = np.concatenate((encoded_x, feature), axis=1)\n",
    "print(\"X shape: \", encoded_x.shape)\n",
    "# encoded_x = np.array(features)\n",
    "# encoded_x = encoded_x.reshape(X.shape[0], X.shape[1])"
   ]
  },
  {
   "cell_type": "code",
   "execution_count": 31,
   "metadata": {},
   "outputs": [],
   "source": [
    "other_cols = [\"visitNumber\", \"isMobile\", \"hits\", \"pageviews\", \"bounces\", \"timeSinceLastVisit\"]"
   ]
  },
  {
   "cell_type": "code",
   "execution_count": 15,
   "metadata": {},
   "outputs": [],
   "source": [
    "X = np.concatenate((X[other_cols].fillna(0), encoded_x), axis=1)"
   ]
  },
  {
   "cell_type": "code",
   "execution_count": 13,
   "metadata": {},
   "outputs": [
    {
     "ename": "NameError",
     "evalue": "name 'y' is not defined",
     "output_type": "error",
     "traceback": [
      "\u001b[0;31m---------------------------------------------------------------------------\u001b[0m",
      "\u001b[0;31mNameError\u001b[0m                                 Traceback (most recent call last)",
      "\u001b[0;32m<ipython-input-13-1a9543db5b5f>\u001b[0m in \u001b[0;36m<module>\u001b[0;34m()\u001b[0m\n\u001b[0;32m----> 1\u001b[0;31m \u001b[0my\u001b[0m \u001b[0;34m=\u001b[0m \u001b[0mBinarizer\u001b[0m\u001b[0;34m(\u001b[0m\u001b[0;34m)\u001b[0m\u001b[0;34m.\u001b[0m\u001b[0mtransform\u001b[0m\u001b[0;34m(\u001b[0m\u001b[0my\u001b[0m\u001b[0;34m.\u001b[0m\u001b[0mvalues\u001b[0m\u001b[0;34m.\u001b[0m\u001b[0mreshape\u001b[0m\u001b[0;34m(\u001b[0m\u001b[0;34m-\u001b[0m\u001b[0;36m1\u001b[0m\u001b[0;34m,\u001b[0m \u001b[0;36m1\u001b[0m\u001b[0;34m)\u001b[0m\u001b[0;34m)\u001b[0m\u001b[0;34m\u001b[0m\u001b[0m\n\u001b[0m",
      "\u001b[0;31mNameError\u001b[0m: name 'y' is not defined"
     ]
    }
   ],
   "source": [
    "y = Binarizer().transform(y.values.reshape(-1, 1))"
   ]
  },
  {
   "cell_type": "code",
   "execution_count": 32,
   "metadata": {},
   "outputs": [
    {
     "data": {
      "image/png": "[encoded data removed]",
      "text/plain": [
       "<Figure size 432x288 with 1 Axes>"
      ]
     },
     "metadata": {
      "needs_background": "light"
     },
     "output_type": "display_data"
    },
    {
     "data": {
      "image/png": "[encoded data removed]",
      "text/plain": [
       "<Figure size 432x288 with 1 Axes>"
      ]
     },
     "metadata": {
      "needs_background": "light"
     },
     "output_type": "display_data"
    },
    {
     "data": {
      "image/png": "[encoded data removed]",
      "text/plain": [
       "<Figure size 432x288 with 1 Axes>"
      ]
     },
     "metadata": {
      "needs_background": "light"
     },
     "output_type": "display_data"
    },
    {
     "data": {
      "image/png": "[encoded data removed]",
      "text/plain": [
       "<Figure size 432x288 with 1 Axes>"
      ]
     },
     "metadata": {
      "needs_background": "light"
     },
     "output_type": "display_data"
    },
    {
     "data": {
      "image/png": "[encoded data removed]",
      "text/plain": [
       "<Figure size 432x288 with 1 Axes>"
      ]
     },
     "metadata": {
      "needs_background": "light"
     },
     "output_type": "display_data"
    },
    {
     "data": {
      "image/png": "[encoded data removed]",
      "text/plain": [
       "<Figure size 432x288 with 1 Axes>"
      ]
     },
     "metadata": {
      "needs_background": "light"
     },
     "output_type": "display_data"
    },
    {
     "name": "stdout",
     "output_type": "stream",
     "text": [
      "0\n"
     ]
    }
   ],
   "source": [
    "for each in other_cols:\n",
    "    plt.hist(train[each], y[y==1], 'o')\n",
    "    plt.title(each)\n",
    "    plt.show()\n",
    "print(train[\"timeSinceLastVisit\"].min())"
   ]
  },
  {
   "cell_type": "code",
   "execution_count": 29,
   "metadata": {},
   "outputs": [
    {
     "name": "stdout",
     "output_type": "stream",
     "text": [
      "[1.]\n",
      "[0.]\n"
     ]
    }
   ],
   "source": [
    "print(max(y))\n",
    "print(min(y))"
   ]
  },
  {
   "cell_type": "code",
   "execution_count": 31,
   "metadata": {},
   "outputs": [
    {
     "name": "stdout",
     "output_type": "stream",
     "text": [
      "(83578, 1173)\n"
     ]
    }
   ],
   "source": [
    "print(X.shape)"
   ]
  },
  {
   "cell_type": "code",
   "execution_count": 32,
   "metadata": {},
   "outputs": [],
   "source": [
    "X_train, X_cv, y_train, y_cv = train_test_split(X, y, test_size=cv_size, random_state=seed)"
   ]
  },
  {
   "cell_type": "code",
   "execution_count": 33,
   "metadata": {},
   "outputs": [
    {
     "name": "stdout",
     "output_type": "stream",
     "text": [
      "(58504, 1173)\n",
      "(25074, 1173)\n"
     ]
    }
   ],
   "source": [
    "print(X_train.shape)\n",
    "print(X_cv.shape)"
   ]
  },
  {
   "cell_type": "code",
   "execution_count": 34,
   "metadata": {},
   "outputs": [
    {
     "name": "stdout",
     "output_type": "stream",
     "text": [
      "(58504, 1)\n",
      "(25074, 1)\n"
     ]
    }
   ],
   "source": [
    "print(y_train.shape)\n",
    "print(y_cv.shape)"
   ]
  },
  {
   "cell_type": "code",
   "execution_count": 35,
   "metadata": {},
   "outputs": [],
   "source": [
    "xgtrain = xgb.DMatrix(X_train, y_train)\n",
    "xgcv = xgb.DMatrix(X_cv, y_cv)"
   ]
  },
  {
   "cell_type": "code",
   "execution_count": 36,
   "metadata": {},
   "outputs": [],
   "source": [
    "# Specify sufficient boosting iterations to reach a minimum\n",
    "num_round = 3000\n",
    "\n",
    "# Leave most parameters as default\n",
    "param = {'objective': 'binary:logistic',\n",
    "         'tree_method': 'gpu_hist' # Use GPU accelerated algorithm\n",
    "         }\n",
    "bst = xgb.train(param, xgtrain, num_round)"
   ]
  },
  {
   "cell_type": "code",
   "execution_count": null,
   "metadata": {},
   "outputs": [],
   "source": [
    "# model = xgb.XGBClassifier()\n",
    "# model.fit(X_train, y_train)"
   ]
  },
  {
   "cell_type": "code",
   "execution_count": null,
   "metadata": {},
   "outputs": [],
   "source": [
    "# # specify parameters via map\n",
    "# param = {'max_depth':2, 'eta':1, 'silent':0, 'objective':'binary:logistic'}\n",
    "\n",
    "# # specify validations set to watch performance\n",
    "# watchlist = [(xgcv, 'eval'), (xgtrain, 'train')]\n",
    "# num_round = 2\n",
    "# bst = xgb.train(param, xgtrain, num_round, watchlist)"
   ]
  },
  {
   "cell_type": "code",
   "execution_count": 37,
   "metadata": {},
   "outputs": [],
   "source": [
    "bst.save_model('first.model')"
   ]
  },
  {
   "cell_type": "code",
   "execution_count": 41,
   "metadata": {},
   "outputs": [],
   "source": [
    "pred = bst.predict(xgcv)"
   ]
  },
  {
   "cell_type": "code",
   "execution_count": 47,
   "metadata": {},
   "outputs": [],
   "source": [
    "bin_pred = Binarizer(threshold=0.5).transform(pred.reshape(-1,1))"
   ]
  },
  {
   "cell_type": "code",
   "execution_count": 48,
   "metadata": {},
   "outputs": [
    {
     "name": "stdout",
     "output_type": "stream",
     "text": [
      "[5.4681923e-02 2.9160088e-10 4.4355215e-06 ... 1.9818206e-06 8.4717786e-01\n",
      " 5.0035766e-08]\n",
      "[[0.]\n",
      " [0.]\n",
      " [0.]\n",
      " ...\n",
      " [0.]\n",
      " [1.]\n",
      " [0.]]\n"
     ]
    }
   ],
   "source": [
    "print(pred)\n",
    "print(bin_pred)"
   ]
  },
  {
   "cell_type": "code",
   "execution_count": 51,
   "metadata": {},
   "outputs": [
    {
     "data": {
      "text/plain": [
       "0.6406712734452122"
      ]
     },
     "execution_count": 51,
     "metadata": {},
     "output_type": "execute_result"
    }
   ],
   "source": [
    "f1 = f1_score(y_cv, bin_pred)\n",
    "f1"
   ]
  },
  {
   "cell_type": "code",
   "execution_count": 53,
   "metadata": {},
   "outputs": [
    {
     "data": {
      "text/plain": [
       "<matplotlib.axes._subplots.AxesSubplot at 0x7f98be086470>"
      ]
     },
     "execution_count": 53,
     "metadata": {},
     "output_type": "execute_result"
    },
    {
     "data": {
      "image/png": "[encoded data removed]",
      "text/plain": [
       "<Figure size 432x288 with 1 Axes>"
      ]
     },
     "metadata": {
      "needs_background": "light"
     },
     "output_type": "display_data"
    }
   ],
   "source": [
    "xgb.plot_importance(bst)"
   ]
  },
  {
   "cell_type": "code",
   "execution_count": null,
   "metadata": {},
   "outputs": [],
   "source": []
  },
  {
   "cell_type": "code",
   "execution_count": null,
   "metadata": {},
   "outputs": [],
   "source": []
  },
  {
   "cell_type": "code",
   "execution_count": 52,
   "metadata": {},
   "outputs": [],
   "source": [
    "# use below for later - scales test"
   ]
  },
  {
   "cell_type": "code",
   "execution_count": 38,
   "metadata": {},
   "outputs": [
    {
     "name": "stdout",
     "output_type": "stream",
     "text": [
      "X shape:  (56208, 1049)\n"
     ]
    }
   ],
   "source": [
    "# encode string input values as integers\n",
    "features = []\n",
    "encoded_x = None\n",
    "for i in encode_cols:\n",
    "\tlabel_encoder = LabelEncoder()\n",
    "\tfeature = label_encoder.fit_transform(test[i].fillna('0'))\n",
    "\tfeature = feature.reshape(test.shape[0], 1)\n",
    "\tonehot_encoder = OneHotEncoder(sparse=False)\n",
    "\tfeature = onehot_encoder.fit_transform(feature)\n",
    "\tif encoded_x is None:\n",
    "\t\tencoded_x = feature\n",
    "\telse:\n",
    "\t\tencoded_x = np.concatenate((encoded_x, feature), axis=1)\n",
    "print(\"X shape: \", encoded_x.shape)\n",
    "# encoded_x = np.array(features)\n",
    "# encoded_x = encoded_x.reshape(X.shape[0], X.shape[1])\n",
    "X = np.concatenate((test[other_cols].fillna(0), encoded_x), axis=1)"
   ]
  },
  {
   "cell_type": "code",
   "execution_count": null,
   "metadata": {},
   "outputs": [],
   "source": []
  }
 ],
 "metadata": {
  "kernelspec": {
   "display_name": "Python 3",
   "language": "python",
   "name": "python3"
  },
  "language_info": {
   "codemirror_mode": {
    "name": "ipython",
    "version": 3
   },
   "file_extension": ".py",
   "mimetype": "text/x-python",
   "name": "python",
   "nbconvert_exporter": "python",
   "pygments_lexer": "ipython3",
   "version": "3.6.6"
  }
 },
 "nbformat": 4,
 "nbformat_minor": 2
}
