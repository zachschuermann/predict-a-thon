{
 "cells": [
  {
   "cell_type": "code",
   "execution_count": 7,
   "metadata": {},
   "outputs": [],
   "source": [
    "import xgboost as xgb\n",
    "import pandas as pd\n",
    "import numpy as np"
   ]
  },
  {
   "cell_type": "code",
   "execution_count": 1,
   "metadata": {},
   "outputs": [],
   "source": [
    "import utils.data_loader as dl\n",
    "train,cv,test = dl.main()"
   ]
  },
  {
   "cell_type": "code",
   "execution_count": 34,
   "metadata": {},
   "outputs": [
    {
     "data": {
      "text/plain": [
       "Index(['sessionId', 'custId', 'date', 'year', 'month', 'channelGrouping',\n",
       "       'visitStartTime', 'visitNumber', 'timeSinceLastVisit', 'browser',\n",
       "       'operatingSystem', 'isMobile', 'deviceCategory', 'continent',\n",
       "       'subContinent', 'country', 'region', 'metro', 'city', 'networkDomain',\n",
       "       'topLevelDomain', 'campaign', 'source', 'medium', 'keyword',\n",
       "       'isTrueDirect', 'referralPath', 'adContent', 'adwordsClickInfo.page',\n",
       "       'adwordsClickInfo.slot', 'adwordsClickInfo.gclId',\n",
       "       'adwordsClickInfo.adNetworkType', 'adwordsClickInfo.isVideoAd', 'hits',\n",
       "       'pageviews', 'bounces', 'newVisits', 'revenue'],\n",
       "      dtype='object')"
      ]
     },
     "execution_count": 34,
     "metadata": {},
     "output_type": "execute_result"
    }
   ],
   "source": [
    "train.columns"
   ]
  },
  {
   "cell_type": "code",
   "execution_count": 35,
   "metadata": {},
   "outputs": [
    {
     "data": {
      "text/plain": [
       "(83578, 38)"
      ]
     },
     "execution_count": 35,
     "metadata": {},
     "output_type": "execute_result"
    }
   ],
   "source": [
    "train.shape"
   ]
  },
  {
   "cell_type": "code",
   "execution_count": 36,
   "metadata": {},
   "outputs": [
    {
     "data": {
      "text/plain": [
       "sessionId                                100000110\n",
       "custId                                           1\n",
       "date                                    2016-10-29\n",
       "year                                          2016\n",
       "month                                           10\n",
       "channelGrouping                             Social\n",
       "visitStartTime                          1477775021\n",
       "visitNumber                                      1\n",
       "timeSinceLastVisit                               0\n",
       "browser                                     Chrome\n",
       "operatingSystem                            Windows\n",
       "isMobile                                         0\n",
       "deviceCategory                             desktop\n",
       "continent                                 Americas\n",
       "subContinent                         South America\n",
       "country                                     Brazil\n",
       "region                                         NaN\n",
       "metro                                          NaN\n",
       "city                                           NaN\n",
       "networkDomain                           gvt.net.br\n",
       "topLevelDomain                                  br\n",
       "campaign                                       NaN\n",
       "source                                 youtube.com\n",
       "medium                                    referral\n",
       "keyword                                        NaN\n",
       "isTrueDirect                                     0\n",
       "referralPath                      /yt/about/pt-BR/\n",
       "adContent                                      NaN\n",
       "adwordsClickInfo.page                          NaN\n",
       "adwordsClickInfo.slot                          NaN\n",
       "adwordsClickInfo.gclId                         NaN\n",
       "adwordsClickInfo.adNetworkType                 NaN\n",
       "adwordsClickInfo.isVideoAd                     NaN\n",
       "hits                                             1\n",
       "pageviews                                        1\n",
       "bounces                                          1\n",
       "newVisits                                        1\n",
       "revenue                                          0\n",
       "Name: 0, dtype: object"
      ]
     },
     "execution_count": 36,
     "metadata": {},
     "output_type": "execute_result"
    }
   ],
   "source": [
    "train.iloc[0]"
   ]
  },
  {
   "cell_type": "code",
   "execution_count": null,
   "metadata": {},
   "outputs": [],
   "source": []
  },
  {
   "cell_type": "code",
   "execution_count": null,
   "metadata": {},
   "outputs": [],
   "source": []
  }
 ],
 "metadata": {
  "kernelspec": {
   "display_name": "Python 3",
   "language": "python",
   "name": "python3"
  },
  "language_info": {
   "codemirror_mode": {
    "name": "ipython",
    "version": 3
   },
   "file_extension": ".py",
   "mimetype": "text/x-python",
   "name": "python",
   "nbconvert_exporter": "python",
   "pygments_lexer": "ipython3",
   "version": "3.6.6"
  }
 },
 "nbformat": 4,
 "nbformat_minor": 2
}
