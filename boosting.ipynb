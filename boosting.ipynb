{
 "cells": [
  {
   "cell_type": "code",
   "execution_count": 1,
   "metadata": {},
   "outputs": [],
   "source": [
    "import xgboost as xgb\n",
    "import pandas as pd\n",
    "import numpy as np\n",
    "import matplotlib.pyplot as plt\n",
    "from sklearn.model_selection import train_test_split\n",
    "from sklearn.preprocessing import LabelEncoder\n",
    "from sklearn.preprocessing import OneHotEncoder\n",
    "from sklearn.preprocessing import Binarizer\n",
    "from sklearn.metrics import f1_score"
   ]
  },
  {
   "cell_type": "code",
   "execution_count": 2,
   "metadata": {},
   "outputs": [],
   "source": [
    "### Constants\n",
    "seed = 69\n",
    "cv_size = .3"
   ]
  },
  {
   "cell_type": "code",
   "execution_count": 3,
   "metadata": {},
   "outputs": [],
   "source": [
    "train = pd.read_csv(\"data/Train.csv\", encoding=\"ISO-8859-1\")\n",
    "test = pd.read_csv(\"data/Test.csv\", encoding=\"ISO-8859-1\")\n"
   ]
  },
  {
   "cell_type": "code",
   "execution_count": 4,
   "metadata": {},
   "outputs": [
    {
     "name": "stdout",
     "output_type": "stream",
     "text": [
      "sessionId\n",
      "83578\n",
      "custId\n",
      "56700\n",
      "date\n",
      "366\n",
      "year\n",
      "2\n",
      "month\n",
      "12\n",
      "channelGrouping\n",
      "8\n",
      "visitStartTime\n",
      "83428\n",
      "visitNumber\n",
      "284\n",
      "timeSinceLastVisit\n",
      "24490\n",
      "browser\n",
      "29\n",
      "operatingSystem\n",
      "15\n",
      "isMobile\n",
      "2\n",
      "deviceCategory\n",
      "3\n",
      "continent\n",
      "5\n",
      "subContinent\n",
      "22\n",
      "country\n",
      "184\n",
      "region\n",
      "322\n",
      "metro\n",
      "73\n",
      "city\n",
      "501\n",
      "networkDomain\n",
      "5645\n",
      "topLevelDomain\n",
      "190\n",
      "campaign\n",
      "6\n",
      "source\n",
      "147\n",
      "medium\n",
      "5\n",
      "keyword\n",
      "474\n",
      "isTrueDirect\n",
      "2\n",
      "referralPath\n",
      "446\n",
      "adContent\n",
      "25\n",
      "adwordsClickInfo.page\n",
      "6\n",
      "adwordsClickInfo.slot\n",
      "2\n",
      "adwordsClickInfo.gclId\n",
      "1706\n",
      "adwordsClickInfo.adNetworkType\n",
      "1\n",
      "adwordsClickInfo.isVideoAd\n",
      "1\n",
      "hits\n",
      "207\n",
      "pageviews\n",
      "159\n",
      "bounces\n",
      "1\n",
      "newVisits\n",
      "1\n",
      "revenue\n",
      "3560\n"
     ]
    }
   ],
   "source": [
    "for each in train.columns:\n",
    "    print(each)\n",
    "    temp = train.groupby(each)[each].nunique()\n",
    "    print(len(temp))\n",
    "    \n",
    "# encode_cols = [\"month\", \"browser\", \"operatingSystem\", \"deviceCategory\", \"continent\", \n",
    "#               \"subContinent\", \"country\", \"region\", \"metro\", \"city\", \"medium\"]\n",
    "\n",
    "# other_cols = [\"visitNumber\",\"timeSinceLastVisit\" \"isMobile\", \"hits\", \"pageviews\", \"bounces\", \"newVisits\"]"
   ]
  },
  {
   "cell_type": "code",
   "execution_count": 5,
   "metadata": {},
   "outputs": [
    {
     "data": {
      "text/html": [
       "<div>\n",
       "<style scoped>\n",
       "    .dataframe tbody tr th:only-of-type {\n",
       "        vertical-align: middle;\n",
       "    }\n",
       "\n",
       "    .dataframe tbody tr th {\n",
       "        vertical-align: top;\n",
       "    }\n",
       "\n",
       "    .dataframe thead th {\n",
       "        text-align: right;\n",
       "    }\n",
       "</style>\n",
       "<table border=\"1\" class=\"dataframe\">\n",
       "  <thead>\n",
       "    <tr style=\"text-align: right;\">\n",
       "      <th></th>\n",
       "      <th>sessionId</th>\n",
       "      <th>custId</th>\n",
       "      <th>date</th>\n",
       "      <th>year</th>\n",
       "      <th>month</th>\n",
       "      <th>channelGrouping</th>\n",
       "      <th>visitStartTime</th>\n",
       "      <th>visitNumber</th>\n",
       "      <th>timeSinceLastVisit</th>\n",
       "      <th>browser</th>\n",
       "      <th>...</th>\n",
       "      <th>adwordsClickInfo.page</th>\n",
       "      <th>adwordsClickInfo.slot</th>\n",
       "      <th>adwordsClickInfo.gclId</th>\n",
       "      <th>adwordsClickInfo.adNetworkType</th>\n",
       "      <th>adwordsClickInfo.isVideoAd</th>\n",
       "      <th>hits</th>\n",
       "      <th>pageviews</th>\n",
       "      <th>bounces</th>\n",
       "      <th>newVisits</th>\n",
       "      <th>revenue</th>\n",
       "    </tr>\n",
       "  </thead>\n",
       "  <tbody>\n",
       "    <tr>\n",
       "      <th>0</th>\n",
       "      <td>100000110</td>\n",
       "      <td>1</td>\n",
       "      <td>2016-10-29</td>\n",
       "      <td>2016</td>\n",
       "      <td>10</td>\n",
       "      <td>Social</td>\n",
       "      <td>1477775021</td>\n",
       "      <td>1</td>\n",
       "      <td>0</td>\n",
       "      <td>Chrome</td>\n",
       "      <td>...</td>\n",
       "      <td>NaN</td>\n",
       "      <td>NaN</td>\n",
       "      <td>NaN</td>\n",
       "      <td>NaN</td>\n",
       "      <td>NaN</td>\n",
       "      <td>1</td>\n",
       "      <td>1.0</td>\n",
       "      <td>1.0</td>\n",
       "      <td>1.0</td>\n",
       "      <td>0.0</td>\n",
       "    </tr>\n",
       "    <tr>\n",
       "      <th>1</th>\n",
       "      <td>400000140</td>\n",
       "      <td>4</td>\n",
       "      <td>2016-09-04</td>\n",
       "      <td>2016</td>\n",
       "      <td>9</td>\n",
       "      <td>Social</td>\n",
       "      <td>1473037945</td>\n",
       "      <td>1</td>\n",
       "      <td>0</td>\n",
       "      <td>Safari</td>\n",
       "      <td>...</td>\n",
       "      <td>NaN</td>\n",
       "      <td>NaN</td>\n",
       "      <td>NaN</td>\n",
       "      <td>NaN</td>\n",
       "      <td>NaN</td>\n",
       "      <td>1</td>\n",
       "      <td>1.0</td>\n",
       "      <td>1.0</td>\n",
       "      <td>1.0</td>\n",
       "      <td>0.0</td>\n",
       "    </tr>\n",
       "    <tr>\n",
       "      <th>2</th>\n",
       "      <td>500000150</td>\n",
       "      <td>5</td>\n",
       "      <td>2017-07-17</td>\n",
       "      <td>2017</td>\n",
       "      <td>7</td>\n",
       "      <td>Organic Search</td>\n",
       "      <td>1500305542</td>\n",
       "      <td>1</td>\n",
       "      <td>0</td>\n",
       "      <td>Chrome</td>\n",
       "      <td>...</td>\n",
       "      <td>NaN</td>\n",
       "      <td>NaN</td>\n",
       "      <td>NaN</td>\n",
       "      <td>NaN</td>\n",
       "      <td>NaN</td>\n",
       "      <td>5</td>\n",
       "      <td>5.0</td>\n",
       "      <td>NaN</td>\n",
       "      <td>1.0</td>\n",
       "      <td>0.0</td>\n",
       "    </tr>\n",
       "    <tr>\n",
       "      <th>3</th>\n",
       "      <td>500000250</td>\n",
       "      <td>5</td>\n",
       "      <td>2017-07-17</td>\n",
       "      <td>2017</td>\n",
       "      <td>7</td>\n",
       "      <td>Organic Search</td>\n",
       "      <td>1500322111</td>\n",
       "      <td>2</td>\n",
       "      <td>16569</td>\n",
       "      <td>Chrome</td>\n",
       "      <td>...</td>\n",
       "      <td>NaN</td>\n",
       "      <td>NaN</td>\n",
       "      <td>NaN</td>\n",
       "      <td>NaN</td>\n",
       "      <td>NaN</td>\n",
       "      <td>3</td>\n",
       "      <td>3.0</td>\n",
       "      <td>NaN</td>\n",
       "      <td>NaN</td>\n",
       "      <td>0.0</td>\n",
       "    </tr>\n",
       "    <tr>\n",
       "      <th>4</th>\n",
       "      <td>700000170</td>\n",
       "      <td>7</td>\n",
       "      <td>2016-08-22</td>\n",
       "      <td>2016</td>\n",
       "      <td>8</td>\n",
       "      <td>Social</td>\n",
       "      <td>1471890172</td>\n",
       "      <td>1</td>\n",
       "      <td>0</td>\n",
       "      <td>Safari</td>\n",
       "      <td>...</td>\n",
       "      <td>NaN</td>\n",
       "      <td>NaN</td>\n",
       "      <td>NaN</td>\n",
       "      <td>NaN</td>\n",
       "      <td>NaN</td>\n",
       "      <td>1</td>\n",
       "      <td>1.0</td>\n",
       "      <td>1.0</td>\n",
       "      <td>1.0</td>\n",
       "      <td>0.0</td>\n",
       "    </tr>\n",
       "  </tbody>\n",
       "</table>\n",
       "<p>5 rows × 38 columns</p>\n",
       "</div>"
      ],
      "text/plain": [
       "   sessionId  custId        date  year  month channelGrouping  visitStartTime  \\\n",
       "0  100000110       1  2016-10-29  2016     10          Social      1477775021   \n",
       "1  400000140       4  2016-09-04  2016      9          Social      1473037945   \n",
       "2  500000150       5  2017-07-17  2017      7  Organic Search      1500305542   \n",
       "3  500000250       5  2017-07-17  2017      7  Organic Search      1500322111   \n",
       "4  700000170       7  2016-08-22  2016      8          Social      1471890172   \n",
       "\n",
       "   visitNumber  timeSinceLastVisit browser   ...   adwordsClickInfo.page  \\\n",
       "0            1                   0  Chrome   ...                     NaN   \n",
       "1            1                   0  Safari   ...                     NaN   \n",
       "2            1                   0  Chrome   ...                     NaN   \n",
       "3            2               16569  Chrome   ...                     NaN   \n",
       "4            1                   0  Safari   ...                     NaN   \n",
       "\n",
       "   adwordsClickInfo.slot adwordsClickInfo.gclId  \\\n",
       "0                    NaN                    NaN   \n",
       "1                    NaN                    NaN   \n",
       "2                    NaN                    NaN   \n",
       "3                    NaN                    NaN   \n",
       "4                    NaN                    NaN   \n",
       "\n",
       "  adwordsClickInfo.adNetworkType adwordsClickInfo.isVideoAd hits pageviews  \\\n",
       "0                            NaN                        NaN    1       1.0   \n",
       "1                            NaN                        NaN    1       1.0   \n",
       "2                            NaN                        NaN    5       5.0   \n",
       "3                            NaN                        NaN    3       3.0   \n",
       "4                            NaN                        NaN    1       1.0   \n",
       "\n",
       "  bounces newVisits revenue  \n",
       "0     1.0       1.0     0.0  \n",
       "1     1.0       1.0     0.0  \n",
       "2     NaN       1.0     0.0  \n",
       "3     NaN       NaN     0.0  \n",
       "4     1.0       1.0     0.0  \n",
       "\n",
       "[5 rows x 38 columns]"
      ]
     },
     "execution_count": 5,
     "metadata": {},
     "output_type": "execute_result"
    }
   ],
   "source": [
    "train.head()"
   ]
  },
  {
   "cell_type": "code",
   "execution_count": 6,
   "metadata": {},
   "outputs": [
    {
     "data": {
      "text/html": [
       "<div>\n",
       "<style scoped>\n",
       "    .dataframe tbody tr th:only-of-type {\n",
       "        vertical-align: middle;\n",
       "    }\n",
       "\n",
       "    .dataframe tbody tr th {\n",
       "        vertical-align: top;\n",
       "    }\n",
       "\n",
       "    .dataframe thead th {\n",
       "        text-align: right;\n",
       "    }\n",
       "</style>\n",
       "<table border=\"1\" class=\"dataframe\">\n",
       "  <thead>\n",
       "    <tr style=\"text-align: right;\">\n",
       "      <th></th>\n",
       "      <th>sessionId</th>\n",
       "      <th>custId</th>\n",
       "      <th>date</th>\n",
       "      <th>year</th>\n",
       "      <th>month</th>\n",
       "      <th>channelGrouping</th>\n",
       "      <th>visitStartTime</th>\n",
       "      <th>visitNumber</th>\n",
       "      <th>timeSinceLastVisit</th>\n",
       "      <th>browser</th>\n",
       "      <th>...</th>\n",
       "      <th>adwordsClickInfo.page</th>\n",
       "      <th>adwordsClickInfo.slot</th>\n",
       "      <th>adwordsClickInfo.gclId</th>\n",
       "      <th>adwordsClickInfo.adNetworkType</th>\n",
       "      <th>adwordsClickInfo.isVideoAd</th>\n",
       "      <th>hits</th>\n",
       "      <th>pageviews</th>\n",
       "      <th>bounces</th>\n",
       "      <th>newVisits</th>\n",
       "      <th>revenue</th>\n",
       "    </tr>\n",
       "  </thead>\n",
       "  <tbody>\n",
       "    <tr>\n",
       "      <th>0</th>\n",
       "      <td>100000110</td>\n",
       "      <td>1</td>\n",
       "      <td>2016-10-29</td>\n",
       "      <td>2016</td>\n",
       "      <td>10</td>\n",
       "      <td>Social</td>\n",
       "      <td>1477775021</td>\n",
       "      <td>1</td>\n",
       "      <td>0</td>\n",
       "      <td>Chrome</td>\n",
       "      <td>...</td>\n",
       "      <td>NaN</td>\n",
       "      <td>NaN</td>\n",
       "      <td>NaN</td>\n",
       "      <td>NaN</td>\n",
       "      <td>NaN</td>\n",
       "      <td>1</td>\n",
       "      <td>1.0</td>\n",
       "      <td>1.0</td>\n",
       "      <td>1.0</td>\n",
       "      <td>0.0</td>\n",
       "    </tr>\n",
       "    <tr>\n",
       "      <th>1</th>\n",
       "      <td>400000140</td>\n",
       "      <td>4</td>\n",
       "      <td>2016-09-04</td>\n",
       "      <td>2016</td>\n",
       "      <td>9</td>\n",
       "      <td>Social</td>\n",
       "      <td>1473037945</td>\n",
       "      <td>1</td>\n",
       "      <td>0</td>\n",
       "      <td>Safari</td>\n",
       "      <td>...</td>\n",
       "      <td>NaN</td>\n",
       "      <td>NaN</td>\n",
       "      <td>NaN</td>\n",
       "      <td>NaN</td>\n",
       "      <td>NaN</td>\n",
       "      <td>1</td>\n",
       "      <td>1.0</td>\n",
       "      <td>1.0</td>\n",
       "      <td>1.0</td>\n",
       "      <td>0.0</td>\n",
       "    </tr>\n",
       "    <tr>\n",
       "      <th>2</th>\n",
       "      <td>500000150</td>\n",
       "      <td>5</td>\n",
       "      <td>2017-07-17</td>\n",
       "      <td>2017</td>\n",
       "      <td>7</td>\n",
       "      <td>Organic Search</td>\n",
       "      <td>1500305542</td>\n",
       "      <td>1</td>\n",
       "      <td>0</td>\n",
       "      <td>Chrome</td>\n",
       "      <td>...</td>\n",
       "      <td>NaN</td>\n",
       "      <td>NaN</td>\n",
       "      <td>NaN</td>\n",
       "      <td>NaN</td>\n",
       "      <td>NaN</td>\n",
       "      <td>5</td>\n",
       "      <td>5.0</td>\n",
       "      <td>NaN</td>\n",
       "      <td>1.0</td>\n",
       "      <td>0.0</td>\n",
       "    </tr>\n",
       "    <tr>\n",
       "      <th>3</th>\n",
       "      <td>500000250</td>\n",
       "      <td>5</td>\n",
       "      <td>2017-07-17</td>\n",
       "      <td>2017</td>\n",
       "      <td>7</td>\n",
       "      <td>Organic Search</td>\n",
       "      <td>1500322111</td>\n",
       "      <td>2</td>\n",
       "      <td>16569</td>\n",
       "      <td>Chrome</td>\n",
       "      <td>...</td>\n",
       "      <td>NaN</td>\n",
       "      <td>NaN</td>\n",
       "      <td>NaN</td>\n",
       "      <td>NaN</td>\n",
       "      <td>NaN</td>\n",
       "      <td>3</td>\n",
       "      <td>3.0</td>\n",
       "      <td>NaN</td>\n",
       "      <td>NaN</td>\n",
       "      <td>0.0</td>\n",
       "    </tr>\n",
       "    <tr>\n",
       "      <th>4</th>\n",
       "      <td>700000170</td>\n",
       "      <td>7</td>\n",
       "      <td>2016-08-22</td>\n",
       "      <td>2016</td>\n",
       "      <td>8</td>\n",
       "      <td>Social</td>\n",
       "      <td>1471890172</td>\n",
       "      <td>1</td>\n",
       "      <td>0</td>\n",
       "      <td>Safari</td>\n",
       "      <td>...</td>\n",
       "      <td>NaN</td>\n",
       "      <td>NaN</td>\n",
       "      <td>NaN</td>\n",
       "      <td>NaN</td>\n",
       "      <td>NaN</td>\n",
       "      <td>1</td>\n",
       "      <td>1.0</td>\n",
       "      <td>1.0</td>\n",
       "      <td>1.0</td>\n",
       "      <td>0.0</td>\n",
       "    </tr>\n",
       "  </tbody>\n",
       "</table>\n",
       "<p>5 rows × 38 columns</p>\n",
       "</div>"
      ],
      "text/plain": [
       "   sessionId  custId        date  year  month channelGrouping  visitStartTime  \\\n",
       "0  100000110       1  2016-10-29  2016     10          Social      1477775021   \n",
       "1  400000140       4  2016-09-04  2016      9          Social      1473037945   \n",
       "2  500000150       5  2017-07-17  2017      7  Organic Search      1500305542   \n",
       "3  500000250       5  2017-07-17  2017      7  Organic Search      1500322111   \n",
       "4  700000170       7  2016-08-22  2016      8          Social      1471890172   \n",
       "\n",
       "   visitNumber  timeSinceLastVisit browser   ...   adwordsClickInfo.page  \\\n",
       "0            1                   0  Chrome   ...                     NaN   \n",
       "1            1                   0  Safari   ...                     NaN   \n",
       "2            1                   0  Chrome   ...                     NaN   \n",
       "3            2               16569  Chrome   ...                     NaN   \n",
       "4            1                   0  Safari   ...                     NaN   \n",
       "\n",
       "   adwordsClickInfo.slot adwordsClickInfo.gclId  \\\n",
       "0                    NaN                    NaN   \n",
       "1                    NaN                    NaN   \n",
       "2                    NaN                    NaN   \n",
       "3                    NaN                    NaN   \n",
       "4                    NaN                    NaN   \n",
       "\n",
       "  adwordsClickInfo.adNetworkType adwordsClickInfo.isVideoAd hits pageviews  \\\n",
       "0                            NaN                        NaN    1       1.0   \n",
       "1                            NaN                        NaN    1       1.0   \n",
       "2                            NaN                        NaN    5       5.0   \n",
       "3                            NaN                        NaN    3       3.0   \n",
       "4                            NaN                        NaN    1       1.0   \n",
       "\n",
       "  bounces newVisits revenue  \n",
       "0     1.0       1.0     0.0  \n",
       "1     1.0       1.0     0.0  \n",
       "2     NaN       1.0     0.0  \n",
       "3     NaN       NaN     0.0  \n",
       "4     1.0       1.0     0.0  \n",
       "\n",
       "[5 rows x 38 columns]"
      ]
     },
     "execution_count": 6,
     "metadata": {},
     "output_type": "execute_result"
    }
   ],
   "source": [
    "train.head()"
   ]
  },
  {
   "cell_type": "code",
   "execution_count": 7,
   "metadata": {},
   "outputs": [
    {
     "data": {
      "text/plain": [
       "Index(['sessionId', 'custId', 'date', 'year', 'month', 'channelGrouping',\n",
       "       'visitStartTime', 'visitNumber', 'timeSinceLastVisit', 'browser',\n",
       "       'operatingSystem', 'isMobile', 'deviceCategory', 'continent',\n",
       "       'subContinent', 'country', 'region', 'metro', 'city', 'networkDomain',\n",
       "       'topLevelDomain', 'campaign', 'source', 'medium', 'keyword',\n",
       "       'isTrueDirect', 'referralPath', 'adContent', 'adwordsClickInfo.page',\n",
       "       'adwordsClickInfo.slot', 'adwordsClickInfo.gclId',\n",
       "       'adwordsClickInfo.adNetworkType', 'adwordsClickInfo.isVideoAd', 'hits',\n",
       "       'pageviews', 'bounces', 'newVisits', 'revenue'],\n",
       "      dtype='object')"
      ]
     },
     "execution_count": 7,
     "metadata": {},
     "output_type": "execute_result"
    }
   ],
   "source": [
    "train.columns"
   ]
  },
  {
   "cell_type": "code",
   "execution_count": 8,
   "metadata": {},
   "outputs": [
    {
     "data": {
      "text/plain": [
       "(83578, 38)"
      ]
     },
     "execution_count": 8,
     "metadata": {},
     "output_type": "execute_result"
    }
   ],
   "source": [
    "train.shape"
   ]
  },
  {
   "cell_type": "code",
   "execution_count": 9,
   "metadata": {},
   "outputs": [
    {
     "data": {
      "text/plain": [
       "sessionId                                500000150\n",
       "custId                                           5\n",
       "date                                    2017-07-17\n",
       "year                                          2017\n",
       "month                                            7\n",
       "channelGrouping                     Organic Search\n",
       "visitStartTime                          1500305542\n",
       "visitNumber                                      1\n",
       "timeSinceLastVisit                               0\n",
       "browser                                     Chrome\n",
       "operatingSystem                            Windows\n",
       "isMobile                                         0\n",
       "deviceCategory                             desktop\n",
       "continent                                 Americas\n",
       "subContinent                      Northern America\n",
       "country                                     Canada\n",
       "region                                         NaN\n",
       "metro                                          NaN\n",
       "city                                           NaN\n",
       "networkDomain                                  NaN\n",
       "topLevelDomain                                 NaN\n",
       "campaign                                       NaN\n",
       "source                                      google\n",
       "medium                                     organic\n",
       "keyword                                        NaN\n",
       "isTrueDirect                                     0\n",
       "referralPath                                   NaN\n",
       "adContent                                      NaN\n",
       "adwordsClickInfo.page                          NaN\n",
       "adwordsClickInfo.slot                          NaN\n",
       "adwordsClickInfo.gclId                         NaN\n",
       "adwordsClickInfo.adNetworkType                 NaN\n",
       "adwordsClickInfo.isVideoAd                     NaN\n",
       "hits                                             5\n",
       "pageviews                                        5\n",
       "bounces                                        NaN\n",
       "newVisits                                        1\n",
       "revenue                                          0\n",
       "Name: 2, dtype: object"
      ]
     },
     "execution_count": 9,
     "metadata": {},
     "output_type": "execute_result"
    }
   ],
   "source": [
    "train.iloc[2]"
   ]
  },
  {
   "cell_type": "code",
   "execution_count": 10,
   "metadata": {},
   "outputs": [
    {
     "data": {
      "text/plain": [
       "0.0"
      ]
     },
     "execution_count": 10,
     "metadata": {},
     "output_type": "execute_result"
    }
   ],
   "source": [
    "min(train[\"revenue\"].values)"
   ]
  },
  {
   "cell_type": "code",
   "execution_count": 11,
   "metadata": {},
   "outputs": [
    {
     "data": {
      "text/plain": [
       "10589.14"
      ]
     },
     "execution_count": 11,
     "metadata": {},
     "output_type": "execute_result"
    }
   ],
   "source": [
    "max(train[\"revenue\"].values)"
   ]
  },
  {
   "cell_type": "code",
   "execution_count": 12,
   "metadata": {},
   "outputs": [
    {
     "data": {
      "text/plain": [
       "[<matplotlib.lines.Line2D at 0x7f18a6e8bda0>]"
      ]
     },
     "execution_count": 12,
     "metadata": {},
     "output_type": "execute_result"
    },
    {
     "data": {
      "image/png": "[encoded data removed]",
      "text/plain": [
       "<Figure size 432x288 with 1 Axes>"
      ]
     },
     "metadata": {
      "needs_background": "light"
     },
     "output_type": "display_data"
    }
   ],
   "source": [
    "plt.plot(train[\"revenue\"])"
   ]
  },
  {
   "cell_type": "code",
   "execution_count": 13,
   "metadata": {},
   "outputs": [],
   "source": [
    "X = train.loc[:, train.columns != 'revenue']\n",
    "y = train[\"revenue\"]"
   ]
  },
  {
   "cell_type": "code",
   "execution_count": 14,
   "metadata": {},
   "outputs": [
    {
     "name": "stdout",
     "output_type": "stream",
     "text": [
      "X shape:  (83578, 2498)\n"
     ]
    }
   ],
   "source": [
    "# encode string input values as integers\n",
    "features = []\n",
    "encode_cols = [\"month\", \"channelGrouping\", \"browser\", \"operatingSystem\", \"deviceCategory\", \"continent\", \n",
    "              \"subContinent\", \"country\", \"region\", \"metro\", \"city\", \"networkDomain\", \"topLevelDomain\", \n",
    "               \"campaign\", \"source\", \"medium\", \n",
    "              ]\n",
    "encode_cols = [\"month\", \"channelGrouping\", \"browser\", \"operatingSystem\", \"deviceCategory\", \"continent\", \n",
    "                \"subContinent\", \"country\", \"region\", \"metro\", \"city\", \"topLevelDomain\", \"campaign\", \"source\", \n",
    "                \"medium\", \"keyword\", \"referralPath\", \"adContent\", \"adwordsClickInfo.page\", \"adwordsClickInfo.slot\",\n",
    "                \"adwordsClickInfo.adNetworkType\", \"bounces\", \"newVisits\"\n",
    "              ]\n",
    "\n",
    "# encode string input values as integers\n",
    "encoded_x = None\n",
    "for i in encode_cols:\n",
    "    col = X[i].apply(str)\n",
    "    label_encoder = LabelEncoder()\n",
    "    feature = label_encoder.fit_transform(col.fillna('0'))\n",
    "    feature = feature.reshape(X.shape[0], 1)\n",
    "    onehot_encoder = OneHotEncoder(sparse=False)\n",
    "    feature = onehot_encoder.fit_transform(feature)\n",
    "    if encoded_x is None:\n",
    "        encoded_x = feature\n",
    "    else:\n",
    "        encoded_x = np.concatenate((encoded_x, feature), axis=1)\n",
    "print(\"X shape: \", encoded_x.shape)\n",
    "# encoded_x = np.array(features)\n",
    "# encoded_x = encoded_x.reshape(X.shape[0], X.shape[1])"
   ]
  },
  {
   "cell_type": "code",
   "execution_count": 15,
   "metadata": {},
   "outputs": [],
   "source": [
    "other_cols = [\"visitNumber\", \"timeSinceLastVisit\", \"isMobile\", \"isTrueDirect\", \"hits\", \"pageviews\"]"
   ]
  },
  {
   "cell_type": "code",
   "execution_count": 16,
   "metadata": {},
   "outputs": [],
   "source": [
    "X = np.concatenate((X[other_cols].fillna(0), encoded_x), axis=1)"
   ]
  },
  {
   "cell_type": "code",
   "execution_count": 17,
   "metadata": {},
   "outputs": [],
   "source": [
    "y = Binarizer().transform(y.values.reshape(-1, 1))"
   ]
  },
  {
   "cell_type": "code",
   "execution_count": 18,
   "metadata": {},
   "outputs": [
    {
     "name": "stdout",
     "output_type": "stream",
     "text": [
      "[1.]\n",
      "[0.]\n"
     ]
    }
   ],
   "source": [
    "print(max(y))\n",
    "print(min(y))"
   ]
  },
  {
   "cell_type": "code",
   "execution_count": 19,
   "metadata": {},
   "outputs": [
    {
     "name": "stdout",
     "output_type": "stream",
     "text": [
      "(83578, 2504)\n"
     ]
    }
   ],
   "source": [
    "print(X.shape)"
   ]
  },
  {
   "cell_type": "code",
   "execution_count": 20,
   "metadata": {},
   "outputs": [],
   "source": [
    "X_train, X_cv, y_train, y_cv = train_test_split(X, y, test_size=cv_size)#, random_state=seed)"
   ]
  },
  {
   "cell_type": "code",
   "execution_count": 21,
   "metadata": {},
   "outputs": [
    {
     "name": "stdout",
     "output_type": "stream",
     "text": [
      "(58504, 2504)\n",
      "(25074, 2504)\n"
     ]
    }
   ],
   "source": [
    "print(X_train.shape)\n",
    "print(X_cv.shape)"
   ]
  },
  {
   "cell_type": "code",
   "execution_count": 22,
   "metadata": {},
   "outputs": [
    {
     "name": "stdout",
     "output_type": "stream",
     "text": [
      "(58504, 1)\n",
      "(25074, 1)\n"
     ]
    }
   ],
   "source": [
    "print(y_train.shape)\n",
    "print(y_cv.shape)"
   ]
  },
  {
   "cell_type": "code",
   "execution_count": 23,
   "metadata": {},
   "outputs": [],
   "source": [
    "xgtrain = xgb.DMatrix(X_train, y_train)\n",
    "xgcv = xgb.DMatrix(X_cv, y_cv)"
   ]
  },
  {
   "cell_type": "code",
   "execution_count": null,
   "metadata": {},
   "outputs": [],
   "source": [
    "# Specify sufficient boosting iterations to reach a minimum\n",
    "num_round = 500\n",
    "evallist = [(xgcv, 'eval'), (xgtrain, 'train')]\n",
    "# Leave most parameters as default\n",
    "param = {'objective': 'binary:logistic',\n",
    "         'tree_method': 'gpu_hist', # Use GPU accelerated algorithm\n",
    "         'lambda': 1.5,\n",
    "         'alpha': .2\n",
    "         }\n",
    "bst = xgb.train(param, xgtrain, num_round, evallist, early_stopping_rounds=10)"
   ]
  },
  {
   "cell_type": "code",
   "execution_count": null,
   "metadata": {},
   "outputs": [],
   "source": [
    "# model = xgb.XGBClassifier()\n",
    "# model.fit(X_train, y_train)"
   ]
  },
  {
   "cell_type": "code",
   "execution_count": null,
   "metadata": {},
   "outputs": [],
   "source": [
    "# # specify parameters via map\n",
    "# param = {'max_depth':2, 'eta':1, 'silent':0, 'objective':'binary:logistic'}\n",
    "\n",
    "# # specify validations set to watch performance\n",
    "# watchlist = [(xgcv, 'eval'), (xgtrain, 'train')]\n",
    "# num_round = 2\n",
    "# bst = xgb.train(param, xgtrain, num_round, watchlist)"
   ]
  },
  {
   "cell_type": "code",
   "execution_count": 37,
   "metadata": {},
   "outputs": [],
   "source": [
    "bst.save_model('more_feat2000.model')"
   ]
  },
  {
   "cell_type": "code",
   "execution_count": 39,
   "metadata": {},
   "outputs": [],
   "source": [
    "#pred = bst.predict(xgcv)"
   ]
  },
  {
   "cell_type": "code",
   "execution_count": 54,
   "metadata": {},
   "outputs": [
    {
     "data": {
      "text/plain": [
       "0.2833333333333333"
      ]
     },
     "execution_count": 54,
     "metadata": {},
     "output_type": "execute_result"
    },
    {
     "data": {
      "image/png": "[encoded data removed]",
      "text/plain": [
       "<Figure size 1440x720 with 1 Axes>"
      ]
     },
     "metadata": {
      "needs_background": "light"
     },
     "output_type": "display_data"
    }
   ],
   "source": [
    "plot_pred(bst, xgcv, y_cv)"
   ]
  },
  {
   "cell_type": "code",
   "execution_count": 55,
   "metadata": {},
   "outputs": [
    {
     "ename": "ValueError",
     "evalue": "Found input variables with inconsistent numbers of samples: [25074, 58504]",
     "output_type": "error",
     "traceback": [
      "\u001b[0;31m---------------------------------------------------------------------------\u001b[0m",
      "\u001b[0;31mValueError\u001b[0m                                Traceback (most recent call last)",
      "\u001b[0;32m<ipython-input-55-43b47da921a2>\u001b[0m in \u001b[0;36m<module>\u001b[0;34m()\u001b[0m\n\u001b[1;32m      1\u001b[0m \u001b[0mbin_pred\u001b[0m \u001b[0;34m=\u001b[0m \u001b[0mBinarizer\u001b[0m\u001b[0;34m(\u001b[0m\u001b[0mthreshold\u001b[0m\u001b[0;34m=\u001b[0m\u001b[0;36m0.3\u001b[0m\u001b[0;34m)\u001b[0m\u001b[0;34m.\u001b[0m\u001b[0mtransform\u001b[0m\u001b[0;34m(\u001b[0m\u001b[0mpred\u001b[0m\u001b[0;34m.\u001b[0m\u001b[0mreshape\u001b[0m\u001b[0;34m(\u001b[0m\u001b[0;34m-\u001b[0m\u001b[0;36m1\u001b[0m\u001b[0;34m,\u001b[0m\u001b[0;36m1\u001b[0m\u001b[0;34m)\u001b[0m\u001b[0;34m)\u001b[0m\u001b[0;34m\u001b[0m\u001b[0m\n\u001b[0;32m----> 2\u001b[0;31m \u001b[0mf1\u001b[0m \u001b[0;34m=\u001b[0m \u001b[0mf1_score\u001b[0m\u001b[0;34m(\u001b[0m\u001b[0my_cv\u001b[0m\u001b[0;34m,\u001b[0m \u001b[0mbin_pred\u001b[0m\u001b[0;34m)\u001b[0m\u001b[0;34m\u001b[0m\u001b[0m\n\u001b[0m\u001b[1;32m      3\u001b[0m \u001b[0mf1\u001b[0m\u001b[0;34m\u001b[0m\u001b[0m\n",
      "\u001b[0;32m~/dl_env/lib/python3.6/site-packages/sklearn/metrics/classification.py\u001b[0m in \u001b[0;36mf1_score\u001b[0;34m(y_true, y_pred, labels, pos_label, average, sample_weight)\u001b[0m\n\u001b[1;32m    712\u001b[0m     return fbeta_score(y_true, y_pred, 1, labels=labels,\n\u001b[1;32m    713\u001b[0m                        \u001b[0mpos_label\u001b[0m\u001b[0;34m=\u001b[0m\u001b[0mpos_label\u001b[0m\u001b[0;34m,\u001b[0m \u001b[0maverage\u001b[0m\u001b[0;34m=\u001b[0m\u001b[0maverage\u001b[0m\u001b[0;34m,\u001b[0m\u001b[0;34m\u001b[0m\u001b[0m\n\u001b[0;32m--> 714\u001b[0;31m                        sample_weight=sample_weight)\n\u001b[0m\u001b[1;32m    715\u001b[0m \u001b[0;34m\u001b[0m\u001b[0m\n\u001b[1;32m    716\u001b[0m \u001b[0;34m\u001b[0m\u001b[0m\n",
      "\u001b[0;32m~/dl_env/lib/python3.6/site-packages/sklearn/metrics/classification.py\u001b[0m in \u001b[0;36mfbeta_score\u001b[0;34m(y_true, y_pred, beta, labels, pos_label, average, sample_weight)\u001b[0m\n\u001b[1;32m    826\u001b[0m                                                  \u001b[0maverage\u001b[0m\u001b[0;34m=\u001b[0m\u001b[0maverage\u001b[0m\u001b[0;34m,\u001b[0m\u001b[0;34m\u001b[0m\u001b[0m\n\u001b[1;32m    827\u001b[0m                                                  \u001b[0mwarn_for\u001b[0m\u001b[0;34m=\u001b[0m\u001b[0;34m(\u001b[0m\u001b[0;34m'f-score'\u001b[0m\u001b[0;34m,\u001b[0m\u001b[0;34m)\u001b[0m\u001b[0;34m,\u001b[0m\u001b[0;34m\u001b[0m\u001b[0m\n\u001b[0;32m--> 828\u001b[0;31m                                                  sample_weight=sample_weight)\n\u001b[0m\u001b[1;32m    829\u001b[0m     \u001b[0;32mreturn\u001b[0m \u001b[0mf\u001b[0m\u001b[0;34m\u001b[0m\u001b[0m\n\u001b[1;32m    830\u001b[0m \u001b[0;34m\u001b[0m\u001b[0m\n",
      "\u001b[0;32m~/dl_env/lib/python3.6/site-packages/sklearn/metrics/classification.py\u001b[0m in \u001b[0;36mprecision_recall_fscore_support\u001b[0;34m(y_true, y_pred, beta, labels, pos_label, average, warn_for, sample_weight)\u001b[0m\n\u001b[1;32m   1023\u001b[0m         \u001b[0;32mraise\u001b[0m \u001b[0mValueError\u001b[0m\u001b[0;34m(\u001b[0m\u001b[0;34m\"beta should be >0 in the F-beta score\"\u001b[0m\u001b[0;34m)\u001b[0m\u001b[0;34m\u001b[0m\u001b[0m\n\u001b[1;32m   1024\u001b[0m \u001b[0;34m\u001b[0m\u001b[0m\n\u001b[0;32m-> 1025\u001b[0;31m     \u001b[0my_type\u001b[0m\u001b[0;34m,\u001b[0m \u001b[0my_true\u001b[0m\u001b[0;34m,\u001b[0m \u001b[0my_pred\u001b[0m \u001b[0;34m=\u001b[0m \u001b[0m_check_targets\u001b[0m\u001b[0;34m(\u001b[0m\u001b[0my_true\u001b[0m\u001b[0;34m,\u001b[0m \u001b[0my_pred\u001b[0m\u001b[0;34m)\u001b[0m\u001b[0;34m\u001b[0m\u001b[0m\n\u001b[0m\u001b[1;32m   1026\u001b[0m     \u001b[0mpresent_labels\u001b[0m \u001b[0;34m=\u001b[0m \u001b[0munique_labels\u001b[0m\u001b[0;34m(\u001b[0m\u001b[0my_true\u001b[0m\u001b[0;34m,\u001b[0m \u001b[0my_pred\u001b[0m\u001b[0;34m)\u001b[0m\u001b[0;34m\u001b[0m\u001b[0m\n\u001b[1;32m   1027\u001b[0m \u001b[0;34m\u001b[0m\u001b[0m\n",
      "\u001b[0;32m~/dl_env/lib/python3.6/site-packages/sklearn/metrics/classification.py\u001b[0m in \u001b[0;36m_check_targets\u001b[0;34m(y_true, y_pred)\u001b[0m\n\u001b[1;32m     69\u001b[0m     \u001b[0my_pred\u001b[0m \u001b[0;34m:\u001b[0m \u001b[0marray\u001b[0m \u001b[0;32mor\u001b[0m \u001b[0mindicator\u001b[0m \u001b[0mmatrix\u001b[0m\u001b[0;34m\u001b[0m\u001b[0m\n\u001b[1;32m     70\u001b[0m     \"\"\"\n\u001b[0;32m---> 71\u001b[0;31m     \u001b[0mcheck_consistent_length\u001b[0m\u001b[0;34m(\u001b[0m\u001b[0my_true\u001b[0m\u001b[0;34m,\u001b[0m \u001b[0my_pred\u001b[0m\u001b[0;34m)\u001b[0m\u001b[0;34m\u001b[0m\u001b[0m\n\u001b[0m\u001b[1;32m     72\u001b[0m     \u001b[0mtype_true\u001b[0m \u001b[0;34m=\u001b[0m \u001b[0mtype_of_target\u001b[0m\u001b[0;34m(\u001b[0m\u001b[0my_true\u001b[0m\u001b[0;34m)\u001b[0m\u001b[0;34m\u001b[0m\u001b[0m\n\u001b[1;32m     73\u001b[0m     \u001b[0mtype_pred\u001b[0m \u001b[0;34m=\u001b[0m \u001b[0mtype_of_target\u001b[0m\u001b[0;34m(\u001b[0m\u001b[0my_pred\u001b[0m\u001b[0;34m)\u001b[0m\u001b[0;34m\u001b[0m\u001b[0m\n",
      "\u001b[0;32m~/dl_env/lib/python3.6/site-packages/sklearn/utils/validation.py\u001b[0m in \u001b[0;36mcheck_consistent_length\u001b[0;34m(*arrays)\u001b[0m\n\u001b[1;32m    202\u001b[0m     \u001b[0;32mif\u001b[0m \u001b[0mlen\u001b[0m\u001b[0;34m(\u001b[0m\u001b[0muniques\u001b[0m\u001b[0;34m)\u001b[0m \u001b[0;34m>\u001b[0m \u001b[0;36m1\u001b[0m\u001b[0;34m:\u001b[0m\u001b[0;34m\u001b[0m\u001b[0m\n\u001b[1;32m    203\u001b[0m         raise ValueError(\"Found input variables with inconsistent numbers of\"\n\u001b[0;32m--> 204\u001b[0;31m                          \" samples: %r\" % [int(l) for l in lengths])\n\u001b[0m\u001b[1;32m    205\u001b[0m \u001b[0;34m\u001b[0m\u001b[0m\n\u001b[1;32m    206\u001b[0m \u001b[0;34m\u001b[0m\u001b[0m\n",
      "\u001b[0;31mValueError\u001b[0m: Found input variables with inconsistent numbers of samples: [25074, 58504]"
     ]
    }
   ],
   "source": [
    "bin_pred = Binarizer(threshold=0.3).transform(pred.reshape(-1,1))\n",
    "f1 = f1_score(y_cv, bin_pred)\n",
    "f1"
   ]
  },
  {
   "cell_type": "code",
   "execution_count": 42,
   "metadata": {},
   "outputs": [
    {
     "name": "stdout",
     "output_type": "stream",
     "text": [
      "[2.84894885e-10 2.27357528e-08 5.77394621e-06 ... 1.00606625e-08\n",
      " 9.94450867e-01 1.52895223e-06]\n",
      "[[0.]\n",
      " [0.]\n",
      " [0.]\n",
      " ...\n",
      " [0.]\n",
      " [1.]\n",
      " [0.]]\n"
     ]
    }
   ],
   "source": [
    "print(pred)\n",
    "print(bin_pred)"
   ]
  },
  {
   "cell_type": "code",
   "execution_count": 43,
   "metadata": {},
   "outputs": [
    {
     "data": {
      "text/plain": [
       "0.6847428448461375"
      ]
     },
     "execution_count": 43,
     "metadata": {},
     "output_type": "execute_result"
    }
   ],
   "source": [
    "f1 = f1_score(y_cv, bin_pred)\n",
    "f1"
   ]
  },
  {
   "cell_type": "code",
   "execution_count": 44,
   "metadata": {},
   "outputs": [
    {
     "data": {
      "text/plain": [
       "0.9978168208753508"
      ]
     },
     "execution_count": 44,
     "metadata": {},
     "output_type": "execute_result"
    }
   ],
   "source": [
    "pred = bst.predict(xgtrain)\n",
    "bin_pred = Binarizer(threshold=0.4).transform(pred.reshape(-1,1))\n",
    "f1 = f1_score(y_train, bin_pred)\n",
    "f1"
   ]
  },
  {
   "cell_type": "code",
   "execution_count": 45,
   "metadata": {},
   "outputs": [],
   "source": [
    "def plot_pred(model, x, y):\n",
    "    pred = model.predict(x)\n",
    "    f1_list = []\n",
    "    thresholds = np.linspace(0.15, .55, 100)\n",
    "    for i in thresholds:\n",
    "        bin_pred = Binarizer(threshold=i).transform(pred.reshape(-1,1))\n",
    "        f1 = f1_score(y, bin_pred)\n",
    "        f1_list.append(f1)\n",
    "    fig, ax = plt.subplots(figsize=(20, 10))\n",
    "    plt.plot(f1_list)\n",
    "    return thresholds[np.argmax(f1_list)]"
   ]
  },
  {
   "cell_type": "code",
   "execution_count": 56,
   "metadata": {},
   "outputs": [
    {
     "data": {
      "text/plain": [
       "0.5015151515151515"
      ]
     },
     "execution_count": 56,
     "metadata": {},
     "output_type": "execute_result"
    },
    {
     "data": {
      "image/png": "[encoded data removed]",
      "text/plain": [
       "<Figure size 1440x720 with 1 Axes>"
      ]
     },
     "metadata": {
      "needs_background": "light"
     },
     "output_type": "display_data"
    }
   ],
   "source": [
    "plot_pred(bst, xgtrain, y_train)"
   ]
  },
  {
   "cell_type": "code",
   "execution_count": null,
   "metadata": {},
   "outputs": [],
   "source": [
    "bst.get_fscore()"
   ]
  },
  {
   "cell_type": "code",
   "execution_count": null,
   "metadata": {},
   "outputs": [],
   "source": []
  },
  {
   "cell_type": "code",
   "execution_count": 61,
   "metadata": {},
   "outputs": [],
   "source": [
    "from bayes_opt import BayesianOptimization"
   ]
  },
  {
   "cell_type": "code",
   "execution_count": 90,
   "metadata": {},
   "outputs": [],
   "source": [
    "def XGB_CV(\n",
    "          max_depth,\n",
    "          gamma,\n",
    "          min_child_weight,\n",
    "          max_delta_step,\n",
    "          subsample,\n",
    "          colsample_bytree,\n",
    "          lamb,\n",
    "          alpha\n",
    "         ):\n",
    "\n",
    "    global AUCbest\n",
    "    global ITERbest\n",
    "    AUCbest = 0\n",
    "    ITERbest = 0\n",
    "\n",
    "#\n",
    "# Define all XGboost parameters\n",
    "#\n",
    "\n",
    "    paramt = {\n",
    "              'booster' : 'gbtree',\n",
    "              'max_depth' : int(max_depth),\n",
    "              'gamma' : gamma,\n",
    "              'eta' : 0.1,\n",
    "              'objective' : 'binary:logistic',\n",
    "              'nthread' : 4,\n",
    "              'silent' : False,\n",
    "#               'eval_metric': 'auc',\n",
    "              'tree_method': 'gpu_hist', # Use GPU accelerated algorithm\n",
    "              'lambda': lamb,\n",
    "              'alpha': alpha,\n",
    "              'subsample' : max(min(subsample, 1), 0),\n",
    "              'colsample_bytree' : max(min(colsample_bytree, 1), 0),\n",
    "              'min_child_weight' : min_child_weight,\n",
    "              'max_delta_step' : int(max_delta_step),\n",
    "              'seed' : 1001\n",
    "              }\n",
    "    log_file = open('test1.log', 'a')\n",
    "    folds = 5\n",
    "    cv_score = 0\n",
    "\n",
    "    print(\"\\n Search parameters (%d-fold validation):\\n %s\" % (folds, paramt), file=log_file )\n",
    "    log_file.flush()\n",
    "\n",
    "    xgbc = xgb.cv(\n",
    "                    paramt,\n",
    "                    xgtrain,\n",
    "                    num_boost_round = 20000,\n",
    "                    stratified = True,\n",
    "                    nfold = folds,\n",
    "                    verbose_eval = 10,\n",
    "                    early_stopping_rounds = 10,\n",
    "                    metrics = 'auc',\n",
    "                    show_stdv = True\n",
    "               )\n",
    "    \n",
    "    val_score = xgbc['test-auc-mean'].iloc[-1]\n",
    "    train_score = xgbc['train-auc-mean'].iloc[-1]\n",
    "    print(' Stopped after %d iterations with train-auc = %f val-auc = %f ( diff = %f ) train-gini = %f val-gini = %f' % ( len(xgbc), train_score, val_score, (train_score - val_score), (train_score*2-1),\n",
    "    (val_score*2-1)) )\n",
    "    if (val_score > AUCbest):\n",
    "        AUCbest = val_score\n",
    "        ITERbest = len(xgbc)\n",
    "\n",
    "    return (val_score*2) - 1"
   ]
  },
  {
   "cell_type": "code",
   "execution_count": 91,
   "metadata": {},
   "outputs": [],
   "source": [
    "XGB_BO = BayesianOptimization(XGB_CV, {\n",
    "                                     'max_depth': (2, 12),\n",
    "                                     'gamma': (0.001, 10.0),\n",
    "                                     'min_child_weight': (0, 20),\n",
    "                                     'max_delta_step': (0, 10),\n",
    "                                     'subsample': (0.4, 1.0),\n",
    "                                     'colsample_bytree': (0.4, 1.0),\n",
    "                                     'lamb': (1.0, 1.7),\n",
    "                                     'alpha': (0.0, 0.5)\n",
    "                                    })"
   ]
  },
  {
   "cell_type": "code",
   "execution_count": 92,
   "metadata": {},
   "outputs": [],
   "source": [
    "XGB_BO.explore({\n",
    "              'max_depth':            [3, 8, 3, 8, 8, 3, 8, 3],\n",
    "              'gamma':                [0.5, 8, 0.2, 9, 0.5, 8, 0.2, 9],\n",
    "              'min_child_weight':     [0.2, 0.2, 0.2, 0.2, 12, 12, 12, 12],\n",
    "              'max_delta_step':       [1, 2, 2, 1, 2, 1, 1, 2],\n",
    "              'subsample':            [0.6, 0.8, 0.6, 0.8, 0.6, 0.8, 0.6, 0.8],\n",
    "              'colsample_bytree':     [0.6, 0.8, 0.6, 0.8, 0.6, 0.8, 0.6, 0.8],\n",
    "              'lamb':                 [1.0, 1.1, 1.2, 1.3, 1.4, 1.5, 1.6, 1.7],\n",
    "              'alpha':                [0.0, 0.1, 0.15, 0.2, 0.25, 0.3, 0.4, 0.5]\n",
    "              })"
   ]
  },
  {
   "cell_type": "code",
   "execution_count": null,
   "metadata": {},
   "outputs": [
    {
     "name": "stdout",
     "output_type": "stream",
     "text": [
      "\u001b[31mInitialization\u001b[0m\n",
      "\u001b[94m----------------------------------------------------------------------------------------------------------------------------------------------------------\u001b[0m\n",
      " Step |   Time |      Value |     alpha |   colsample_bytree |     gamma |      lamb |   max_delta_step |   max_depth |   min_child_weight |   subsample | \n",
      "[0]\ttrain-auc:0.887266+0.0100535\ttest-auc:0.886198+0.0177241\n",
      "[10]\ttrain-auc:0.961862+0.00162782\ttest-auc:0.960448+0.00321419\n",
      "[20]\ttrain-auc:0.969922+0.000723981\ttest-auc:0.96894+0.00193992\n",
      "[30]\ttrain-auc:0.971717+0.00065805\ttest-auc:0.970833+0.00179498\n",
      "[40]\ttrain-auc:0.972654+0.000596129\ttest-auc:0.971652+0.00155369\n",
      "[50]\ttrain-auc:0.973344+0.000533081\ttest-auc:0.972204+0.00148824\n",
      "[60]\ttrain-auc:0.973916+0.00058128\ttest-auc:0.972694+0.00141513\n",
      "[70]\ttrain-auc:0.974372+0.000553977\ttest-auc:0.972968+0.00139221\n",
      "[80]\ttrain-auc:0.974979+0.000540886\ttest-auc:0.973457+0.00142004\n",
      "[90]\ttrain-auc:0.975752+0.000405789\ttest-auc:0.973933+0.00150413\n",
      "[100]\ttrain-auc:0.976463+0.000399734\ttest-auc:0.974339+0.00142222\n",
      "[110]\ttrain-auc:0.976993+0.000305904\ttest-auc:0.974733+0.00152379\n",
      "[120]\ttrain-auc:0.977467+0.000295753\ttest-auc:0.975026+0.00144935\n",
      "[130]\ttrain-auc:0.97781+0.00026771\ttest-auc:0.975156+0.0014831\n",
      "[140]\ttrain-auc:0.978289+0.000219789\ttest-auc:0.97546+0.00141887\n",
      "[150]\ttrain-auc:0.97861+0.000214393\ttest-auc:0.97563+0.00139935\n",
      "[160]\ttrain-auc:0.979052+0.000233369\ttest-auc:0.975879+0.00124242\n",
      "[170]\ttrain-auc:0.979352+0.000168692\ttest-auc:0.976069+0.00122178\n",
      "[180]\ttrain-auc:0.979649+0.000156084\ttest-auc:0.976222+0.00125283\n",
      "[190]\ttrain-auc:0.979927+0.00017347\ttest-auc:0.976301+0.00121008\n",
      "[200]\ttrain-auc:0.98014+0.000208818\ttest-auc:0.976413+0.00116081\n",
      "[210]\ttrain-auc:0.980412+0.000200541\ttest-auc:0.976627+0.00115545\n",
      "[220]\ttrain-auc:0.980596+0.00021939\ttest-auc:0.976668+0.00115265\n",
      "[230]\ttrain-auc:0.980803+0.000232398\ttest-auc:0.976751+0.00111215\n",
      "[240]\ttrain-auc:0.980978+0.00023059\ttest-auc:0.976829+0.00110303\n",
      "[250]\ttrain-auc:0.981165+0.000239717\ttest-auc:0.976863+0.00108545\n",
      "[260]\ttrain-auc:0.981285+0.000225131\ttest-auc:0.9769+0.00113055\n",
      "[270]\ttrain-auc:0.981462+0.000221115\ttest-auc:0.97695+0.0011135\n",
      "[280]\ttrain-auc:0.981614+0.000219531\ttest-auc:0.976973+0.00113316\n",
      "[290]\ttrain-auc:0.981738+0.000209996\ttest-auc:0.976983+0.00112904\n",
      "[300]\ttrain-auc:0.981893+0.000216106\ttest-auc:0.977028+0.00111209\n",
      "[310]\ttrain-auc:0.982036+0.000200626\ttest-auc:0.977056+0.0010916\n",
      "[320]\ttrain-auc:0.982194+0.000220862\ttest-auc:0.977134+0.00108355\n",
      "[330]\ttrain-auc:0.98233+0.000226215\ttest-auc:0.977141+0.00108342\n",
      "[340]\ttrain-auc:0.982465+0.000206311\ttest-auc:0.977178+0.00106235\n",
      "[350]\ttrain-auc:0.982607+0.000183632\ttest-auc:0.97718+0.00107904\n",
      "[360]\ttrain-auc:0.982734+0.000172438\ttest-auc:0.977235+0.0010673\n",
      "[370]\ttrain-auc:0.982851+0.000164954\ttest-auc:0.97725+0.00108246\n",
      "[380]\ttrain-auc:0.982987+0.000165239\ttest-auc:0.977314+0.00109296\n",
      "[390]\ttrain-auc:0.983086+0.000167187\ttest-auc:0.977316+0.00112315\n",
      "[400]\ttrain-auc:0.983187+0.00014076\ttest-auc:0.977323+0.00112141\n",
      " Stopped after 393 iterations with train-auc = 0.983107 val-auc = 0.977325 ( diff = 0.005782 ) train-gini = 0.966213 val-gini = 0.954650\n",
      "    1 | 00m52s | \u001b[35m   0.95465\u001b[0m | \u001b[32m   0.0000\u001b[0m | \u001b[32m            0.6000\u001b[0m | \u001b[32m   0.5000\u001b[0m | \u001b[32m   1.0000\u001b[0m | \u001b[32m          1.0000\u001b[0m | \u001b[32m     3.0000\u001b[0m | \u001b[32m            0.2000\u001b[0m | \u001b[32m     0.6000\u001b[0m | \n",
      "[0]\ttrain-auc:0.972433+0.00121149\ttest-auc:0.965958+0.00190725\n",
      "[10]\ttrain-auc:0.980183+0.00103357\ttest-auc:0.972515+0.00193599\n",
      "[20]\ttrain-auc:0.982649+0.000906693\ttest-auc:0.974385+0.00154806\n",
      "[30]\ttrain-auc:0.985206+0.0005824\ttest-auc:0.975274+0.00116267\n",
      "[40]\ttrain-auc:0.986836+0.000402382\ttest-auc:0.976023+0.00107353\n",
      "[50]\ttrain-auc:0.988122+0.00031711\ttest-auc:0.976184+0.00107263\n",
      "[60]\ttrain-auc:0.988983+0.000352526\ttest-auc:0.976375+0.00108401\n",
      "[70]\ttrain-auc:0.989822+0.00021423\ttest-auc:0.97663+0.00111404\n",
      "[80]\ttrain-auc:0.990471+0.000201122\ttest-auc:0.976714+0.00107801\n",
      "[90]\ttrain-auc:0.991116+0.000229083\ttest-auc:0.976799+0.00106229\n",
      "[100]\ttrain-auc:0.991846+0.000297443\ttest-auc:0.976829+0.00110831\n",
      " Stopped after 95 iterations with train-auc = 0.991409 val-auc = 0.976870 ( diff = 0.014540 ) train-gini = 0.982819 val-gini = 0.953740\n",
      "    2 | 00m46s |    0.95374 |    0.1000 |             0.8000 |    8.0000 |    1.1000 |           2.0000 |      8.0000 |             0.2000 |      0.8000 | \n",
      "[0]\ttrain-auc:0.957418+0.00257248\ttest-auc:0.957029+0.00327652\n",
      "[10]\ttrain-auc:0.968976+0.000677778\ttest-auc:0.967994+0.00180144\n",
      "[20]\ttrain-auc:0.970686+0.000501274\ttest-auc:0.969928+0.00180587\n",
      "[30]\ttrain-auc:0.971831+0.00047845\ttest-auc:0.970952+0.00187109\n",
      "[40]\ttrain-auc:0.972737+0.000510006\ttest-auc:0.971704+0.00161605\n",
      "[50]\ttrain-auc:0.973443+0.000414925\ttest-auc:0.97233+0.00164566\n",
      "[60]\ttrain-auc:0.974088+0.000401642\ttest-auc:0.972882+0.0016051\n",
      "[70]\ttrain-auc:0.974586+0.000355485\ttest-auc:0.973249+0.00159886\n",
      "[80]\ttrain-auc:0.975205+0.0003231\ttest-auc:0.973663+0.00158611\n",
      "[90]\ttrain-auc:0.975928+0.000334078\ttest-auc:0.974181+0.00158569\n",
      "[100]\ttrain-auc:0.976726+0.000336442\ttest-auc:0.974717+0.00148448\n",
      "[110]\ttrain-auc:0.977253+0.00031081\ttest-auc:0.975032+0.00146872\n",
      "[120]\ttrain-auc:0.977663+0.000322414\ttest-auc:0.975333+0.00136762\n",
      "[130]\ttrain-auc:0.978037+0.000282926\ttest-auc:0.975499+0.00139162\n",
      "[140]\ttrain-auc:0.978533+0.000247713\ttest-auc:0.97582+0.0013709\n",
      "[150]\ttrain-auc:0.978851+0.000245707\ttest-auc:0.975913+0.00136529\n",
      "[160]\ttrain-auc:0.979254+0.000265428\ttest-auc:0.976127+0.00122503\n",
      "[170]\ttrain-auc:0.979573+0.000232572\ttest-auc:0.976283+0.00118403\n",
      "[180]\ttrain-auc:0.979856+0.000190923\ttest-auc:0.976438+0.00129438\n",
      "[190]\ttrain-auc:0.980125+0.000217823\ttest-auc:0.976555+0.00123032\n",
      "[200]\ttrain-auc:0.980316+0.000232566\ttest-auc:0.976667+0.00120064\n",
      "[210]\ttrain-auc:0.980544+0.000214645\ttest-auc:0.976845+0.00122734\n",
      "[220]\ttrain-auc:0.980755+0.000207848\ttest-auc:0.97691+0.00123837\n",
      "[230]\ttrain-auc:0.980966+0.000215264\ttest-auc:0.976977+0.0011976\n",
      "[240]\ttrain-auc:0.981155+0.000205515\ttest-auc:0.977028+0.00116593\n",
      "[250]\ttrain-auc:0.981349+0.00020805\ttest-auc:0.977096+0.00114819\n",
      "[260]\ttrain-auc:0.98147+0.000205448\ttest-auc:0.977112+0.00117138\n",
      " Stopped after 255 iterations with train-auc = 0.981403 val-auc = 0.977122 ( diff = 0.004281 ) train-gini = 0.962806 val-gini = 0.954244\n",
      "    3 | 00m36s |    0.95424 |    0.1500 |             0.6000 |    0.2000 |    1.2000 |           2.0000 |      3.0000 |             0.2000 |      0.6000 | \n",
      "[0]\ttrain-auc:0.899808+0.00269954\ttest-auc:0.883265+0.00418144\n",
      "[10]\ttrain-auc:0.971096+0.00211662\ttest-auc:0.961216+0.00397961\n",
      "[20]\ttrain-auc:0.980692+0.000639106\ttest-auc:0.972136+0.0024407\n",
      "[30]\ttrain-auc:0.983657+0.000740252\ttest-auc:0.974297+0.0013795\n",
      "[40]\ttrain-auc:0.985935+0.000528672\ttest-auc:0.975639+0.00135553\n",
      "[50]\ttrain-auc:0.987248+0.000390645\ttest-auc:0.975832+0.00136106\n",
      "[60]\ttrain-auc:0.988148+0.000385572\ttest-auc:0.976268+0.00123975\n",
      "[70]\ttrain-auc:0.988919+0.000253516\ttest-auc:0.97656+0.00124599\n",
      "[80]\ttrain-auc:0.989548+0.00028482\ttest-auc:0.976677+0.00119331\n",
      "[90]\ttrain-auc:0.990125+0.000231554\ttest-auc:0.976729+0.00117776\n",
      "[100]\ttrain-auc:0.990807+0.000318316\ttest-auc:0.976803+0.0011877\n",
      "[110]\ttrain-auc:0.991493+0.000248114\ttest-auc:0.976881+0.00119912\n",
      " Stopped after 110 iterations with train-auc = 0.991451 val-auc = 0.976888 ( diff = 0.014564 ) train-gini = 0.982903 val-gini = 0.953776\n",
      "    4 | 00m50s |    0.95378 |    0.2000 |             0.8000 |    9.0000 |    1.3000 |           1.0000 |      8.0000 |             0.2000 |      0.8000 | \n",
      "[0]\ttrain-auc:0.962179+0.0027068\ttest-auc:0.9604+0.00259912\n",
      "[10]\ttrain-auc:0.975482+0.00113016\ttest-auc:0.972375+0.00131462\n",
      "[20]\ttrain-auc:0.97803+0.0003497\ttest-auc:0.974518+0.00117741\n",
      "[30]\ttrain-auc:0.979251+0.000326439\ttest-auc:0.975495+0.0011375\n",
      "[40]\ttrain-auc:0.980247+0.000255444\ttest-auc:0.97604+0.00115437\n",
      "[50]\ttrain-auc:0.980942+0.000220642\ttest-auc:0.976275+0.00122061\n",
      "[60]\ttrain-auc:0.98153+0.000172697\ttest-auc:0.976509+0.00113777\n",
      "[70]\ttrain-auc:0.98203+9.64e-05\ttest-auc:0.97665+0.00110879\n",
      "[80]\ttrain-auc:0.982457+9.59783e-05\ttest-auc:0.976753+0.00107293\n",
      "[90]\ttrain-auc:0.982925+8.16691e-05\ttest-auc:0.976849+0.00101828\n",
      "[100]\ttrain-auc:0.983336+9.27586e-05\ttest-auc:0.976843+0.00104251\n",
      " Stopped after 96 iterations with train-auc = 0.983151 val-auc = 0.976881 ( diff = 0.006270 ) train-gini = 0.966302 val-gini = 0.953762\n",
      "    5 | 00m32s |    0.95376 |    0.2500 |             0.6000 |    0.5000 |    1.4000 |           2.0000 |      8.0000 |            12.0000 |      0.6000 | \n",
      "[0]\ttrain-auc:0.896846+0.00574316\ttest-auc:0.895284+0.0088186\n",
      "[10]\ttrain-auc:0.960481+0.00117275\ttest-auc:0.959181+0.00552128\n",
      "[20]\ttrain-auc:0.968669+0.000973134\ttest-auc:0.967511+0.00286219\n",
      "[30]\ttrain-auc:0.971763+0.000653103\ttest-auc:0.970472+0.00213166\n",
      "[40]\ttrain-auc:0.972805+0.000412859\ttest-auc:0.971628+0.00160366\n",
      "[50]\ttrain-auc:0.973503+0.00036317\ttest-auc:0.972359+0.00169928\n",
      "[60]\ttrain-auc:0.974114+0.000296673\ttest-auc:0.973003+0.00164253\n",
      "[70]\ttrain-auc:0.974581+0.000348701\ttest-auc:0.973368+0.00155451\n",
      "[80]\ttrain-auc:0.975107+0.000378589\ttest-auc:0.973818+0.00159448\n",
      "[90]\ttrain-auc:0.975743+0.000320846\ttest-auc:0.974284+0.00163385\n",
      "[100]\ttrain-auc:0.976359+0.000290889\ttest-auc:0.974706+0.00154663\n",
      "[110]\ttrain-auc:0.976944+0.000359673\ttest-auc:0.975113+0.00151653\n",
      "[120]\ttrain-auc:0.977454+0.000280711\ttest-auc:0.975407+0.00143224\n",
      "[130]\ttrain-auc:0.977991+0.000183562\ttest-auc:0.975698+0.00143346\n",
      "[140]\ttrain-auc:0.978382+0.000175628\ttest-auc:0.975917+0.00133707\n",
      "[150]\ttrain-auc:0.978703+0.000159127\ttest-auc:0.976076+0.00130807\n",
      "[160]\ttrain-auc:0.978982+0.000159249\ttest-auc:0.976206+0.00130016\n",
      "[170]\ttrain-auc:0.979274+0.000170986\ttest-auc:0.97638+0.00128\n",
      "[180]\ttrain-auc:0.979506+0.000172782\ttest-auc:0.976452+0.00125384\n",
      "[190]\ttrain-auc:0.979725+0.000179156\ttest-auc:0.97658+0.00119347\n",
      "[200]\ttrain-auc:0.979943+0.000177585\ttest-auc:0.976681+0.00118331\n",
      "[210]\ttrain-auc:0.98015+0.000162853\ttest-auc:0.976778+0.00118122\n",
      "[220]\ttrain-auc:0.980308+0.000162827\ttest-auc:0.976861+0.00116025\n",
      "[230]\ttrain-auc:0.98048+0.00016482\ttest-auc:0.976926+0.00115498\n",
      "[240]\ttrain-auc:0.980638+0.000162104\ttest-auc:0.977033+0.00115535\n",
      "[250]\ttrain-auc:0.980779+0.00016237\ttest-auc:0.977049+0.00119973\n",
      "[260]\ttrain-auc:0.980897+0.000177099\ttest-auc:0.977108+0.00120197\n",
      "[270]\ttrain-auc:0.981002+0.000203771\ttest-auc:0.977155+0.00120483\n",
      "[280]\ttrain-auc:0.981104+0.000206523\ttest-auc:0.977172+0.0012127\n",
      " Stopped after 278 iterations with train-auc = 0.981081 val-auc = 0.977183 ( diff = 0.003898 ) train-gini = 0.962162 val-gini = 0.954366\n",
      "    6 | 00m38s |    0.95437 |    0.3000 |             0.8000 |    8.0000 |    1.5000 |           1.0000 |      3.0000 |            12.0000 |      0.8000 | \n",
      "[0]\ttrain-auc:0.894188+0.00486612\ttest-auc:0.889928+0.0111681\n",
      "[10]\ttrain-auc:0.965881+0.00191911\ttest-auc:0.962738+0.00314517\n",
      "[20]\ttrain-auc:0.975975+0.00118766\ttest-auc:0.9728+0.00167955\n",
      "[30]\ttrain-auc:0.978617+0.000377774\ttest-auc:0.975099+0.00130675\n",
      "[40]\ttrain-auc:0.979722+0.00028375\ttest-auc:0.975719+0.00135605\n",
      "[50]\ttrain-auc:0.980566+0.000160777\ttest-auc:0.976077+0.00133797\n",
      "[60]\ttrain-auc:0.981187+0.000159665\ttest-auc:0.976452+0.00127261\n",
      "[70]\ttrain-auc:0.981709+0.000128659\ttest-auc:0.976581+0.0012007\n",
      "[80]\ttrain-auc:0.982152+0.00015947\ttest-auc:0.976688+0.00115687\n",
      "[90]\ttrain-auc:0.982615+0.000124064\ttest-auc:0.976813+0.00106644\n",
      "[100]\ttrain-auc:0.983025+0.000109964\ttest-auc:0.976822+0.00108031\n",
      "[110]\ttrain-auc:0.98347+0.000149565\ttest-auc:0.976864+0.00104253\n",
      "[120]\ttrain-auc:0.983868+0.000185248\ttest-auc:0.976924+0.0010008\n",
      "[130]\ttrain-auc:0.984218+0.00016711\ttest-auc:0.976954+0.00104099\n",
      "[140]\ttrain-auc:0.984528+0.000170082\ttest-auc:0.976961+0.000960725\n",
      " Stopped after 135 iterations with train-auc = 0.984337 val-auc = 0.976975 ( diff = 0.007362 ) train-gini = 0.968674 val-gini = 0.953950\n",
      "    7 | 00m40s |    0.95395 |    0.4000 |             0.6000 |    0.2000 |    1.6000 |           1.0000 |      8.0000 |            12.0000 |      0.6000 | \n",
      "[0]\ttrain-auc:0.963372+0.00099105\ttest-auc:0.962889+0.00274996\n",
      "[10]\ttrain-auc:0.968264+0.000438938\ttest-auc:0.967481+0.00264289\n",
      "[20]\ttrain-auc:0.969868+0.000628031\ttest-auc:0.968996+0.00249907\n",
      "[30]\ttrain-auc:0.97171+0.00066264\ttest-auc:0.970437+0.00203291\n",
      "[40]\ttrain-auc:0.972847+0.000304023\ttest-auc:0.971675+0.00168647\n",
      "[50]\ttrain-auc:0.973576+0.000254359\ttest-auc:0.972427+0.00161423\n",
      "[60]\ttrain-auc:0.974198+0.000296108\ttest-auc:0.972966+0.00159605\n",
      "[70]\ttrain-auc:0.974722+0.000345944\ttest-auc:0.973343+0.00155418\n",
      "[80]\ttrain-auc:0.975356+0.000315132\ttest-auc:0.973866+0.00157541\n",
      "[90]\ttrain-auc:0.976061+0.00029453\ttest-auc:0.974421+0.00152456\n",
      "[100]\ttrain-auc:0.976636+0.00029917\ttest-auc:0.974814+0.00143281\n",
      "[110]\ttrain-auc:0.977193+0.000318335\ttest-auc:0.975266+0.00138009\n",
      "[120]\ttrain-auc:0.97768+0.000276008\ttest-auc:0.97556+0.00129536\n",
      "[130]\ttrain-auc:0.978199+0.000231357\ttest-auc:0.975933+0.00127415\n",
      "[140]\ttrain-auc:0.97858+0.000220939\ttest-auc:0.976133+0.00121185\n",
      "[150]\ttrain-auc:0.978886+0.000227892\ttest-auc:0.976239+0.00116777\n",
      "[160]\ttrain-auc:0.97918+0.000227822\ttest-auc:0.976373+0.00113724\n",
      "[170]\ttrain-auc:0.979424+0.000213045\ttest-auc:0.976508+0.00111581\n",
      "[180]\ttrain-auc:0.97964+0.000191984\ttest-auc:0.976592+0.00109543\n",
      "[190]\ttrain-auc:0.979849+0.00016475\ttest-auc:0.976701+0.00105541\n",
      "[200]\ttrain-auc:0.980045+0.000193847\ttest-auc:0.976754+0.00105913\n",
      "[210]\ttrain-auc:0.980241+0.000197467\ttest-auc:0.97684+0.00103978\n",
      "[220]\ttrain-auc:0.980373+0.000199438\ttest-auc:0.976872+0.00102566\n",
      "[230]\ttrain-auc:0.980523+0.000214326\ttest-auc:0.976928+0.0010117\n",
      "[240]\ttrain-auc:0.980662+0.00021595\ttest-auc:0.977013+0.00099292\n",
      "[250]\ttrain-auc:0.980793+0.000203639\ttest-auc:0.977052+0.00103345\n",
      "[260]\ttrain-auc:0.980907+0.000203783\ttest-auc:0.977107+0.00102697\n",
      "[270]\ttrain-auc:0.98101+0.000218585\ttest-auc:0.977156+0.00101958\n",
      "[280]\ttrain-auc:0.98111+0.000221518\ttest-auc:0.977183+0.00103334\n",
      "[290]\ttrain-auc:0.9812+0.000224497\ttest-auc:0.977183+0.00103344\n",
      " Stopped after 282 iterations with train-auc = 0.981117 val-auc = 0.977185 ( diff = 0.003932 ) train-gini = 0.962235 val-gini = 0.954370\n",
      "    8 | 00m38s |    0.95437 |    0.5000 |             0.8000 |    9.0000 |    1.7000 |           2.0000 |      3.0000 |            12.0000 |      0.8000 | \n",
      "[0]\ttrain-auc:0.975595+0.00120262\ttest-auc:0.966925+0.00179903\n",
      "[10]\ttrain-auc:0.984255+0.000331627\ttest-auc:0.972859+0.00141175\n",
      "[20]\ttrain-auc:0.986832+0.000966164\ttest-auc:0.9739+0.00132363\n",
      "[30]\ttrain-auc:0.988908+0.000679543\ttest-auc:0.974879+0.000859611\n",
      "[40]\ttrain-auc:0.990368+0.000340893\ttest-auc:0.975709+0.00108662\n",
      "[50]\ttrain-auc:0.991405+0.000318977\ttest-auc:0.975883+0.00104371\n",
      "[60]\ttrain-auc:0.991972+0.000256192\ttest-auc:0.976289+0.000981425\n",
      "[70]\ttrain-auc:0.99241+0.000231147\ttest-auc:0.976329+0.00102614\n",
      "[80]\ttrain-auc:0.992793+0.000193831\ttest-auc:0.976394+0.0009377\n",
      "[90]\ttrain-auc:0.993168+0.000234454\ttest-auc:0.976458+0.000931285\n",
      "[100]\ttrain-auc:0.993603+0.000269826\ttest-auc:0.976462+0.000961084\n",
      " Stopped after 95 iterations with train-auc = 0.993331 val-auc = 0.976479 ( diff = 0.016852 ) train-gini = 0.986662 val-gini = 0.952958\n",
      "    9 | 00m55s |    0.95296 |    0.2778 |             0.9592 |    3.6832 |    1.0883 |           8.9302 |     10.0195 |             1.3901 |      0.9997 | \n",
      "[0]\ttrain-auc:0.962958+0.000798342\ttest-auc:0.961215+0.00237915\n",
      "[10]\ttrain-auc:0.974461+0.000952\ttest-auc:0.972449+0.00193248\n",
      "[20]\ttrain-auc:0.977001+0.00081182\ttest-auc:0.974518+0.00118508\n",
      "[30]\ttrain-auc:0.978073+0.00084809\ttest-auc:0.975268+0.000900619\n",
      "[40]\ttrain-auc:0.979174+0.000407246\ttest-auc:0.976022+0.00131313\n",
      "[50]\ttrain-auc:0.979778+0.000334409\ttest-auc:0.976228+0.0013403\n",
      "[60]\ttrain-auc:0.980289+0.000254001\ttest-auc:0.97637+0.00127424\n",
      "[70]\ttrain-auc:0.980804+0.000163595\ttest-auc:0.976551+0.00127978\n",
      "[80]\ttrain-auc:0.981293+0.000244141\ttest-auc:0.976705+0.00122962\n",
      "[90]\ttrain-auc:0.98166+0.000299784\ttest-auc:0.976881+0.00118085\n",
      "[100]\ttrain-auc:0.982036+0.000280011\ttest-auc:0.976891+0.00114649\n",
      "[110]\ttrain-auc:0.982366+0.000284228\ttest-auc:0.976895+0.00117022\n",
      " Stopped after 103 iterations with train-auc = 0.982109 val-auc = 0.976915 ( diff = 0.005194 ) train-gini = 0.964218 val-gini = 0.953830\n",
      "   10 | 00m29s |    0.95383 |    0.3797 |             0.7678 |    2.6182 |    1.4973 |           9.2706 |      7.8512 |            12.7952 |      0.4881 | \n"
     ]
    },
    {
     "name": "stderr",
     "output_type": "stream",
     "text": [
      "/home/zach/dl_env/lib/python3.6/site-packages/sklearn/gaussian_process/gpr.py:457: UserWarning: fmin_l_bfgs_b terminated abnormally with the  state: {'grad': array([-0.00019434]), 'task': b'ABNORMAL_TERMINATION_IN_LNSRCH', 'funcalls': 55, 'nit': 8, 'warnflag': 2}\n",
      "  \" state: %s\" % convergence_dict)\n",
      "/home/zach/dl_env/lib/python3.6/site-packages/sklearn/gaussian_process/gpr.py:335: UserWarning: Predicted variances smaller than 0. Setting those variances to 0.\n",
      "  warnings.warn(\"Predicted variances smaller than 0. \"\n",
      "/home/zach/dl_env/lib/python3.6/site-packages/bayes_opt/helpers.py:109: RuntimeWarning: divide by zero encountered in true_divide\n",
      "  z = (mean - y_max - xi)/std\n"
     ]
    },
    {
     "name": "stdout",
     "output_type": "stream",
     "text": [
      "\u001b[31mBayesian Optimization\u001b[0m\n",
      "\u001b[94m----------------------------------------------------------------------------------------------------------------------------------------------------------\u001b[0m\n",
      " Step |   Time |      Value |     alpha |   colsample_bytree |     gamma |      lamb |   max_delta_step |   max_depth |   min_child_weight |   subsample | \n",
      "[0]\ttrain-auc:0.966568+0.000560767\ttest-auc:0.965294+0.00278853\n",
      "[10]\ttrain-auc:0.973585+0.000426122\ttest-auc:0.972074+0.00225133\n",
      "[20]\ttrain-auc:0.975101+0.000448559\ttest-auc:0.97322+0.00201019\n",
      "[30]\ttrain-auc:0.976692+0.000339274\ttest-auc:0.974393+0.00148745\n",
      "[40]\ttrain-auc:0.978191+0.000219297\ttest-auc:0.975827+0.00150394\n",
      "[50]\ttrain-auc:0.978814+0.000223468\ttest-auc:0.976167+0.0014591\n",
      "[60]\ttrain-auc:0.979282+0.000222442\ttest-auc:0.976426+0.00148842\n",
      "[70]\ttrain-auc:0.979747+0.000178108\ttest-auc:0.976907+0.00123423\n",
      "[80]\ttrain-auc:0.980104+0.000163937\ttest-auc:0.976907+0.0012364\n",
      "[90]\ttrain-auc:0.98046+0.00015639\ttest-auc:0.976974+0.00120979\n",
      "[100]\ttrain-auc:0.980744+0.000150658\ttest-auc:0.977014+0.00114353\n",
      " Stopped after 98 iterations with train-auc = 0.980657 val-auc = 0.977045 ( diff = 0.003612 ) train-gini = 0.961314 val-gini = 0.954090\n",
      "   11 | 00m52s |    0.95409 |    0.4999 |             0.9192 |    9.9604 |    1.1504 |           9.9497 |      7.3853 |            18.5521 |      0.4032 | \n"
     ]
    },
    {
     "name": "stderr",
     "output_type": "stream",
     "text": [
      "/home/zach/dl_env/lib/python3.6/site-packages/sklearn/gaussian_process/gpr.py:457: UserWarning: fmin_l_bfgs_b terminated abnormally with the  state: {'grad': array([-0.00013562]), 'task': b'ABNORMAL_TERMINATION_IN_LNSRCH', 'funcalls': 54, 'nit': 5, 'warnflag': 2}\n",
      "  \" state: %s\" % convergence_dict)\n",
      "/home/zach/dl_env/lib/python3.6/site-packages/sklearn/gaussian_process/gpr.py:457: UserWarning: fmin_l_bfgs_b terminated abnormally with the  state: {'grad': array([-0.00254361]), 'task': b'ABNORMAL_TERMINATION_IN_LNSRCH', 'funcalls': 53, 'nit': 3, 'warnflag': 2}\n",
      "  \" state: %s\" % convergence_dict)\n"
     ]
    },
    {
     "name": "stdout",
     "output_type": "stream",
     "text": [
      "[0]\ttrain-auc:0.949997+0.0036382\ttest-auc:0.949614+0.0062259\n",
      "[10]\ttrain-auc:0.965909+0.00105907\ttest-auc:0.965343+0.00256953\n",
      "[20]\ttrain-auc:0.967938+0.000554511\ttest-auc:0.967574+0.00240496\n",
      "[30]\ttrain-auc:0.969237+0.00078715\ttest-auc:0.968782+0.00210946\n",
      "[40]\ttrain-auc:0.970392+0.000457453\ttest-auc:0.969945+0.00228072\n",
      "[50]\ttrain-auc:0.97101+0.000457586\ttest-auc:0.970702+0.00199596\n",
      "[60]\ttrain-auc:0.97175+0.000312923\ttest-auc:0.971267+0.00192259\n",
      "[70]\ttrain-auc:0.972353+0.000267249\ttest-auc:0.971753+0.00193295\n",
      "[80]\ttrain-auc:0.972999+0.000231463\ttest-auc:0.972321+0.00190912\n",
      "[90]\ttrain-auc:0.973613+0.000280456\ttest-auc:0.972821+0.00180192\n",
      "[100]\ttrain-auc:0.974239+0.000358273\ttest-auc:0.973282+0.00168657\n",
      "[110]\ttrain-auc:0.974685+0.000406712\ttest-auc:0.973614+0.00159158\n",
      "[120]\ttrain-auc:0.975186+0.000376681\ttest-auc:0.974041+0.00155012\n",
      "[130]\ttrain-auc:0.97557+0.000271261\ttest-auc:0.974359+0.00165529\n",
      "[140]\ttrain-auc:0.975893+0.000275707\ttest-auc:0.974608+0.00160456\n",
      "[150]\ttrain-auc:0.976243+0.000233259\ttest-auc:0.974877+0.0016337\n",
      "[160]\ttrain-auc:0.97654+0.000242171\ttest-auc:0.975082+0.00157062\n",
      "[170]\ttrain-auc:0.976841+0.000248366\ttest-auc:0.975353+0.00156555\n",
      "[180]\ttrain-auc:0.977076+0.000236961\ttest-auc:0.975564+0.00155927\n",
      "[190]\ttrain-auc:0.977315+0.000255763\ttest-auc:0.975725+0.00155362\n",
      "[200]\ttrain-auc:0.977534+0.000243555\ttest-auc:0.975858+0.0015155\n",
      "[210]\ttrain-auc:0.977717+0.000267108\ttest-auc:0.975949+0.00148767\n",
      "[220]\ttrain-auc:0.977876+0.000227879\ttest-auc:0.976033+0.00149216\n",
      "[230]\ttrain-auc:0.978037+0.00021785\ttest-auc:0.976113+0.00150504\n",
      "[240]\ttrain-auc:0.978169+0.000208556\ttest-auc:0.976201+0.0014612\n",
      "[250]\ttrain-auc:0.978309+0.000192411\ttest-auc:0.976327+0.00150877\n",
      "[260]\ttrain-auc:0.978436+0.000184006\ttest-auc:0.976381+0.00146424\n",
      "[270]\ttrain-auc:0.978563+0.000175555\ttest-auc:0.976478+0.00144334\n",
      "[280]\ttrain-auc:0.978672+0.00020666\ttest-auc:0.976549+0.00142492\n",
      "[290]\ttrain-auc:0.978738+0.000207238\ttest-auc:0.976565+0.00141567\n",
      "[300]\ttrain-auc:0.97884+0.000203928\ttest-auc:0.976629+0.00137188\n",
      "[310]\ttrain-auc:0.978912+0.000214202\ttest-auc:0.976638+0.00136445\n",
      "[320]\ttrain-auc:0.979017+0.000247446\ttest-auc:0.976677+0.00137258\n",
      "[330]\ttrain-auc:0.97912+0.000256093\ttest-auc:0.976734+0.00138633\n",
      "[340]\ttrain-auc:0.979178+0.0002527\ttest-auc:0.976762+0.00138407\n",
      "[350]\ttrain-auc:0.979247+0.000245825\ttest-auc:0.976776+0.00142054\n",
      "[360]\ttrain-auc:0.979317+0.000266067\ttest-auc:0.976796+0.00141445\n",
      "[370]\ttrain-auc:0.97939+0.000259344\ttest-auc:0.976814+0.00141923\n",
      "[380]\ttrain-auc:0.979464+0.000255711\ttest-auc:0.976854+0.0014259\n",
      "[390]\ttrain-auc:0.979518+0.000249108\ttest-auc:0.976843+0.00138432\n",
      " Stopped after 383 iterations with train-auc = 0.979475 val-auc = 0.976856 ( diff = 0.002619 ) train-gini = 0.958950 val-gini = 0.953712\n",
      "   12 | 01m09s |    0.95371 |    0.4400 |             0.9993 |    4.8340 |    1.0807 |           0.2100 |      2.9989 |             7.6266 |      0.4859 | \n",
      "[0]\ttrain-auc:0.818195+0.0011224\ttest-auc:0.817958+0.0027264\n",
      "[10]\ttrain-auc:0.966951+0.00095105\ttest-auc:0.966779+0.00208955\n",
      "[20]\ttrain-auc:0.968048+0.0006648\ttest-auc:0.967784+0.00226079\n",
      "[30]\ttrain-auc:0.968782+0.00053259\ttest-auc:0.968378+0.00234797\n",
      "[40]\ttrain-auc:0.969376+0.000412134\ttest-auc:0.968963+0.00227888\n",
      "[50]\ttrain-auc:0.969999+0.000370536\ttest-auc:0.969522+0.00223517\n",
      "[60]\ttrain-auc:0.970491+0.000338236\ttest-auc:0.969977+0.00217076\n",
      "[70]\ttrain-auc:0.970978+0.000277154\ttest-auc:0.970458+0.00205475\n",
      "[80]\ttrain-auc:0.971485+0.000295739\ttest-auc:0.970851+0.0020348\n",
      "[90]\ttrain-auc:0.972108+0.000205822\ttest-auc:0.971353+0.00192975\n",
      "[100]\ttrain-auc:0.972661+0.000142308\ttest-auc:0.971758+0.0019579\n",
      "[110]\ttrain-auc:0.973156+0.000230912\ttest-auc:0.972123+0.00183953\n",
      "[120]\ttrain-auc:0.973535+0.000222015\ttest-auc:0.972398+0.00179739\n"
     ]
    }
   ],
   "source": [
    "XGB_BO.maximize(init_points=2, n_iter=5, acq='ei', xi=0.0)"
   ]
  },
  {
   "cell_type": "code",
   "execution_count": null,
   "metadata": {},
   "outputs": [],
   "source": [
    "plot_pred(bst, xgtrain, y_train)"
   ]
  },
  {
   "cell_type": "code",
   "execution_count": null,
   "metadata": {},
   "outputs": [],
   "source": []
  },
  {
   "cell_type": "code",
   "execution_count": null,
   "metadata": {},
   "outputs": [],
   "source": []
  },
  {
   "cell_type": "code",
   "execution_count": 52,
   "metadata": {},
   "outputs": [],
   "source": [
    "# use below for later - scales test"
   ]
  },
  {
   "cell_type": "code",
   "execution_count": 38,
   "metadata": {},
   "outputs": [
    {
     "name": "stdout",
     "output_type": "stream",
     "text": [
      "X shape:  (56208, 1049)\n"
     ]
    }
   ],
   "source": [
    "# encode string input values as integers\n",
    "features = []\n",
    "encoded_x = None\n",
    "for i in encode_cols:\n",
    "\tlabel_encoder = LabelEncoder()\n",
    "\tfeature = label_encoder.fit_transform(test[i].fillna('0'))\n",
    "\tfeature = feature.reshape(test.shape[0], 1)\n",
    "\tonehot_encoder = OneHotEncoder(sparse=False)\n",
    "\tfeature = onehot_encoder.fit_transform(feature)\n",
    "\tif encoded_x is None:\n",
    "\t\tencoded_x = feature\n",
    "\telse:\n",
    "\t\tencoded_x = np.concatenate((encoded_x, feature), axis=1)\n",
    "print(\"X shape: \", encoded_x.shape)\n",
    "# encoded_x = np.array(features)\n",
    "# encoded_x = encoded_x.reshape(X.shape[0], X.shape[1])\n",
    "X = np.concatenate((test[other_cols].fillna(0), encoded_x), axis=1)"
   ]
  },
  {
   "cell_type": "code",
   "execution_count": null,
   "metadata": {},
   "outputs": [],
   "source": []
  }
 ],
 "metadata": {
  "kernelspec": {
   "display_name": "Python 3",
   "language": "python",
   "name": "python3"
  },
  "language_info": {
   "codemirror_mode": {
    "name": "ipython",
    "version": 3
   },
   "file_extension": ".py",
   "mimetype": "text/x-python",
   "name": "python",
   "nbconvert_exporter": "python",
   "pygments_lexer": "ipython3",
   "version": "3.6.6"
  }
 },
 "nbformat": 4,
 "nbformat_minor": 2
}
