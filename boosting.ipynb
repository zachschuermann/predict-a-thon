{
 "cells": [
  {
   "cell_type": "code",
   "execution_count": 35,
   "metadata": {},
   "outputs": [],
   "source": [
    "import xgboost as xgb\n",
    "import pandas as pd\n",
    "import numpy as np\n",
    "import matplotlib.pyplot as plt\n",
    "from sklearn.model_selection import train_test_split\n",
    "from sklearn.preprocessing import LabelEncoder"
   ]
  },
  {
   "cell_type": "code",
   "execution_count": 17,
   "metadata": {},
   "outputs": [],
   "source": [
    "### Constants\n",
    "seed = 69\n",
    "cv_size = .3"
   ]
  },
  {
   "cell_type": "code",
<<<<<<< HEAD
   "execution_count": 2,
   "metadata": {},
   "outputs": [],
   "source": [
    "train = pd.read_csv(\"data/Train.csv\", encoding=\"ISO-8859-1\")\n",
    "test = pd.read_csv(\"data/Test.csv\", encoding=\"ISO-8859-1\")"
   ]
  },
  {
   "cell_type": "code",
   "execution_count": 3,
   "metadata": {},
   "outputs": [
    {
     "data": {
      "text/html": [
       "<div>\n",
       "<style scoped>\n",
       "    .dataframe tbody tr th:only-of-type {\n",
       "        vertical-align: middle;\n",
       "    }\n",
       "\n",
       "    .dataframe tbody tr th {\n",
       "        vertical-align: top;\n",
       "    }\n",
       "\n",
       "    .dataframe thead th {\n",
       "        text-align: right;\n",
       "    }\n",
       "</style>\n",
       "<table border=\"1\" class=\"dataframe\">\n",
       "  <thead>\n",
       "    <tr style=\"text-align: right;\">\n",
       "      <th></th>\n",
       "      <th>sessionId</th>\n",
       "      <th>custId</th>\n",
       "      <th>date</th>\n",
       "      <th>year</th>\n",
       "      <th>month</th>\n",
       "      <th>channelGrouping</th>\n",
       "      <th>visitStartTime</th>\n",
       "      <th>visitNumber</th>\n",
       "      <th>timeSinceLastVisit</th>\n",
       "      <th>browser</th>\n",
       "      <th>...</th>\n",
       "      <th>adwordsClickInfo.page</th>\n",
       "      <th>adwordsClickInfo.slot</th>\n",
       "      <th>adwordsClickInfo.gclId</th>\n",
       "      <th>adwordsClickInfo.adNetworkType</th>\n",
       "      <th>adwordsClickInfo.isVideoAd</th>\n",
       "      <th>hits</th>\n",
       "      <th>pageviews</th>\n",
       "      <th>bounces</th>\n",
       "      <th>newVisits</th>\n",
       "      <th>revenue</th>\n",
       "    </tr>\n",
       "  </thead>\n",
       "  <tbody>\n",
       "    <tr>\n",
       "      <th>0</th>\n",
       "      <td>100000110</td>\n",
       "      <td>1</td>\n",
       "      <td>2016-10-29</td>\n",
       "      <td>2016</td>\n",
       "      <td>10</td>\n",
       "      <td>Social</td>\n",
       "      <td>1477775021</td>\n",
       "      <td>1</td>\n",
       "      <td>0</td>\n",
       "      <td>Chrome</td>\n",
       "      <td>...</td>\n",
       "      <td>NaN</td>\n",
       "      <td>NaN</td>\n",
       "      <td>NaN</td>\n",
       "      <td>NaN</td>\n",
       "      <td>NaN</td>\n",
       "      <td>1</td>\n",
       "      <td>1.0</td>\n",
       "      <td>1.0</td>\n",
       "      <td>1.0</td>\n",
       "      <td>0.0</td>\n",
       "    </tr>\n",
       "    <tr>\n",
       "      <th>1</th>\n",
       "      <td>400000140</td>\n",
       "      <td>4</td>\n",
       "      <td>2016-09-04</td>\n",
       "      <td>2016</td>\n",
       "      <td>9</td>\n",
       "      <td>Social</td>\n",
       "      <td>1473037945</td>\n",
       "      <td>1</td>\n",
       "      <td>0</td>\n",
       "      <td>Safari</td>\n",
       "      <td>...</td>\n",
       "      <td>NaN</td>\n",
       "      <td>NaN</td>\n",
       "      <td>NaN</td>\n",
       "      <td>NaN</td>\n",
       "      <td>NaN</td>\n",
       "      <td>1</td>\n",
       "      <td>1.0</td>\n",
       "      <td>1.0</td>\n",
       "      <td>1.0</td>\n",
       "      <td>0.0</td>\n",
       "    </tr>\n",
       "    <tr>\n",
       "      <th>2</th>\n",
       "      <td>500000150</td>\n",
       "      <td>5</td>\n",
       "      <td>2017-07-17</td>\n",
       "      <td>2017</td>\n",
       "      <td>7</td>\n",
       "      <td>Organic Search</td>\n",
       "      <td>1500305542</td>\n",
       "      <td>1</td>\n",
       "      <td>0</td>\n",
       "      <td>Chrome</td>\n",
       "      <td>...</td>\n",
       "      <td>NaN</td>\n",
       "      <td>NaN</td>\n",
       "      <td>NaN</td>\n",
       "      <td>NaN</td>\n",
       "      <td>NaN</td>\n",
       "      <td>5</td>\n",
       "      <td>5.0</td>\n",
       "      <td>NaN</td>\n",
       "      <td>1.0</td>\n",
       "      <td>0.0</td>\n",
       "    </tr>\n",
       "    <tr>\n",
       "      <th>3</th>\n",
       "      <td>500000250</td>\n",
       "      <td>5</td>\n",
       "      <td>2017-07-17</td>\n",
       "      <td>2017</td>\n",
       "      <td>7</td>\n",
       "      <td>Organic Search</td>\n",
       "      <td>1500322111</td>\n",
       "      <td>2</td>\n",
       "      <td>16569</td>\n",
       "      <td>Chrome</td>\n",
       "      <td>...</td>\n",
       "      <td>NaN</td>\n",
       "      <td>NaN</td>\n",
       "      <td>NaN</td>\n",
       "      <td>NaN</td>\n",
       "      <td>NaN</td>\n",
       "      <td>3</td>\n",
       "      <td>3.0</td>\n",
       "      <td>NaN</td>\n",
       "      <td>NaN</td>\n",
       "      <td>0.0</td>\n",
       "    </tr>\n",
       "    <tr>\n",
       "      <th>4</th>\n",
       "      <td>700000170</td>\n",
       "      <td>7</td>\n",
       "      <td>2016-08-22</td>\n",
       "      <td>2016</td>\n",
       "      <td>8</td>\n",
       "      <td>Social</td>\n",
       "      <td>1471890172</td>\n",
       "      <td>1</td>\n",
       "      <td>0</td>\n",
       "      <td>Safari</td>\n",
       "      <td>...</td>\n",
       "      <td>NaN</td>\n",
       "      <td>NaN</td>\n",
       "      <td>NaN</td>\n",
       "      <td>NaN</td>\n",
       "      <td>NaN</td>\n",
       "      <td>1</td>\n",
       "      <td>1.0</td>\n",
       "      <td>1.0</td>\n",
       "      <td>1.0</td>\n",
       "      <td>0.0</td>\n",
       "    </tr>\n",
       "  </tbody>\n",
       "</table>\n",
       "<p>5 rows × 38 columns</p>\n",
       "</div>"
      ],
      "text/plain": [
       "   sessionId  custId        date  year  month channelGrouping  visitStartTime  \\\n",
       "0  100000110       1  2016-10-29  2016     10          Social      1477775021   \n",
       "1  400000140       4  2016-09-04  2016      9          Social      1473037945   \n",
       "2  500000150       5  2017-07-17  2017      7  Organic Search      1500305542   \n",
       "3  500000250       5  2017-07-17  2017      7  Organic Search      1500322111   \n",
       "4  700000170       7  2016-08-22  2016      8          Social      1471890172   \n",
       "\n",
       "   visitNumber  timeSinceLastVisit browser   ...   adwordsClickInfo.page  \\\n",
       "0            1                   0  Chrome   ...                     NaN   \n",
       "1            1                   0  Safari   ...                     NaN   \n",
       "2            1                   0  Chrome   ...                     NaN   \n",
       "3            2               16569  Chrome   ...                     NaN   \n",
       "4            1                   0  Safari   ...                     NaN   \n",
       "\n",
       "   adwordsClickInfo.slot adwordsClickInfo.gclId  \\\n",
       "0                    NaN                    NaN   \n",
       "1                    NaN                    NaN   \n",
       "2                    NaN                    NaN   \n",
       "3                    NaN                    NaN   \n",
       "4                    NaN                    NaN   \n",
       "\n",
       "  adwordsClickInfo.adNetworkType adwordsClickInfo.isVideoAd hits pageviews  \\\n",
       "0                            NaN                        NaN    1       1.0   \n",
       "1                            NaN                        NaN    1       1.0   \n",
       "2                            NaN                        NaN    5       5.0   \n",
       "3                            NaN                        NaN    3       3.0   \n",
       "4                            NaN                        NaN    1       1.0   \n",
       "\n",
       "  bounces newVisits revenue  \n",
       "0     1.0       1.0     0.0  \n",
       "1     1.0       1.0     0.0  \n",
       "2     NaN       1.0     0.0  \n",
       "3     NaN       NaN     0.0  \n",
       "4     1.0       1.0     0.0  \n",
       "\n",
       "[5 rows x 38 columns]"
      ]
     },
     "execution_count": 3,
     "metadata": {},
     "output_type": "execute_result"
    }
   ],
   "source": [
    "train.head()"
=======
   "execution_count": 1,
   "metadata": {},
   "outputs": [],
   "source": [
    "import utils.data_loader as dl\n",
    "train,cv,test = dl.main()"
>>>>>>> e895a9312a87155c9e616692fc3e1f397c550622
   ]
  },
  {
   "cell_type": "code",
   "execution_count": 4,
   "metadata": {},
   "outputs": [
    {
     "data": {
      "text/plain": [
       "Index(['sessionId', 'custId', 'date', 'year', 'month', 'channelGrouping',\n",
       "       'visitStartTime', 'visitNumber', 'timeSinceLastVisit', 'browser',\n",
       "       'operatingSystem', 'isMobile', 'deviceCategory', 'continent',\n",
       "       'subContinent', 'country', 'region', 'metro', 'city', 'networkDomain',\n",
       "       'topLevelDomain', 'campaign', 'source', 'medium', 'keyword',\n",
       "       'isTrueDirect', 'referralPath', 'adContent', 'adwordsClickInfo.page',\n",
       "       'adwordsClickInfo.slot', 'adwordsClickInfo.gclId',\n",
       "       'adwordsClickInfo.adNetworkType', 'adwordsClickInfo.isVideoAd', 'hits',\n",
       "       'pageviews', 'bounces', 'newVisits', 'revenue'],\n",
       "      dtype='object')"
      ]
     },
     "execution_count": 4,
     "metadata": {},
     "output_type": "execute_result"
    }
   ],
   "source": [
    "train.columns"
   ]
  },
  {
   "cell_type": "code",
   "execution_count": 5,
   "metadata": {},
   "outputs": [
    {
     "data": {
      "text/plain": [
       "(83578, 38)"
      ]
     },
     "execution_count": 5,
     "metadata": {},
     "output_type": "execute_result"
    }
   ],
   "source": [
    "train.shape"
   ]
  },
  {
   "cell_type": "code",
   "execution_count": 6,
   "metadata": {},
   "outputs": [
    {
     "data": {
      "text/plain": [
       "sessionId                                100000110\n",
       "custId                                           1\n",
       "date                                    2016-10-29\n",
       "year                                          2016\n",
       "month                                           10\n",
       "channelGrouping                             Social\n",
       "visitStartTime                          1477775021\n",
       "visitNumber                                      1\n",
       "timeSinceLastVisit                               0\n",
       "browser                                     Chrome\n",
       "operatingSystem                            Windows\n",
       "isMobile                                         0\n",
       "deviceCategory                             desktop\n",
       "continent                                 Americas\n",
       "subContinent                         South America\n",
       "country                                     Brazil\n",
       "region                                         NaN\n",
       "metro                                          NaN\n",
       "city                                           NaN\n",
       "networkDomain                           gvt.net.br\n",
       "topLevelDomain                                  br\n",
       "campaign                                       NaN\n",
       "source                                 youtube.com\n",
       "medium                                    referral\n",
       "keyword                                        NaN\n",
       "isTrueDirect                                     0\n",
       "referralPath                      /yt/about/pt-BR/\n",
       "adContent                                      NaN\n",
       "adwordsClickInfo.page                          NaN\n",
       "adwordsClickInfo.slot                          NaN\n",
       "adwordsClickInfo.gclId                         NaN\n",
       "adwordsClickInfo.adNetworkType                 NaN\n",
       "adwordsClickInfo.isVideoAd                     NaN\n",
       "hits                                             1\n",
       "pageviews                                        1\n",
       "bounces                                          1\n",
       "newVisits                                        1\n",
       "revenue                                          0\n",
       "Name: 0, dtype: object"
      ]
     },
     "execution_count": 6,
     "metadata": {},
     "output_type": "execute_result"
    }
   ],
   "source": [
    "train.iloc[0]"
   ]
  },
  {
   "cell_type": "code",
   "execution_count": 12,
   "metadata": {},
   "outputs": [
    {
     "data": {
      "text/plain": [
       "0.0"
      ]
     },
     "execution_count": 12,
     "metadata": {},
     "output_type": "execute_result"
    }
   ],
   "source": [
    "min(train[\"revenue\"].values)"
   ]
  },
  {
   "cell_type": "code",
   "execution_count": 10,
   "metadata": {},
   "outputs": [
    {
     "data": {
      "text/plain": [
       "10589.14"
      ]
     },
     "execution_count": 10,
     "metadata": {},
     "output_type": "execute_result"
    }
   ],
   "source": [
    "max(train[\"revenue\"].values)"
   ]
  },
  {
   "cell_type": "code",
   "execution_count": 14,
   "metadata": {},
   "outputs": [
    {
     "data": {
      "text/plain": [
       "[<matplotlib.lines.Line2D at 0x7fd08236f748>]"
      ]
     },
     "execution_count": 14,
     "metadata": {},
     "output_type": "execute_result"
    },
    {
     "data": {
      "image/png": "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\n",
      "text/plain": [
       "<Figure size 432x288 with 1 Axes>"
      ]
     },
     "metadata": {
      "needs_background": "light"
     },
     "output_type": "display_data"
    }
   ],
   "source": [
    "plt.plot(train[\"revenue\"])"
   ]
  },
  {
   "cell_type": "code",
   "execution_count": 40,
   "metadata": {},
   "outputs": [],
   "source": [
    "X = train.loc[:, train.columns != 'revenue']\n",
    "y = train[\"revenue\"]"
   ]
  },
  {
   "cell_type": "code",
   "execution_count": null,
   "metadata": {},
   "outputs": [],
   "source": [
    "for i in X.columns:\n",
    "\tprint(X[i])"
   ]
  },
  {
   "cell_type": "code",
   "execution_count": 47,
   "metadata": {},
   "outputs": [
    {
     "ename": "TypeError",
     "evalue": "'<' not supported between instances of 'float' and 'str'",
     "output_type": "error",
     "traceback": [
      "\u001b[0;31m---------------------------------------------------------------------------\u001b[0m",
      "\u001b[0;31mTypeError\u001b[0m                                 Traceback (most recent call last)",
      "\u001b[0;32m<ipython-input-47-a3cbe053746e>\u001b[0m in \u001b[0;36m<module>\u001b[0;34m()\u001b[0m\n\u001b[1;32m      4\u001b[0m \u001b[0;32mfor\u001b[0m \u001b[0mi\u001b[0m \u001b[0;32min\u001b[0m \u001b[0mencode_cols\u001b[0m\u001b[0;34m:\u001b[0m\u001b[0;34m\u001b[0m\u001b[0m\n\u001b[1;32m      5\u001b[0m         \u001b[0mlabel_encoder\u001b[0m \u001b[0;34m=\u001b[0m \u001b[0mLabelEncoder\u001b[0m\u001b[0;34m(\u001b[0m\u001b[0;34m)\u001b[0m\u001b[0;34m\u001b[0m\u001b[0m\n\u001b[0;32m----> 6\u001b[0;31m         \u001b[0mfeature\u001b[0m \u001b[0;34m=\u001b[0m \u001b[0mlabel_encoder\u001b[0m\u001b[0;34m.\u001b[0m\u001b[0mfit_transform\u001b[0m\u001b[0;34m(\u001b[0m\u001b[0mX\u001b[0m\u001b[0;34m[\u001b[0m\u001b[0mi\u001b[0m\u001b[0;34m]\u001b[0m\u001b[0;34m)\u001b[0m\u001b[0;34m\u001b[0m\u001b[0m\n\u001b[0m\u001b[1;32m      7\u001b[0m         \u001b[0mfeatures\u001b[0m\u001b[0;34m.\u001b[0m\u001b[0mappend\u001b[0m\u001b[0;34m(\u001b[0m\u001b[0mfeature\u001b[0m\u001b[0;34m)\u001b[0m\u001b[0;34m\u001b[0m\u001b[0m\n\u001b[1;32m      8\u001b[0m \u001b[0mencoded_x\u001b[0m \u001b[0;34m=\u001b[0m \u001b[0mnumpy\u001b[0m\u001b[0;34m.\u001b[0m\u001b[0marray\u001b[0m\u001b[0;34m(\u001b[0m\u001b[0mfeatures\u001b[0m\u001b[0;34m)\u001b[0m\u001b[0;34m\u001b[0m\u001b[0m\n",
      "\u001b[0;32m~/dl_env/lib/python3.6/site-packages/sklearn/preprocessing/label.py\u001b[0m in \u001b[0;36mfit_transform\u001b[0;34m(self, y)\u001b[0m\n\u001b[1;32m    110\u001b[0m         \"\"\"\n\u001b[1;32m    111\u001b[0m         \u001b[0my\u001b[0m \u001b[0;34m=\u001b[0m \u001b[0mcolumn_or_1d\u001b[0m\u001b[0;34m(\u001b[0m\u001b[0my\u001b[0m\u001b[0;34m,\u001b[0m \u001b[0mwarn\u001b[0m\u001b[0;34m=\u001b[0m\u001b[0;32mTrue\u001b[0m\u001b[0;34m)\u001b[0m\u001b[0;34m\u001b[0m\u001b[0m\n\u001b[0;32m--> 112\u001b[0;31m         \u001b[0mself\u001b[0m\u001b[0;34m.\u001b[0m\u001b[0mclasses_\u001b[0m\u001b[0;34m,\u001b[0m \u001b[0my\u001b[0m \u001b[0;34m=\u001b[0m \u001b[0mnp\u001b[0m\u001b[0;34m.\u001b[0m\u001b[0munique\u001b[0m\u001b[0;34m(\u001b[0m\u001b[0my\u001b[0m\u001b[0;34m,\u001b[0m \u001b[0mreturn_inverse\u001b[0m\u001b[0;34m=\u001b[0m\u001b[0;32mTrue\u001b[0m\u001b[0;34m)\u001b[0m\u001b[0;34m\u001b[0m\u001b[0m\n\u001b[0m\u001b[1;32m    113\u001b[0m         \u001b[0;32mreturn\u001b[0m \u001b[0my\u001b[0m\u001b[0;34m\u001b[0m\u001b[0m\n\u001b[1;32m    114\u001b[0m \u001b[0;34m\u001b[0m\u001b[0m\n",
      "\u001b[0;32m~/dl_env/lib/python3.6/site-packages/numpy/lib/arraysetops.py\u001b[0m in \u001b[0;36munique\u001b[0;34m(ar, return_index, return_inverse, return_counts, axis)\u001b[0m\n\u001b[1;32m    221\u001b[0m     \u001b[0mar\u001b[0m \u001b[0;34m=\u001b[0m \u001b[0mnp\u001b[0m\u001b[0;34m.\u001b[0m\u001b[0masanyarray\u001b[0m\u001b[0;34m(\u001b[0m\u001b[0mar\u001b[0m\u001b[0;34m)\u001b[0m\u001b[0;34m\u001b[0m\u001b[0m\n\u001b[1;32m    222\u001b[0m     \u001b[0;32mif\u001b[0m \u001b[0maxis\u001b[0m \u001b[0;32mis\u001b[0m \u001b[0;32mNone\u001b[0m\u001b[0;34m:\u001b[0m\u001b[0;34m\u001b[0m\u001b[0m\n\u001b[0;32m--> 223\u001b[0;31m         \u001b[0;32mreturn\u001b[0m \u001b[0m_unique1d\u001b[0m\u001b[0;34m(\u001b[0m\u001b[0mar\u001b[0m\u001b[0;34m,\u001b[0m \u001b[0mreturn_index\u001b[0m\u001b[0;34m,\u001b[0m \u001b[0mreturn_inverse\u001b[0m\u001b[0;34m,\u001b[0m \u001b[0mreturn_counts\u001b[0m\u001b[0;34m)\u001b[0m\u001b[0;34m\u001b[0m\u001b[0m\n\u001b[0m\u001b[1;32m    224\u001b[0m     \u001b[0;32mif\u001b[0m \u001b[0;32mnot\u001b[0m \u001b[0;34m(\u001b[0m\u001b[0;34m-\u001b[0m\u001b[0mar\u001b[0m\u001b[0;34m.\u001b[0m\u001b[0mndim\u001b[0m \u001b[0;34m<=\u001b[0m \u001b[0maxis\u001b[0m \u001b[0;34m<\u001b[0m \u001b[0mar\u001b[0m\u001b[0;34m.\u001b[0m\u001b[0mndim\u001b[0m\u001b[0;34m)\u001b[0m\u001b[0;34m:\u001b[0m\u001b[0;34m\u001b[0m\u001b[0m\n\u001b[1;32m    225\u001b[0m         \u001b[0;32mraise\u001b[0m \u001b[0mValueError\u001b[0m\u001b[0;34m(\u001b[0m\u001b[0;34m'Invalid axis kwarg specified for unique'\u001b[0m\u001b[0;34m)\u001b[0m\u001b[0;34m\u001b[0m\u001b[0m\n",
      "\u001b[0;32m~/dl_env/lib/python3.6/site-packages/numpy/lib/arraysetops.py\u001b[0m in \u001b[0;36m_unique1d\u001b[0;34m(ar, return_index, return_inverse, return_counts)\u001b[0m\n\u001b[1;32m    278\u001b[0m \u001b[0;34m\u001b[0m\u001b[0m\n\u001b[1;32m    279\u001b[0m     \u001b[0;32mif\u001b[0m \u001b[0moptional_indices\u001b[0m\u001b[0;34m:\u001b[0m\u001b[0;34m\u001b[0m\u001b[0m\n\u001b[0;32m--> 280\u001b[0;31m         \u001b[0mperm\u001b[0m \u001b[0;34m=\u001b[0m \u001b[0mar\u001b[0m\u001b[0;34m.\u001b[0m\u001b[0margsort\u001b[0m\u001b[0;34m(\u001b[0m\u001b[0mkind\u001b[0m\u001b[0;34m=\u001b[0m\u001b[0;34m'mergesort'\u001b[0m \u001b[0;32mif\u001b[0m \u001b[0mreturn_index\u001b[0m \u001b[0;32melse\u001b[0m \u001b[0;34m'quicksort'\u001b[0m\u001b[0;34m)\u001b[0m\u001b[0;34m\u001b[0m\u001b[0m\n\u001b[0m\u001b[1;32m    281\u001b[0m         \u001b[0maux\u001b[0m \u001b[0;34m=\u001b[0m \u001b[0mar\u001b[0m\u001b[0;34m[\u001b[0m\u001b[0mperm\u001b[0m\u001b[0;34m]\u001b[0m\u001b[0;34m\u001b[0m\u001b[0m\n\u001b[1;32m    282\u001b[0m     \u001b[0;32melse\u001b[0m\u001b[0;34m:\u001b[0m\u001b[0;34m\u001b[0m\u001b[0m\n",
      "\u001b[0;31mTypeError\u001b[0m: '<' not supported between instances of 'float' and 'str'"
     ]
    }
   ],
   "source": [
    "# encode string input values as integers\n",
    "features = []\n",
    "encode_cols = [\"operatingSystem\"]\n",
    "for i in encode_cols:\n",
    "\tlabel_encoder = LabelEncoder()\n",
    "\tfeature = label_encoder.fit_transform(X[i])\n",
    "\tfeatures.append(feature)\n",
    "encoded_x = numpy.array(features)\n",
    "encoded_x = encoded_x.reshape(X.shape[0], X.shape[1])"
   ]
  },
  {
   "cell_type": "code",
   "execution_count": 23,
   "metadata": {},
   "outputs": [],
   "source": [
    "X_train, X_cv, y_train, y_cv = train_test_split(X, y, test_size=cv_size, random_state=seed)"
   ]
  },
  {
   "cell_type": "code",
   "execution_count": 30,
   "metadata": {},
   "outputs": [
    {
     "name": "stdout",
     "output_type": "stream",
     "text": [
      "(58504, 37)\n",
      "(25074, 37)\n"
     ]
    }
   ],
   "source": [
    "print(X_train.shape)\n",
    "print(X_cv.shape)"
   ]
  },
  {
   "cell_type": "code",
   "execution_count": 29,
   "metadata": {},
   "outputs": [
    {
     "name": "stdout",
     "output_type": "stream",
     "text": [
      "(58504,)\n",
      "(25074,)\n"
     ]
    }
   ],
   "source": [
    "print(y_train.shape)\n",
    "print(y_cv.shape)"
   ]
  },
  {
   "cell_type": "code",
   "execution_count": 34,
   "metadata": {},
   "outputs": [
    {
     "ename": "ValueError",
     "evalue": "could not convert string to float: '/a/google.com/forum/'",
     "output_type": "error",
     "traceback": [
      "\u001b[0;31m---------------------------------------------------------------------------\u001b[0m",
      "\u001b[0;31mValueError\u001b[0m                                Traceback (most recent call last)",
      "\u001b[0;32m<ipython-input-34-17e09e24a5f0>\u001b[0m in \u001b[0;36m<module>\u001b[0;34m()\u001b[0m\n\u001b[0;32m----> 1\u001b[0;31m \u001b[0mxgtrain\u001b[0m \u001b[0;34m=\u001b[0m \u001b[0mxgb\u001b[0m\u001b[0;34m.\u001b[0m\u001b[0mDMatrix\u001b[0m\u001b[0;34m(\u001b[0m\u001b[0mX_train\u001b[0m\u001b[0;34m.\u001b[0m\u001b[0mvalues\u001b[0m\u001b[0;34m,\u001b[0m \u001b[0my_train\u001b[0m\u001b[0;34m.\u001b[0m\u001b[0mvalues\u001b[0m\u001b[0;34m)\u001b[0m\u001b[0;34m\u001b[0m\u001b[0m\n\u001b[0m\u001b[1;32m      2\u001b[0m \u001b[0mxgcv\u001b[0m \u001b[0;34m=\u001b[0m \u001b[0mxgb\u001b[0m\u001b[0;34m.\u001b[0m\u001b[0mDMatrix\u001b[0m\u001b[0;34m(\u001b[0m\u001b[0mX_cv\u001b[0m\u001b[0;34m.\u001b[0m\u001b[0mvalues\u001b[0m\u001b[0;34m,\u001b[0m \u001b[0my_cv\u001b[0m\u001b[0;34m.\u001b[0m\u001b[0mvalues\u001b[0m\u001b[0;34m)\u001b[0m\u001b[0;34m\u001b[0m\u001b[0m\n",
      "\u001b[0;32m~/dl_env/lib/python3.6/site-packages/xgboost/core.py\u001b[0m in \u001b[0;36m__init__\u001b[0;34m(self, data, label, missing, weight, silent, feature_names, feature_types, nthread)\u001b[0m\n\u001b[1;32m    361\u001b[0m             \u001b[0mself\u001b[0m\u001b[0;34m.\u001b[0m\u001b[0m_init_from_csc\u001b[0m\u001b[0;34m(\u001b[0m\u001b[0mdata\u001b[0m\u001b[0;34m)\u001b[0m\u001b[0;34m\u001b[0m\u001b[0m\n\u001b[1;32m    362\u001b[0m         \u001b[0;32melif\u001b[0m \u001b[0misinstance\u001b[0m\u001b[0;34m(\u001b[0m\u001b[0mdata\u001b[0m\u001b[0;34m,\u001b[0m \u001b[0mnp\u001b[0m\u001b[0;34m.\u001b[0m\u001b[0mndarray\u001b[0m\u001b[0;34m)\u001b[0m\u001b[0;34m:\u001b[0m\u001b[0;34m\u001b[0m\u001b[0m\n\u001b[0;32m--> 363\u001b[0;31m             \u001b[0mself\u001b[0m\u001b[0;34m.\u001b[0m\u001b[0m_init_from_npy2d\u001b[0m\u001b[0;34m(\u001b[0m\u001b[0mdata\u001b[0m\u001b[0;34m,\u001b[0m \u001b[0mmissing\u001b[0m\u001b[0;34m,\u001b[0m \u001b[0mnthread\u001b[0m\u001b[0;34m)\u001b[0m\u001b[0;34m\u001b[0m\u001b[0m\n\u001b[0m\u001b[1;32m    364\u001b[0m         \u001b[0;32melif\u001b[0m \u001b[0misinstance\u001b[0m\u001b[0;34m(\u001b[0m\u001b[0mdata\u001b[0m\u001b[0;34m,\u001b[0m \u001b[0mDataTable\u001b[0m\u001b[0;34m)\u001b[0m\u001b[0;34m:\u001b[0m\u001b[0;34m\u001b[0m\u001b[0m\n\u001b[1;32m    365\u001b[0m             \u001b[0mself\u001b[0m\u001b[0;34m.\u001b[0m\u001b[0m_init_from_dt\u001b[0m\u001b[0;34m(\u001b[0m\u001b[0mdata\u001b[0m\u001b[0;34m,\u001b[0m \u001b[0mnthread\u001b[0m\u001b[0;34m)\u001b[0m\u001b[0;34m\u001b[0m\u001b[0m\n",
      "\u001b[0;32m~/dl_env/lib/python3.6/site-packages/xgboost/core.py\u001b[0m in \u001b[0;36m_init_from_npy2d\u001b[0;34m(self, mat, missing, nthread)\u001b[0m\n\u001b[1;32m    433\u001b[0m         \u001b[0;31m# we try to avoid data copies if possible (reshape returns a view when possible\u001b[0m\u001b[0;34m\u001b[0m\u001b[0;34m\u001b[0m\u001b[0m\n\u001b[1;32m    434\u001b[0m         \u001b[0;31m# and we explicitly tell np.array to try and avoid copying)\u001b[0m\u001b[0;34m\u001b[0m\u001b[0;34m\u001b[0m\u001b[0m\n\u001b[0;32m--> 435\u001b[0;31m         \u001b[0mdata\u001b[0m \u001b[0;34m=\u001b[0m \u001b[0mnp\u001b[0m\u001b[0;34m.\u001b[0m\u001b[0marray\u001b[0m\u001b[0;34m(\u001b[0m\u001b[0mmat\u001b[0m\u001b[0;34m.\u001b[0m\u001b[0mreshape\u001b[0m\u001b[0;34m(\u001b[0m\u001b[0mmat\u001b[0m\u001b[0;34m.\u001b[0m\u001b[0msize\u001b[0m\u001b[0;34m)\u001b[0m\u001b[0;34m,\u001b[0m \u001b[0mcopy\u001b[0m\u001b[0;34m=\u001b[0m\u001b[0;32mFalse\u001b[0m\u001b[0;34m,\u001b[0m \u001b[0mdtype\u001b[0m\u001b[0;34m=\u001b[0m\u001b[0mnp\u001b[0m\u001b[0;34m.\u001b[0m\u001b[0mfloat32\u001b[0m\u001b[0;34m)\u001b[0m\u001b[0;34m\u001b[0m\u001b[0m\n\u001b[0m\u001b[1;32m    436\u001b[0m         \u001b[0mself\u001b[0m\u001b[0;34m.\u001b[0m\u001b[0mhandle\u001b[0m \u001b[0;34m=\u001b[0m \u001b[0mctypes\u001b[0m\u001b[0;34m.\u001b[0m\u001b[0mc_void_p\u001b[0m\u001b[0;34m(\u001b[0m\u001b[0;34m)\u001b[0m\u001b[0;34m\u001b[0m\u001b[0m\n\u001b[1;32m    437\u001b[0m         \u001b[0mmissing\u001b[0m \u001b[0;34m=\u001b[0m \u001b[0mmissing\u001b[0m \u001b[0;32mif\u001b[0m \u001b[0mmissing\u001b[0m \u001b[0;32mis\u001b[0m \u001b[0;32mnot\u001b[0m \u001b[0;32mNone\u001b[0m \u001b[0;32melse\u001b[0m \u001b[0mnp\u001b[0m\u001b[0;34m.\u001b[0m\u001b[0mnan\u001b[0m\u001b[0;34m\u001b[0m\u001b[0m\n",
      "\u001b[0;31mValueError\u001b[0m: could not convert string to float: '/a/google.com/forum/'"
     ]
    }
   ],
   "source": [
    "xgtrain = xgb.DMatrix(X_train.values, y_train.values)\n",
    "xgcv = xgb.DMatrix(X_cv.values, y_cv.values)"
   ]
  },
  {
   "cell_type": "code",
   "execution_count": null,
   "metadata": {},
   "outputs": [],
   "source": [
    "# specify parameters via map\n",
    "param = {'max_depth':2, 'eta':1, 'silent':1, 'objective':'binary:logistic'}\n",
    "\n",
    "# specify validations set to watch performance\n",
    "watchlist = [(dtest, 'eval'), (dtrain, 'train')]\n",
    "num_round = 2\n",
    "bst = xgb.train(param, dtrain, num_round, watchlist)"
   ]
  }
 ],
 "metadata": {
  "kernelspec": {
   "display_name": "Python 3",
   "language": "python",
   "name": "python3"
  },
  "language_info": {
   "codemirror_mode": {
    "name": "ipython",
    "version": 3
   },
   "file_extension": ".py",
   "mimetype": "text/x-python",
   "name": "python",
   "nbconvert_exporter": "python",
   "pygments_lexer": "ipython3",
   "version": "3.6.6"
  }
 },
 "nbformat": 4,
 "nbformat_minor": 2
}
