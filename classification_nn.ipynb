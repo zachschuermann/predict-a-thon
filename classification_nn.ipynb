{
 "cells": [
  {
   "cell_type": "code",
   "execution_count": 1,
   "metadata": {},
   "outputs": [],
   "source": [
    "import pandas as pd\n",
    "import numpy as np\n",
    "import matplotlib.pyplot as plt\n",
    "from sklearn.model_selection import train_test_split\n",
    "from sklearn.preprocessing import LabelEncoder\n",
    "from sklearn.preprocessing import OneHotEncoder\n",
    "from sklearn.preprocessing import Binarizer\n",
    "from sklearn.metrics import f1_score"
   ]
  },
  {
   "cell_type": "code",
   "execution_count": 3,
   "metadata": {},
   "outputs": [],
   "source": [
    "### Constants\n",
    "seed = 69\n",
    "cv_size = .3\n",
    "\n",
    "train = pd.read_csv(\"data/Train.csv\", encoding=\"ISO-8859-1\")\n",
    "test = pd.read_csv(\"data/Test.csv\", encoding=\"ISO-8859-1\")\n",
    "\n",
    "X = train.loc[:, train.columns != 'revenue']\n",
    "y = train[\"revenue\"]\n",
    "\n",
    "# encode string input values as integers\n",
    "features = []\n",
    "encode_cols = [\"month\", \"channelGrouping\", \"browser\", \"operatingSystem\", \"deviceCategory\", \"continent\", \n",
    "                \"subContinent\", \"country\", \"region\", \"metro\", \"city\", \"topLevelDomain\", \"campaign\", \"source\", \n",
    "                \"medium\", \"keyword\", \"referralPath\", \"adContent\", \"adwordsClickInfo.page\", \"adwordsClickInfo.slot\",\n",
    "                \"adwordsClickInfo.adNetworkType\", \"bounces\", \"newVisits\"\n",
    "              ]\n",
    "\n",
    "other_cols = [\"visitNumber\", \"timeSinceLastVisit\", \"isMobile\", \"isTrueDirect\", \"hits\", \"pageviews\"]\n",
    "\n",
    "# encode string input values as integers\n",
    "encoded_x = None\n",
    "for i in encode_cols:\n",
    "    col = X[i].apply(str)\n",
    "    label_encoder = LabelEncoder()\n",
    "    feature = label_encoder.fit_transform(col.fillna('0'))\n",
    "    feature = feature.reshape(X.shape[0], 1)\n",
    "    onehot_encoder = OneHotEncoder(sparse=False)\n",
    "    feature = onehot_encoder.fit_transform(feature)\n",
    "    if encoded_x is None:\n",
    "        encoded_x = feature\n",
    "    else:\n",
    "        encoded_x = np.concatenate((encoded_x, feature), axis=1)\n",
    "# print(\"X shape: \", encoded_x.shape)\n",
    "\n",
    "X = np.concatenate((X[other_cols].fillna(0), encoded_x), axis=1)\n",
    "y = Binarizer().transform(y.values.reshape(-1, 1))\n",
    "X_train, X_cv, y_train, y_cv = train_test_split(X, y, test_size=cv_size, random_state=seed)"
   ]
  },
  {
   "cell_type": "code",
   "execution_count": 4,
   "metadata": {},
   "outputs": [
    {
     "name": "stderr",
     "output_type": "stream",
     "text": [
      "Using TensorFlow backend.\n"
     ]
    }
   ],
   "source": [
    "from keras.models import Sequential\n",
    "from keras.layers import Dense"
   ]
  },
  {
   "cell_type": "code",
   "execution_count": 5,
   "metadata": {},
   "outputs": [
    {
     "name": "stdout",
     "output_type": "stream",
     "text": [
      "(83578, 2504)\n",
      "(83578, 1)\n"
     ]
    }
   ],
   "source": [
    "print(X.shape)\n",
    "print(y.shape)"
   ]
  },
  {
   "cell_type": "code",
   "execution_count": 6,
   "metadata": {},
   "outputs": [],
   "source": [
    "epochs = 100\n",
    "batch_size = 69"
   ]
  },
  {
   "cell_type": "code",
   "execution_count": 10,
   "metadata": {},
   "outputs": [],
   "source": [
    "def create_model():\n",
    "    # create model\n",
    "    model = Sequential()\n",
    "    model.add(Dense(200, input_dim=2504, kernel_initializer='normal', activation='relu'))\n",
    "    model.add(Dense(1, kernel_initializer='normal', activation='sigmoid'))\n",
    "    # Compile model. We use the the logarithmic loss function, and the Adam gradient optimizer.\n",
    "    model.compile(loss='binary_crossentropy', optimizer='adam', metrics=['accuracy'])\n",
    "    return model"
   ]
  },
  {
   "cell_type": "code",
   "execution_count": 11,
   "metadata": {},
   "outputs": [],
   "source": [
    "model = create_model()"
   ]
  },
  {
   "cell_type": "code",
   "execution_count": 12,
   "metadata": {},
   "outputs": [
    {
     "name": "stdout",
     "output_type": "stream",
     "text": [
      "Epoch 1/100\n",
      "58504/58504 [==============================] - 5s 82us/step - loss: 1.3419 - acc: 0.8912\n",
      "Epoch 2/100\n",
      "58504/58504 [==============================] - 3s 45us/step - loss: 0.8149 - acc: 0.9273\n",
      "Epoch 3/100\n",
      "58504/58504 [==============================] - 3s 43us/step - loss: 0.8079 - acc: 0.9285\n",
      "Epoch 4/100\n",
      "58504/58504 [==============================] - 3s 43us/step - loss: 0.8013 - acc: 0.9287\n",
      "Epoch 5/100\n",
      "58504/58504 [==============================] - 3s 43us/step - loss: 0.8146 - acc: 0.9284\n",
      "Epoch 6/100\n",
      "58504/58504 [==============================] - 3s 44us/step - loss: 0.7981 - acc: 0.9293\n",
      "Epoch 7/100\n",
      "58504/58504 [==============================] - 3s 45us/step - loss: 3.2629 - acc: 0.7752\n",
      "Epoch 8/100\n",
      "58504/58504 [==============================] - 3s 44us/step - loss: 0.8096 - acc: 0.9298\n",
      "Epoch 9/100\n",
      "58504/58504 [==============================] - 3s 45us/step - loss: 0.8018 - acc: 0.9298\n",
      "Epoch 10/100\n",
      "58504/58504 [==============================] - 3s 43us/step - loss: 0.8019 - acc: 0.9299\n",
      "Epoch 11/100\n",
      "58504/58504 [==============================] - 3s 43us/step - loss: 0.7957 - acc: 0.9312\n",
      "Epoch 12/100\n",
      "58504/58504 [==============================] - 3s 43us/step - loss: 0.7943 - acc: 0.9312\n",
      "Epoch 13/100\n",
      "58504/58504 [==============================] - 3s 43us/step - loss: 0.7879 - acc: 0.9308\n",
      "Epoch 14/100\n",
      "58504/58504 [==============================] - 3s 43us/step - loss: 0.8258 - acc: 0.9295\n",
      "Epoch 15/100\n",
      "58504/58504 [==============================] - 3s 44us/step - loss: 1.2862 - acc: 0.9000\n",
      "Epoch 16/100\n",
      "58504/58504 [==============================] - 3s 43us/step - loss: 0.7792 - acc: 0.9324\n",
      "Epoch 17/100\n",
      "58504/58504 [==============================] - 3s 43us/step - loss: 0.7894 - acc: 0.9317\n",
      "Epoch 18/100\n",
      "58504/58504 [==============================] - 3s 43us/step - loss: 0.7801 - acc: 0.9323\n",
      "Epoch 19/100\n",
      "58504/58504 [==============================] - 3s 44us/step - loss: 0.7833 - acc: 0.9327\n",
      "Epoch 20/100\n",
      "58504/58504 [==============================] - 3s 44us/step - loss: 0.7836 - acc: 0.9330\n",
      "Epoch 21/100\n",
      "58504/58504 [==============================] - 3s 43us/step - loss: 0.7843 - acc: 0.9326\n",
      "Epoch 22/100\n",
      "58504/58504 [==============================] - 3s 44us/step - loss: 0.7883 - acc: 0.9325\n",
      "Epoch 23/100\n",
      "58504/58504 [==============================] - 3s 45us/step - loss: 0.7916 - acc: 0.9320\n",
      "Epoch 24/100\n",
      "58504/58504 [==============================] - 3s 45us/step - loss: 0.8434 - acc: 0.9294\n",
      "Epoch 25/100\n",
      "58504/58504 [==============================] - 3s 43us/step - loss: 0.7808 - acc: 0.9338\n",
      "Epoch 26/100\n",
      "58504/58504 [==============================] - 3s 43us/step - loss: 0.7758 - acc: 0.9341\n",
      "Epoch 27/100\n",
      "58504/58504 [==============================] - 3s 44us/step - loss: 0.7811 - acc: 0.9337\n",
      "Epoch 28/100\n",
      "58504/58504 [==============================] - 3s 43us/step - loss: 0.7815 - acc: 0.9339\n",
      "Epoch 29/100\n",
      "58504/58504 [==============================] - 3s 43us/step - loss: 1.0225 - acc: 0.9188\n",
      "Epoch 30/100\n",
      "58504/58504 [==============================] - 3s 44us/step - loss: 0.7856 - acc: 0.9339\n",
      "Epoch 31/100\n",
      "58504/58504 [==============================] - 3s 45us/step - loss: 0.7703 - acc: 0.9348\n",
      "Epoch 32/100\n",
      "58504/58504 [==============================] - 3s 44us/step - loss: 0.7757 - acc: 0.9350\n",
      "Epoch 33/100\n",
      "58504/58504 [==============================] - 3s 43us/step - loss: 1.2090 - acc: 0.9074\n",
      "Epoch 34/100\n",
      "58504/58504 [==============================] - 3s 45us/step - loss: 1.1354 - acc: 0.9119\n",
      "Epoch 35/100\n",
      "58504/58504 [==============================] - 3s 45us/step - loss: 0.7801 - acc: 0.9343\n",
      "Epoch 36/100\n",
      "58504/58504 [==============================] - 3s 45us/step - loss: 0.7806 - acc: 0.9347\n",
      "Epoch 37/100\n",
      "58504/58504 [==============================] - 3s 45us/step - loss: 0.7825 - acc: 0.9346\n",
      "Epoch 38/100\n",
      "58504/58504 [==============================] - 3s 45us/step - loss: 0.7804 - acc: 0.9344\n",
      "Epoch 39/100\n",
      "58504/58504 [==============================] - 3s 43us/step - loss: 0.7830 - acc: 0.9348\n",
      "Epoch 40/100\n",
      "58504/58504 [==============================] - 3s 43us/step - loss: 0.7793 - acc: 0.9349\n",
      "Epoch 41/100\n",
      "58504/58504 [==============================] - 3s 43us/step - loss: 0.7716 - acc: 0.9355\n",
      "Epoch 42/100\n",
      "58504/58504 [==============================] - 3s 43us/step - loss: 0.7698 - acc: 0.9357\n",
      "Epoch 43/100\n",
      "58504/58504 [==============================] - 3s 44us/step - loss: 0.7677 - acc: 0.9363\n",
      "Epoch 44/100\n",
      "58504/58504 [==============================] - 3s 45us/step - loss: 0.7781 - acc: 0.9351\n",
      "Epoch 45/100\n",
      "58504/58504 [==============================] - 3s 44us/step - loss: 0.7693 - acc: 0.9366\n",
      "Epoch 46/100\n",
      "58504/58504 [==============================] - 3s 43us/step - loss: 0.7680 - acc: 0.9364\n",
      "Epoch 47/100\n",
      "58504/58504 [==============================] - 3s 45us/step - loss: 0.7678 - acc: 0.9361\n",
      "Epoch 48/100\n",
      "58504/58504 [==============================] - 3s 44us/step - loss: 0.7595 - acc: 0.9371\n",
      "Epoch 49/100\n",
      "58504/58504 [==============================] - 3s 43us/step - loss: 0.9503 - acc: 0.9251\n",
      "Epoch 50/100\n",
      "58504/58504 [==============================] - 3s 43us/step - loss: 0.7663 - acc: 0.9364\n",
      "Epoch 51/100\n",
      "58504/58504 [==============================] - 3s 44us/step - loss: 0.7704 - acc: 0.9369\n",
      "Epoch 52/100\n",
      "58504/58504 [==============================] - 3s 45us/step - loss: 0.7705 - acc: 0.9374\n",
      "Epoch 53/100\n",
      "58504/58504 [==============================] - 3s 43us/step - loss: 0.7690 - acc: 0.9364\n",
      "Epoch 54/100\n",
      "58504/58504 [==============================] - 3s 44us/step - loss: 0.7785 - acc: 0.9361\n",
      "Epoch 55/100\n",
      "58504/58504 [==============================] - 3s 44us/step - loss: 0.7725 - acc: 0.9369\n",
      "Epoch 56/100\n",
      "58504/58504 [==============================] - 3s 45us/step - loss: 0.7718 - acc: 0.9368\n",
      "Epoch 57/100\n",
      "58504/58504 [==============================] - 3s 44us/step - loss: 0.8369 - acc: 0.9326\n",
      "Epoch 58/100\n",
      "58504/58504 [==============================] - 3s 43us/step - loss: 0.7810 - acc: 0.9361\n",
      "Epoch 59/100\n",
      "58504/58504 [==============================] - 3s 44us/step - loss: 0.7682 - acc: 0.9367\n",
      "Epoch 60/100\n",
      "58504/58504 [==============================] - 3s 43us/step - loss: 0.7704 - acc: 0.9371\n",
      "Epoch 61/100\n",
      "58504/58504 [==============================] - 3s 43us/step - loss: 0.7679 - acc: 0.9369\n",
      "Epoch 62/100\n",
      "58504/58504 [==============================] - 3s 43us/step - loss: 2.0958 - acc: 0.8536\n",
      "Epoch 63/100\n",
      "58504/58504 [==============================] - 3s 44us/step - loss: 1.6997 - acc: 0.8782\n",
      "Epoch 64/100\n",
      "58504/58504 [==============================] - 3s 43us/step - loss: 0.7697 - acc: 0.9370\n",
      "Epoch 65/100\n",
      "58504/58504 [==============================] - 3s 43us/step - loss: 0.7744 - acc: 0.9368\n",
      "Epoch 66/100\n",
      "58504/58504 [==============================] - 3s 43us/step - loss: 0.7627 - acc: 0.9377\n",
      "Epoch 67/100\n",
      "58504/58504 [==============================] - 3s 43us/step - loss: 0.7723 - acc: 0.9371\n",
      "Epoch 68/100\n",
      "58504/58504 [==============================] - 3s 43us/step - loss: 0.7753 - acc: 0.9368\n",
      "Epoch 69/100\n",
      "58504/58504 [==============================] - 3s 43us/step - loss: 0.7650 - acc: 0.9380\n",
      "Epoch 70/100\n",
      "58504/58504 [==============================] - 3s 43us/step - loss: 0.7732 - acc: 0.9371\n",
      "Epoch 71/100\n",
      "58504/58504 [==============================] - 3s 44us/step - loss: 0.9297 - acc: 0.9275\n",
      "Epoch 72/100\n",
      "58504/58504 [==============================] - 3s 45us/step - loss: 0.9436 - acc: 0.9261\n",
      "Epoch 73/100\n",
      "58504/58504 [==============================] - 3s 43us/step - loss: 0.7552 - acc: 0.9384\n",
      "Epoch 74/100\n",
      "58504/58504 [==============================] - 3s 44us/step - loss: 2.0299 - acc: 0.8587\n",
      "Epoch 75/100\n",
      "58504/58504 [==============================] - 3s 44us/step - loss: 1.4279 - acc: 0.8961\n",
      "Epoch 76/100\n",
      "58504/58504 [==============================] - 3s 43us/step - loss: 2.0286 - acc: 0.8582\n",
      "Epoch 77/100\n",
      "58504/58504 [==============================] - 3s 43us/step - loss: 0.7718 - acc: 0.9374\n",
      "Epoch 78/100\n",
      "58504/58504 [==============================] - 3s 43us/step - loss: 0.7772 - acc: 0.9377\n",
      "Epoch 79/100\n",
      "58504/58504 [==============================] - 3s 43us/step - loss: 0.7884 - acc: 0.9366\n",
      "Epoch 80/100\n",
      "58504/58504 [==============================] - 3s 43us/step - loss: 0.7857 - acc: 0.9368\n",
      "Epoch 81/100\n",
      "58504/58504 [==============================] - 3s 43us/step - loss: 0.7835 - acc: 0.9367\n",
      "Epoch 82/100\n",
      "58504/58504 [==============================] - 3s 44us/step - loss: 0.7758 - acc: 0.9373\n",
      "Epoch 83/100\n",
      "58504/58504 [==============================] - 3s 45us/step - loss: 0.7677 - acc: 0.9379\n",
      "Epoch 84/100\n",
      "58504/58504 [==============================] - 3s 44us/step - loss: 0.7642 - acc: 0.9384\n",
      "Epoch 85/100\n",
      "58504/58504 [==============================] - 3s 43us/step - loss: 0.7659 - acc: 0.9384\n",
      "Epoch 86/100\n",
      "58504/58504 [==============================] - 3s 44us/step - loss: 0.7653 - acc: 0.9386\n",
      "Epoch 87/100\n",
      "58504/58504 [==============================] - 3s 45us/step - loss: 0.7693 - acc: 0.9383\n",
      "Epoch 88/100\n",
      "58504/58504 [==============================] - 3s 43us/step - loss: 0.7848 - acc: 0.9369\n",
      "Epoch 89/100\n",
      "58504/58504 [==============================] - 3s 44us/step - loss: 0.7795 - acc: 0.9378\n",
      "Epoch 90/100\n",
      "58504/58504 [==============================] - 3s 45us/step - loss: 1.0368 - acc: 0.9208\n",
      "Epoch 91/100\n",
      "58504/58504 [==============================] - 3s 43us/step - loss: 1.2986 - acc: 0.9052\n",
      "Epoch 92/100\n",
      "58504/58504 [==============================] - 3s 43us/step - loss: 1.7307 - acc: 0.8775\n",
      "Epoch 93/100\n",
      "58504/58504 [==============================] - 3s 44us/step - loss: 2.5769 - acc: 0.8244\n",
      "Epoch 94/100\n",
      "58504/58504 [==============================] - 3s 47us/step - loss: 3.0738 - acc: 0.7932\n",
      "Epoch 95/100\n",
      "58504/58504 [==============================] - 3s 46us/step - loss: 1.9241 - acc: 0.8654\n",
      "Epoch 96/100\n",
      "58504/58504 [==============================] - 3s 43us/step - loss: 3.0567 - acc: 0.7943\n",
      "Epoch 97/100\n",
      "58504/58504 [==============================] - 3s 43us/step - loss: 0.7831 - acc: 0.9373\n",
      "Epoch 98/100\n",
      "58504/58504 [==============================] - 3s 43us/step - loss: 0.8875 - acc: 0.9304\n",
      "Epoch 99/100\n",
      "58504/58504 [==============================] - 3s 43us/step - loss: 0.7568 - acc: 0.9392\n",
      "Epoch 100/100\n",
      "58504/58504 [==============================] - 3s 43us/step - loss: 0.7712 - acc: 0.9379\n"
     ]
    },
    {
     "data": {
      "text/plain": [
       "<keras.callbacks.History at 0x7f185305cc50>"
      ]
     },
     "execution_count": 12,
     "metadata": {},
     "output_type": "execute_result"
    }
   ],
   "source": [
    "model.fit(X_train, y_train, epochs=epochs)#, batch_size=batch_size)"
   ]
  },
  {
   "cell_type": "code",
   "execution_count": 18,
   "metadata": {},
   "outputs": [],
   "source": [
    "pred = model.predict(X_train)"
   ]
  },
  {
   "cell_type": "code",
   "execution_count": 22,
   "metadata": {},
   "outputs": [],
   "source": [
    "bin_pred = Binarizer(threshold=.5).transform(pred)"
   ]
  },
  {
   "cell_type": "code",
   "execution_count": 23,
   "metadata": {},
   "outputs": [
    {
     "data": {
      "text/plain": [
       "0.521891418563923"
      ]
     },
     "execution_count": 23,
     "metadata": {},
     "output_type": "execute_result"
    }
   ],
   "source": [
    "f1 = f1_score(y_train, bin_pred)\n",
    "f1"
   ]
  },
  {
   "cell_type": "code",
   "execution_count": null,
   "metadata": {},
   "outputs": [],
   "source": []
  }
 ],
 "metadata": {
  "kernelspec": {
   "display_name": "Python 3",
   "language": "python",
   "name": "python3"
  },
  "language_info": {
   "codemirror_mode": {
    "name": "ipython",
    "version": 3
   },
   "file_extension": ".py",
   "mimetype": "text/x-python",
   "name": "python",
   "nbconvert_exporter": "python",
   "pygments_lexer": "ipython3",
   "version": "3.6.6"
  }
 },
 "nbformat": 4,
 "nbformat_minor": 2
}
