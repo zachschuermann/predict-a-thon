{
 "cells": [
  {
   "cell_type": "code",
   "execution_count": 1,
   "metadata": {},
   "outputs": [],
   "source": [
    "import pandas as pd\n",
    "import numpy as np\n",
    "import matplotlib.pyplot as plt\n",
    "from sklearn.model_selection import train_test_split\n",
    "from sklearn.preprocessing import LabelEncoder\n",
    "from sklearn.preprocessing import OneHotEncoder\n",
    "from sklearn.preprocessing import Binarizer\n",
    "from sklearn.metrics import f1_score"
   ]
  },
  {
   "cell_type": "code",
   "execution_count": 2,
   "metadata": {},
   "outputs": [],
   "source": [
    "### Constants\n",
    "seed = 69\n",
    "cv_size = .3\n",
    "\n",
    "train = pd.read_csv(\"data/Train.csv\", encoding=\"ISO-8859-1\")\n",
    "test = pd.read_csv(\"data/Test.csv\", encoding=\"ISO-8859-1\")\n",
    "\n",
    "X = train.loc[:, train.columns != 'revenue']\n",
    "y = train[\"revenue\"]\n",
    "\n",
    "# encode string input values as integers\n",
    "features = []\n",
    "encode_cols = [\"browser\", \"operatingSystem\", \"deviceCategory\", \"continent\", \n",
    "              \"subContinent\", \"country\", \"region\", \"metro\", \"city\", \"medium\"]\n",
    "\n",
    "other_cols = [\"visitNumber\", \"isMobile\", \"hits\", \"pageviews\", \"bounces\", \"newVisits\"]\n",
    "\n",
    "# encode string input values as integers\n",
    "encoded_x = None\n",
    "for i in encode_cols:\n",
    "\tlabel_encoder = LabelEncoder()\n",
    "\tfeature = label_encoder.fit_transform(X[i].fillna('0'))\n",
    "\tfeature = feature.reshape(X.shape[0], 1)\n",
    "\tonehot_encoder = OneHotEncoder(sparse=False)\n",
    "\tfeature = onehot_encoder.fit_transform(feature)\n",
    "\tif encoded_x is None:\n",
    "\t\tencoded_x = feature\n",
    "\telse:\n",
    "\t\tencoded_x = np.concatenate((encoded_x, feature), axis=1)\n",
    "# print(\"X shape: \", encoded_x.shape)\n",
    "\n",
    "X = np.concatenate((X[other_cols].fillna(0), encoded_x), axis=1)\n",
    "y = Binarizer().transform(y.values.reshape(-1, 1))\n",
    "X_train, X_cv, y_train, y_cv = train_test_split(X, y, test_size=cv_size, random_state=seed)"
   ]
  },
  {
   "cell_type": "code",
   "execution_count": 4,
   "metadata": {},
   "outputs": [
    {
     "name": "stderr",
     "output_type": "stream",
     "text": [
      "Using TensorFlow backend.\n"
     ]
    }
   ],
   "source": [
    "from keras.models import Sequential\n",
    "from keras.layers import Dense"
   ]
  },
  {
   "cell_type": "code",
   "execution_count": 5,
   "metadata": {},
   "outputs": [
    {
     "name": "stdout",
     "output_type": "stream",
     "text": [
      "(83578, 1173)\n",
      "(83578, 1)\n"
     ]
    }
   ],
   "source": [
    "print(X.shape)\n",
    "print(y.shape)"
   ]
  },
  {
   "cell_type": "code",
   "execution_count": 18,
   "metadata": {},
   "outputs": [],
   "source": [
    "epochs = 100\n",
    "batch_size = 69"
   ]
  },
  {
   "cell_type": "code",
   "execution_count": 19,
   "metadata": {},
   "outputs": [],
   "source": [
    "def create_model():\n",
    "    # create model\n",
    "    model = Sequential()\n",
    "    model.add(Dense(200, input_dim=1173, kernel_initializer='normal', activation='relu'))\n",
    "    model.add(Dense(1, kernel_initializer='normal', activation='sigmoid'))\n",
    "    # Compile model. We use the the logarithmic loss function, and the Adam gradient optimizer.\n",
    "    model.compile(loss='binary_crossentropy', optimizer='adam', metrics=['accuracy'])\n",
    "    return model"
   ]
  },
  {
   "cell_type": "code",
   "execution_count": 20,
   "metadata": {},
   "outputs": [],
   "source": [
    "model = create_model()"
   ]
  },
  {
   "cell_type": "code",
   "execution_count": 21,
   "metadata": {},
   "outputs": [
    {
     "name": "stdout",
     "output_type": "stream",
     "text": [
      "Epoch 1/100\n",
      "58504/58504 [==============================] - 2s 40us/step - loss: 0.1277 - acc: 0.9399\n",
      "Epoch 2/100\n",
      "58504/58504 [==============================] - 2s 37us/step - loss: 0.1116 - acc: 0.9449\n",
      "Epoch 3/100\n",
      "58504/58504 [==============================] - 2s 41us/step - loss: 0.1096 - acc: 0.9458\n",
      "Epoch 4/100\n",
      "58504/58504 [==============================] - 2s 39us/step - loss: 0.1081 - acc: 0.9452\n",
      "Epoch 5/100\n",
      "58504/58504 [==============================] - 2s 37us/step - loss: 0.1075 - acc: 0.9458\n",
      "Epoch 6/100\n",
      "58504/58504 [==============================] - 2s 37us/step - loss: 0.1064 - acc: 0.9473\n",
      "Epoch 7/100\n",
      "58504/58504 [==============================] - 2s 37us/step - loss: 0.1056 - acc: 0.9478\n",
      "Epoch 8/100\n",
      "58504/58504 [==============================] - 2s 37us/step - loss: 0.1054 - acc: 0.9477\n",
      "Epoch 9/100\n",
      "58504/58504 [==============================] - 2s 37us/step - loss: 0.1048 - acc: 0.9478\n",
      "Epoch 10/100\n",
      "58504/58504 [==============================] - 2s 37us/step - loss: 0.1044 - acc: 0.9478\n",
      "Epoch 11/100\n",
      "58504/58504 [==============================] - 2s 37us/step - loss: 0.1040 - acc: 0.9479\n",
      "Epoch 12/100\n",
      "58504/58504 [==============================] - 2s 37us/step - loss: 0.1032 - acc: 0.9483\n",
      "Epoch 13/100\n",
      "58504/58504 [==============================] - 2s 37us/step - loss: 0.1026 - acc: 0.9489\n",
      "Epoch 14/100\n",
      "58504/58504 [==============================] - 2s 37us/step - loss: 0.1023 - acc: 0.9489\n",
      "Epoch 15/100\n",
      "58504/58504 [==============================] - 2s 37us/step - loss: 0.1022 - acc: 0.9490\n",
      "Epoch 16/100\n",
      "58504/58504 [==============================] - 2s 37us/step - loss: 0.1014 - acc: 0.9497\n",
      "Epoch 17/100\n",
      "58504/58504 [==============================] - 2s 37us/step - loss: 0.1014 - acc: 0.9494\n",
      "Epoch 18/100\n",
      "58504/58504 [==============================] - 2s 37us/step - loss: 0.1009 - acc: 0.9498\n",
      "Epoch 19/100\n",
      "58504/58504 [==============================] - 2s 37us/step - loss: 0.1005 - acc: 0.9496\n",
      "Epoch 20/100\n",
      "58504/58504 [==============================] - 2s 37us/step - loss: 0.1002 - acc: 0.9507\n",
      "Epoch 21/100\n",
      "58504/58504 [==============================] - 2s 37us/step - loss: 0.0993 - acc: 0.9505\n",
      "Epoch 22/100\n",
      "58504/58504 [==============================] - 2s 37us/step - loss: 0.0996 - acc: 0.9504\n",
      "Epoch 23/100\n",
      "58504/58504 [==============================] - 2s 37us/step - loss: 0.0989 - acc: 0.9505\n",
      "Epoch 24/100\n",
      "58504/58504 [==============================] - 2s 37us/step - loss: 0.0982 - acc: 0.9517\n",
      "Epoch 25/100\n",
      "58504/58504 [==============================] - 2s 38us/step - loss: 0.0982 - acc: 0.9517\n",
      "Epoch 26/100\n",
      "58504/58504 [==============================] - 2s 38us/step - loss: 0.0977 - acc: 0.9511\n",
      "Epoch 27/100\n",
      "58504/58504 [==============================] - 2s 37us/step - loss: 0.0977 - acc: 0.9510\n",
      "Epoch 28/100\n",
      "58504/58504 [==============================] - 2s 37us/step - loss: 0.0974 - acc: 0.9515\n",
      "Epoch 29/100\n",
      "58504/58504 [==============================] - 2s 37us/step - loss: 0.0972 - acc: 0.9514\n",
      "Epoch 30/100\n",
      "58504/58504 [==============================] - 2s 37us/step - loss: 0.0970 - acc: 0.9522\n",
      "Epoch 31/100\n",
      "58504/58504 [==============================] - 2s 37us/step - loss: 0.0961 - acc: 0.9525\n",
      "Epoch 32/100\n",
      "58504/58504 [==============================] - 2s 37us/step - loss: 0.0962 - acc: 0.9522\n",
      "Epoch 33/100\n",
      "58504/58504 [==============================] - 2s 37us/step - loss: 0.0954 - acc: 0.9524\n",
      "Epoch 34/100\n",
      "58504/58504 [==============================] - 2s 37us/step - loss: 0.0957 - acc: 0.9526\n",
      "Epoch 35/100\n",
      "58504/58504 [==============================] - 2s 37us/step - loss: 0.0950 - acc: 0.9524\n",
      "Epoch 36/100\n",
      "58504/58504 [==============================] - 2s 37us/step - loss: 0.0949 - acc: 0.9527\n",
      "Epoch 37/100\n",
      "58504/58504 [==============================] - 2s 37us/step - loss: 0.0948 - acc: 0.9529\n",
      "Epoch 38/100\n",
      "58504/58504 [==============================] - 2s 37us/step - loss: 0.0947 - acc: 0.9527\n",
      "Epoch 39/100\n",
      "58504/58504 [==============================] - 2s 37us/step - loss: 0.0942 - acc: 0.9533\n",
      "Epoch 40/100\n",
      "58504/58504 [==============================] - 2s 37us/step - loss: 0.0940 - acc: 0.9529\n",
      "Epoch 41/100\n",
      "58504/58504 [==============================] - 2s 37us/step - loss: 0.0941 - acc: 0.9531\n",
      "Epoch 42/100\n",
      "58504/58504 [==============================] - 2s 37us/step - loss: 0.0939 - acc: 0.9532\n",
      "Epoch 43/100\n",
      "58504/58504 [==============================] - 2s 37us/step - loss: 0.0934 - acc: 0.9536\n",
      "Epoch 44/100\n",
      "58504/58504 [==============================] - 2s 37us/step - loss: 0.0936 - acc: 0.9533\n",
      "Epoch 45/100\n",
      "58504/58504 [==============================] - 2s 37us/step - loss: 0.0936 - acc: 0.9528\n",
      "Epoch 46/100\n",
      "58504/58504 [==============================] - 2s 37us/step - loss: 0.0931 - acc: 0.9534\n",
      "Epoch 47/100\n",
      "58504/58504 [==============================] - 2s 37us/step - loss: 0.0928 - acc: 0.9541\n",
      "Epoch 48/100\n",
      "58504/58504 [==============================] - 2s 37us/step - loss: 0.0920 - acc: 0.9545\n",
      "Epoch 49/100\n",
      "58504/58504 [==============================] - 2s 37us/step - loss: 0.0927 - acc: 0.9534\n",
      "Epoch 50/100\n",
      "58504/58504 [==============================] - 2s 37us/step - loss: 0.0923 - acc: 0.9538\n",
      "Epoch 51/100\n",
      "58504/58504 [==============================] - 2s 37us/step - loss: 0.0920 - acc: 0.9543\n",
      "Epoch 52/100\n",
      "58504/58504 [==============================] - 2s 37us/step - loss: 0.0920 - acc: 0.9545\n",
      "Epoch 53/100\n",
      "58504/58504 [==============================] - 2s 37us/step - loss: 0.0912 - acc: 0.9545\n",
      "Epoch 54/100\n",
      "58504/58504 [==============================] - 2s 38us/step - loss: 0.0913 - acc: 0.9548\n",
      "Epoch 55/100\n",
      "58504/58504 [==============================] - 2s 37us/step - loss: 0.0910 - acc: 0.9551\n",
      "Epoch 56/100\n",
      "58504/58504 [==============================] - 2s 37us/step - loss: 0.0912 - acc: 0.9545\n",
      "Epoch 57/100\n",
      "58504/58504 [==============================] - 2s 37us/step - loss: 0.0908 - acc: 0.9552\n",
      "Epoch 58/100\n",
      "58504/58504 [==============================] - 2s 37us/step - loss: 0.0901 - acc: 0.9547\n",
      "Epoch 59/100\n",
      "58504/58504 [==============================] - 2s 37us/step - loss: 0.0902 - acc: 0.9554\n",
      "Epoch 60/100\n",
      "58504/58504 [==============================] - 2s 37us/step - loss: 0.0906 - acc: 0.9554\n",
      "Epoch 61/100\n",
      "58504/58504 [==============================] - 2s 37us/step - loss: 0.0896 - acc: 0.9557\n",
      "Epoch 62/100\n",
      "58504/58504 [==============================] - 2s 37us/step - loss: 0.0898 - acc: 0.9554\n",
      "Epoch 63/100\n",
      "58504/58504 [==============================] - 2s 37us/step - loss: 0.0899 - acc: 0.9556\n",
      "Epoch 64/100\n",
      "58504/58504 [==============================] - 2s 37us/step - loss: 0.0890 - acc: 0.9557\n",
      "Epoch 65/100\n",
      "58504/58504 [==============================] - 2s 37us/step - loss: 0.0897 - acc: 0.9560\n",
      "Epoch 66/100\n",
      "58504/58504 [==============================] - 2s 37us/step - loss: 0.0897 - acc: 0.9549\n",
      "Epoch 67/100\n",
      "58504/58504 [==============================] - 2s 37us/step - loss: 0.0895 - acc: 0.9558\n",
      "Epoch 68/100\n",
      "58504/58504 [==============================] - 2s 37us/step - loss: 0.0890 - acc: 0.9562\n",
      "Epoch 69/100\n",
      "58504/58504 [==============================] - 2s 37us/step - loss: 0.0885 - acc: 0.9568\n",
      "Epoch 70/100\n",
      "58504/58504 [==============================] - 2s 37us/step - loss: 0.0886 - acc: 0.9562\n",
      "Epoch 71/100\n",
      "58504/58504 [==============================] - 2s 37us/step - loss: 0.0887 - acc: 0.9561\n",
      "Epoch 72/100\n",
      "58504/58504 [==============================] - 2s 37us/step - loss: 0.0887 - acc: 0.9563\n",
      "Epoch 73/100\n",
      "58504/58504 [==============================] - 2s 37us/step - loss: 0.0892 - acc: 0.9558\n",
      "Epoch 74/100\n",
      "58504/58504 [==============================] - 2s 37us/step - loss: 0.0882 - acc: 0.9560\n",
      "Epoch 75/100\n",
      "58504/58504 [==============================] - 2s 37us/step - loss: 0.0880 - acc: 0.9564\n",
      "Epoch 76/100\n",
      "58504/58504 [==============================] - 2s 37us/step - loss: 0.0881 - acc: 0.9561\n",
      "Epoch 77/100\n",
      "58504/58504 [==============================] - 2s 37us/step - loss: 0.0880 - acc: 0.9571\n",
      "Epoch 78/100\n",
      "58504/58504 [==============================] - 2s 37us/step - loss: 0.0880 - acc: 0.9564\n",
      "Epoch 79/100\n",
      "58504/58504 [==============================] - 2s 37us/step - loss: 0.0875 - acc: 0.9569\n",
      "Epoch 80/100\n",
      "58504/58504 [==============================] - 2s 37us/step - loss: 0.0874 - acc: 0.9565\n",
      "Epoch 81/100\n",
      "58504/58504 [==============================] - 2s 37us/step - loss: 0.0877 - acc: 0.9570\n",
      "Epoch 82/100\n",
      "58504/58504 [==============================] - 2s 37us/step - loss: 0.0876 - acc: 0.9569\n",
      "Epoch 83/100\n",
      "58504/58504 [==============================] - 2s 37us/step - loss: 0.0875 - acc: 0.9569\n",
      "Epoch 84/100\n",
      "58504/58504 [==============================] - 2s 37us/step - loss: 0.0867 - acc: 0.9578\n",
      "Epoch 85/100\n",
      "58504/58504 [==============================] - 2s 37us/step - loss: 0.0869 - acc: 0.9572\n",
      "Epoch 86/100\n",
      "58504/58504 [==============================] - 2s 37us/step - loss: 0.0865 - acc: 0.9569\n",
      "Epoch 87/100\n",
      "58504/58504 [==============================] - 2s 37us/step - loss: 0.0870 - acc: 0.9568\n",
      "Epoch 88/100\n",
      "58504/58504 [==============================] - 2s 37us/step - loss: 0.0862 - acc: 0.9573\n",
      "Epoch 89/100\n",
      "58504/58504 [==============================] - 2s 37us/step - loss: 0.0862 - acc: 0.9575\n",
      "Epoch 90/100\n",
      "58504/58504 [==============================] - 2s 37us/step - loss: 0.0865 - acc: 0.9570\n",
      "Epoch 91/100\n",
      "58504/58504 [==============================] - 2s 37us/step - loss: 0.0862 - acc: 0.9576\n",
      "Epoch 92/100\n",
      "58504/58504 [==============================] - 2s 37us/step - loss: 0.0862 - acc: 0.9571\n",
      "Epoch 93/100\n",
      "58504/58504 [==============================] - 2s 37us/step - loss: 0.0855 - acc: 0.9578\n",
      "Epoch 94/100\n",
      "58504/58504 [==============================] - 2s 37us/step - loss: 0.0856 - acc: 0.9577\n",
      "Epoch 95/100\n",
      "58504/58504 [==============================] - 2s 37us/step - loss: 0.0853 - acc: 0.9583\n",
      "Epoch 96/100\n",
      "58504/58504 [==============================] - 2s 37us/step - loss: 0.0855 - acc: 0.9572\n",
      "Epoch 97/100\n",
      "58504/58504 [==============================] - 2s 37us/step - loss: 0.0856 - acc: 0.9574\n",
      "Epoch 98/100\n",
      "58504/58504 [==============================] - 2s 37us/step - loss: 0.0863 - acc: 0.9575\n",
      "Epoch 99/100\n",
      "58504/58504 [==============================] - 2s 37us/step - loss: 0.0853 - acc: 0.9577\n",
      "Epoch 100/100\n",
      "58504/58504 [==============================] - 2s 37us/step - loss: 0.0846 - acc: 0.9585\n"
     ]
    },
    {
     "data": {
      "text/plain": [
       "<keras.callbacks.History at 0x7f95d0ea16a0>"
      ]
     },
     "execution_count": 21,
     "metadata": {},
     "output_type": "execute_result"
    }
   ],
   "source": [
    "model.fit(X_train, y_train, epochs=epochs)#, batch_size=batch_size)"
   ]
  },
  {
   "cell_type": "code",
   "execution_count": 22,
   "metadata": {},
   "outputs": [],
   "source": [
    "pred = model.predict(X_cv)"
   ]
  },
  {
   "cell_type": "code",
   "execution_count": 23,
   "metadata": {},
   "outputs": [],
   "source": [
    "bin_pred = Binarizer(threshold=.5).transform(pred)"
   ]
  },
  {
   "cell_type": "code",
   "execution_count": 24,
   "metadata": {},
   "outputs": [
    {
     "data": {
      "text/plain": [
       "0.6594274432379073"
      ]
     },
     "execution_count": 24,
     "metadata": {},
     "output_type": "execute_result"
    }
   ],
   "source": [
    "f1 = f1_score(y_cv, bin_pred)\n",
    "f1"
   ]
  },
  {
   "cell_type": "code",
   "execution_count": null,
   "metadata": {},
   "outputs": [],
   "source": []
  }
 ],
 "metadata": {
  "kernelspec": {
   "display_name": "Python 3",
   "language": "python",
   "name": "python3"
  },
  "language_info": {
   "codemirror_mode": {
    "name": "ipython",
    "version": 3
   },
   "file_extension": ".py",
   "mimetype": "text/x-python",
   "name": "python",
   "nbconvert_exporter": "python",
   "pygments_lexer": "ipython3",
   "version": "3.6.6"
  }
 },
 "nbformat": 4,
 "nbformat_minor": 2
}
